{
 "cells": [
  {
   "cell_type": "markdown",
   "metadata": {
    "slideshow": {
     "slide_type": "slide"
    }
   },
   "source": [
    "# An introduction to solving biological problems with Python\n",
    "\n",
    "## Presenters for 5-6 December 2016\n",
    "- Anne Pajon, CRUK Cambridge Institute"
   ]
  },
  {
   "cell_type": "markdown",
   "metadata": {
    "slideshow": {
     "slide_type": "slide"
    }
   },
   "source": [
    "## Learning objectives"
   ]
  },
  {
   "cell_type": "markdown",
   "metadata": {
    "slideshow": {
     "slide_type": "slide"
    }
   },
   "source": [
    "## Course schedule - day two\n",
    "\n",
    "- 09:45-11:00: Session 2.1 - Functions\n",
    "- 11:00-11:15: *break*\n",
    "- 11:15-12:30: Session 2.2 - Exercices\n",
    "- 12:30-13:30: *lunch break*\n",
    "- 13:30-14:45: Session 2.3 - Files\n",
    "- 14:45-15:00: *break*\n",
    "- 15:00-16:15: Session 2.4 - BioPython"
   ]
  },
  {
   "cell_type": "markdown",
   "metadata": {
    "slideshow": {
     "slide_type": "slide"
    }
   },
   "source": [
    "- We’d like you to follow along with the example code as we go through the material, and attempt the exercises to practice what you’ve learned\n",
    "- Questions are welcome at any point!\n",
    "- If you have specific projects/problems you like to use Python for we are happy to (try to) help during the exercises"
   ]
  },
  {
   "cell_type": "markdown",
   "metadata": {
    "slideshow": {
     "slide_type": "slide"
    }
   },
   "source": [
    "## Course materials\n",
    "\n",
    "- There is a course webpage with links to the materials, example solutions to the exercises etc.:\n",
    "    - http://pycam.github.io\n",
    "- You are encouraged to follow along with the materials\n"
   ]
  },
  {
   "cell_type": "markdown",
   "metadata": {
    "slideshow": {
     "slide_type": "slide"
    }
   },
   "source": [
    "## What we've learned so far\n",
    "\n",
    "- Collections\n",
    "- Conditional execution\n",
    "- Loops\n",
    "- Functions used so far..."
   ]
  },
  {
   "cell_type": "markdown",
   "metadata": {
    "slideshow": {
     "slide_type": "slide"
    }
   },
   "source": [
    "## Collections"
   ]
  },
  {
   "cell_type": "code",
   "execution_count": null,
   "metadata": {
    "collapsed": true,
    "slideshow": {
     "slide_type": "slide"
    }
   },
   "outputs": [],
   "source": [
    "## A tuple - immutable\n",
    "example_tuple = (2,3,4,5)\n",
    "print 'A tuple:', example_tuple\n",
    "print 'First element of tuple:', example_tuple[0]\n",
    "print '----------'\n",
    "\n",
    "## A list\n",
    "example_list = [2,3,4,5]\n",
    "print 'A list:', example_list\n",
    "print 'First element of list:', example_list[0]\n",
    "example_list.append(12)\n",
    "print 'Appended list:', example_list\n",
    "print '----------'"
   ]
  },
  {
   "cell_type": "code",
   "execution_count": null,
   "metadata": {
    "collapsed": true,
    "slideshow": {
     "slide_type": "slide"
    }
   },
   "outputs": [],
   "source": [
    "## String - immutable, tuple of characters\n",
    "text = \"ATGTCATTT\"\n",
    "print 'Here is a string:', text\n",
    "print '----------'"
   ]
  },
  {
   "cell_type": "code",
   "execution_count": 2,
   "metadata": {
    "collapsed": false,
    "slideshow": {
     "slide_type": "slide"
    }
   },
   "outputs": [
    {
     "name": "stdout",
     "output_type": "stream",
     "text": [
      "A set: set([1, 2, 4, 5, 6])\n",
      "----------\n",
      "A dictionary: {'A': 'Adenine', 'C': 'Cytosine', 'T': 'Thymine', 'G': 'Guanine'}\n",
      "Value in dictionary associated to key C: Cytosine\n"
     ]
    }
   ],
   "source": [
    "## A set - unique unordered elements\n",
    "example_set = set([1,2,2,2,2,4,5,6,6,6])\n",
    "print 'A set:', example_set\n",
    "print '----------'\n",
    "\n",
    "## A Dictionary\n",
    "example_dictionary = {\"A\": \"Adenine\", \"C\": \"Cytosine\", \"G\": \"Guanine\", \"T\": \"Thymine\"}\n",
    "print 'A dictionary:', example_dictionary\n",
    "print 'Value in dictionary associated to key C:', example_dictionary['C']"
   ]
  },
  {
   "cell_type": "markdown",
   "metadata": {
    "slideshow": {
     "slide_type": "slide"
    }
   },
   "source": [
    "## Conditional execution"
   ]
  },
  {
   "cell_type": "code",
   "execution_count": 3,
   "metadata": {
    "collapsed": false
   },
   "outputs": [
    {
     "name": "stdout",
     "output_type": "stream",
     "text": [
      "Is 2 < 5? True\n",
      "Is 2 == 5? False\n",
      "Is 2 < 5 and 2 > 1? True\n",
      "x is equal to 2\n"
     ]
    }
   ],
   "source": [
    "x = 2\n",
    "print 'Is 2 < 5?', x < 5\n",
    "print 'Is 2 == 5?', x == 5\n",
    "print 'Is 2 < 5 and 2 > 1?', (x < 5) & (x > 1)\n",
    "\n",
    "if x == 2:\n",
    "    print 'x is equal to 2'"
   ]
  },
  {
   "cell_type": "markdown",
   "metadata": {
    "slideshow": {
     "slide_type": "slide"
    }
   },
   "source": [
    "## Loops"
   ]
  },
  {
   "cell_type": "code",
   "execution_count": 4,
   "metadata": {
    "collapsed": false
   },
   "outputs": [
    {
     "name": "stdout",
     "output_type": "stream",
     "text": [
      "Looping over a list ['A', 'C', 'A', 'T', 'G']\n",
      "The element in loop is: A\n",
      "The element in loop is: C\n",
      "The element in loop is: A\n",
      "The element in loop is: T\n",
      "The element in loop is: G\n",
      "----------\n",
      "Looping over a list through list indices [0, 1, 2, 3, 4]\n",
      "The index in loop is 0 and its corresponding element is in the list A\n",
      "The index in loop is 1 and its corresponding element is in the list C\n",
      "The index in loop is 2 and its corresponding element is in the list A\n",
      "The index in loop is 3 and its corresponding element is in the list T\n",
      "The index in loop is 4 and its corresponding element is in the list G\n",
      "----------\n",
      "A list ['A', 'C', 'A', 'T', 'G']\n",
      "A found, the corresponding value is Adenine for item at position 0\n",
      "Other value for item at position 1\n",
      "A found, the corresponding value is Adenine for item at position 2\n",
      "T found, the corresponding value is Thymine for item at position 3\n",
      "Other value for item at position 4\n"
     ]
    }
   ],
   "source": [
    "example_list = ['A', 'C', 'A', 'T', 'G']\n",
    "example_dictionary = {\"A\": \"Adenine\", \"C\": \"Cytosine\", \"G\": \"Guanine\", \"T\": \"Thymine\"}\n",
    "\n",
    "print 'Looping over a list', example_list\n",
    "for element in example_list:\n",
    "    print \"The element in loop is:\", element\n",
    "print '----------'\n",
    "\n",
    "## Looping through list indices\n",
    "print 'Looping over a list through list indices', range(len(example_list))\n",
    "for index in range(len(example_list)):\n",
    "    print \"The index in loop is\", index, 'and its corresponding element is in the list', example_list[index]\n",
    "print '----------'\n",
    "\n",
    "## Looping using enumerate\n",
    "print 'A list', example_list\n",
    "for index, value in enumerate(example_list):\n",
    "    if value == 'A':\n",
    "        print value, \"found, the corresponding value is\", example_dictionary[value], 'for item at position', index\n",
    "    elif value == 'T':\n",
    "        print value, \"found, the corresponding value is\", example_dictionary[value], 'for item at position', index\n",
    "    else:\n",
    "        print \"Other value\", 'for item at position', index"
   ]
  },
  {
   "cell_type": "markdown",
   "metadata": {
    "slideshow": {
     "slide_type": "slide"
    }
   },
   "source": [
    "## Functions used so far..."
   ]
  },
  {
   "cell_type": "code",
   "execution_count": 5,
   "metadata": {
    "collapsed": false
   },
   "outputs": [
    {
     "name": "stdout",
     "output_type": "stream",
     "text": [
      "There are 5 elements in the list ['A', 'C', 'A', 'T', 'G']\n",
      "['ATG', 'TCA', 'CCG', 'GGC']\n"
     ]
    }
   ],
   "source": [
    "example_list = ['A', 'C', 'A', 'T', 'G']\n",
    "print 'There are', len(example_list), 'elements in the list', example_list\n",
    "print \"ATG TCA CCG GGC\".split()"
   ]
  }
 ],
 "metadata": {
  "celltoolbar": "Slideshow",
  "kernelspec": {
   "display_name": "Python 2",
   "language": "python",
   "name": "python2"
  },
  "language_info": {
   "codemirror_mode": {
    "name": "ipython",
    "version": 2
   },
   "file_extension": ".py",
   "mimetype": "text/x-python",
   "name": "python",
   "nbconvert_exporter": "python",
   "pygments_lexer": "ipython2",
   "version": "2.7.12"
  }
 },
 "nbformat": 4,
 "nbformat_minor": 0
}
