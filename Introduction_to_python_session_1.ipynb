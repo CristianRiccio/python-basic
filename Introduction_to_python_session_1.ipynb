{
 "metadata": {
  "name": "Introduction_to_python_session_1"
 },
 "nbformat": 3,
 "nbformat_minor": 0,
 "worksheets": [
  {
   "cells": [
    {
     "cell_type": "heading",
     "level": 1,
     "metadata": {},
     "source": [
      "Python basics"
     ]
    },
    {
     "cell_type": "heading",
     "level": 2,
     "metadata": {},
     "source": [
      "Getting started"
     ]
    },
    {
     "cell_type": "markdown",
     "metadata": {},
     "source": [
      "Starting the interactive interpreter:\n",
      "\n",
      "<img src=\"files/python_shell.png\">\n",
      "\n",
      "- From now on, what you see in the code boxes below can be typed directly into the interpreter.\n",
      "- You can of course also save your code in a file and run it (and we will be doing so later on), but for now we will just use the interpreter while we learn some python basics"
     ]
    },
    {
     "cell_type": "heading",
     "level": 2,
     "metadata": {},
     "source": [
      "Printing values"
     ]
    },
    {
     "cell_type": "code",
     "collapsed": true,
     "input": [
      "print \"Hello from python!\""
     ],
     "language": "python",
     "metadata": {},
     "outputs": []
    },
    {
     "cell_type": "code",
     "collapsed": false,
     "input": [
      "print 34"
     ],
     "language": "python",
     "metadata": {},
     "outputs": []
    },
    {
     "cell_type": "code",
     "collapsed": false,
     "input": [
      "print 2 + 3"
     ],
     "language": "python",
     "metadata": {},
     "outputs": []
    },
    {
     "cell_type": "code",
     "collapsed": false,
     "input": [
      "print \"The answer\", 42"
     ],
     "language": "python",
     "metadata": {},
     "outputs": []
    },
    {
     "cell_type": "code",
     "collapsed": false,
     "input": [
      "print 3.14159 # Anything after the '#' symbol is a comment, not Python code"
     ],
     "language": "python",
     "metadata": {},
     "outputs": []
    },
    {
     "cell_type": "markdown",
     "metadata": {},
     "source": [
      "Be very careful with spaces at the *beginning* of code lines:"
     ]
    },
    {
     "cell_type": "code",
     "collapsed": false,
     "input": [
      " print \"This gives an error\" # Note the leading space"
     ],
     "language": "python",
     "metadata": {},
     "outputs": []
    },
    {
     "cell_type": "code",
     "collapsed": false,
     "input": [
      "print    \"This does work\" # Internal spaces are OK"
     ],
     "language": "python",
     "metadata": {},
     "outputs": []
    },
    {
     "cell_type": "heading",
     "level": 2,
     "metadata": {},
     "source": [
      "Using variables"
     ]
    },
    {
     "cell_type": "markdown",
     "metadata": {},
     "source": [
      "- A variable is a name to track an individual item of data, often amongst many others\n",
      "- The term _variable_ is apt because we can keep the same name but vary the value of the data it refers to\n",
      "- A variable can be assigned to a simple value or the outcome of a more complex expression\n",
      "- A variable is assigned to a value using the <tt>=</tt> operator\n",
      "- Note that this is different from mathematical equality (which we will come to later...)"
     ]
    },
    {
     "cell_type": "code",
     "collapsed": false,
     "input": [
      "x = 3\n",
      "print x"
     ],
     "language": "python",
     "metadata": {},
     "outputs": []
    },
    {
     "cell_type": "code",
     "collapsed": false,
     "input": [
      "x = 2 + 2\n",
      "print x"
     ],
     "language": "python",
     "metadata": {},
     "outputs": []
    },
    {
     "cell_type": "code",
     "collapsed": false,
     "input": [
      "x = \"TCCGAGAATATCCGT\"\n",
      "print x"
     ],
     "language": "python",
     "metadata": {},
     "outputs": []
    },
    {
     "cell_type": "code",
     "collapsed": false,
     "input": [
      "x = 7\n",
      "y = 2\n",
      "print x + y\n",
      "x = 1\n",
      "print x + y  # x has a new value"
     ],
     "language": "python",
     "metadata": {},
     "outputs": []
    },
    {
     "cell_type": "markdown",
     "metadata": {},
     "source": [
      "In the interactive interpreter you don't have to <tt>print</tt> everything, if you type a variable name (or just a value), the interpreter will automatically print out what python thinks the value is (this is not the case if your code is in a file)"
     ]
    },
    {
     "cell_type": "code",
     "collapsed": false,
     "input": [
      "3 + 4"
     ],
     "language": "python",
     "metadata": {},
     "outputs": []
    },
    {
     "cell_type": "code",
     "collapsed": false,
     "input": [
      "x"
     ],
     "language": "python",
     "metadata": {},
     "outputs": []
    },
    {
     "cell_type": "code",
     "collapsed": false,
     "input": [
      "x = 5\n",
      "3 * x"
     ],
     "language": "python",
     "metadata": {},
     "outputs": []
    },
    {
     "cell_type": "markdown",
     "metadata": {},
     "source": [
      "Variables can be used on the right hand side of an assignment as well. Here they will be evaluated before the value is assigned to the variable on the left hand side."
     ]
    },
    {
     "cell_type": "code",
     "collapsed": false,
     "input": [
      "y = x * 3   # y is set to x multiplied by 3\n",
      "y"
     ],
     "language": "python",
     "metadata": {},
     "outputs": []
    },
    {
     "cell_type": "markdown",
     "metadata": {},
     "source": [
      "You can use the current value of a variable itself in an assignment"
     ]
    },
    {
     "cell_type": "code",
     "collapsed": false,
     "input": [
      "y = y + 1   # y is set to its old value plus one\n",
      "y"
     ],
     "language": "python",
     "metadata": {},
     "outputs": []
    },
    {
     "cell_type": "markdown",
     "metadata": {},
     "source": [
      "In fact this is such a common task that there are special operators that will do this implicitly (more on these later)"
     ]
    },
    {
     "cell_type": "code",
     "collapsed": false,
     "input": [
      "y += 1      # y is increased by 1\n",
      "y"
     ],
     "language": "python",
     "metadata": {},
     "outputs": []
    },
    {
     "cell_type": "heading",
     "level": 2,
     "metadata": {},
     "source": [
      "Simple data types"
     ]
    },
    {
     "cell_type": "markdown",
     "metadata": {},
     "source": [
      "Python, like computers in general, treats different types of data differently. Python has 6 main basic data types."
     ]
    },
    {
     "cell_type": "heading",
     "level": 4,
     "metadata": {},
     "source": [
      "Booleans"
     ]
    },
    {
     "cell_type": "markdown",
     "metadata": {},
     "source": [
      "Boolean values represent truth or falsehood, as used in logic operations, for example. Not surprisingly, there are only two values, and in Python they are called True and False."
     ]
    },
    {
     "cell_type": "code",
     "collapsed": false,
     "input": [
      "a = True\n",
      "b = False\n",
      "print b"
     ],
     "language": "python",
     "metadata": {},
     "outputs": []
    },
    {
     "cell_type": "heading",
     "level": 4,
     "metadata": {},
     "source": [
      "Integers"
     ]
    },
    {
     "cell_type": "markdown",
     "metadata": {},
     "source": [
      "Integers represent whole numbers, as you would use when counting items, and can be positive or negative."
     ]
    },
    {
     "cell_type": "code",
     "collapsed": false,
     "input": [
      "x = -7\n",
      "y = 123\n",
      "print x, y"
     ],
     "language": "python",
     "metadata": {},
     "outputs": []
    },
    {
     "cell_type": "heading",
     "level": 4,
     "metadata": {},
     "source": [
      "Floating point numbers"
     ]
    },
    {
     "cell_type": "markdown",
     "metadata": {},
     "source": [
      "Floating point numbers, often simply referred to as _floats_, are numbers expressed in the decimal system, i.e. 2.1, 999.998, -0.000004 etc. The value 2.0 would also be interpreted as a floating point number, but the value 2, without the decimal point will not; it will be interpreted as an integer."
     ]
    },
    {
     "cell_type": "code",
     "collapsed": false,
     "input": [
      "i = 3.14159\n",
      "j = -42.3\n",
      "print i * j"
     ],
     "language": "python",
     "metadata": {},
     "outputs": []
    },
    {
     "cell_type": "markdown",
     "metadata": {},
     "source": [
      "Floating point numbers can also carry an 'e' suffix that states which power of ten they operate at."
     ]
    },
    {
     "cell_type": "code",
     "collapsed": false,
     "input": [
      "k = 1.5e3   # One thousand five hundred\n",
      "l = 3e-2    # Three hundreths\n",
      "print k\n",
      "print l"
     ],
     "language": "python",
     "metadata": {},
     "outputs": []
    },
    {
     "cell_type": "heading",
     "level": 4,
     "metadata": {},
     "source": [
      "Complex numbers"
     ]
    },
    {
     "cell_type": "markdown",
     "metadata": {},
     "source": [
      "Complex numbers have separate real and imaginary parts which you would normally write in the form \"a+b<I>i</I>\" (mathematical notation) or \"a+b<I>j</I>\" (engineering notation). Python syntax follows the engineering style and the real and imaginary parts can themselves be integer or floating point:"
     ]
    },
    {
     "cell_type": "code",
     "collapsed": false,
     "input": [
      "m = 3+4j\n",
      "n = 1.2-5.8j\n",
      "print m + n"
     ],
     "language": "python",
     "metadata": {},
     "outputs": []
    },
    {
     "cell_type": "heading",
     "level": 4,
     "metadata": {},
     "source": [
      "Strings"
     ]
    },
    {
     "cell_type": "markdown",
     "metadata": {},
     "source": [
      "Strings represent text, i.e. strings of characters. They can be delimited by single quotes (\u2018) or double quotes (\u201c), but you have to use the same delimiter at both ends. Unlike some programming languages, such as Perl, there is no difference between the two types of quote, although using one type does allow the other type to appear inside the string as a regular character."
     ]
    },
    {
     "cell_type": "code",
     "collapsed": false,
     "input": [
      "s = \"Ala\"\n",
      "t = 'Arg'\n",
      "u = \"It's a string with apostrophes\"\n",
      "v = \"\"\"A string that extends\n",
      "over multiple lines\"\"\"\n",
      "print v"
     ],
     "language": "python",
     "metadata": {},
     "outputs": []
    },
    {
     "cell_type": "heading",
     "level": 4,
     "metadata": {},
     "source": [
      "The None object"
     ]
    },
    {
     "cell_type": "markdown",
     "metadata": {},
     "source": [
      "The None object is special built-in value which can be thought of as representing nothingness or that something is undefined. For example, it can be used to indicate that a variable exists, but has not yet been set to anything specific."
     ]
    },
    {
     "cell_type": "code",
     "collapsed": false,
     "input": [
      "z = None\n",
      "print z"
     ],
     "language": "python",
     "metadata": {},
     "outputs": []
    },
    {
     "cell_type": "markdown",
     "metadata": {},
     "source": [
      "You can check what type python thinks an expression is with the <tt>type</tt> function"
     ]
    },
    {
     "cell_type": "code",
     "collapsed": false,
     "input": [
      "print \"a is\", type(a)\n",
      "print \"x is\", type(x)\n",
      "print \"i is\", type(i)\n",
      "print \"m is\", type(m)\n",
      "print \"s is\", type(s)\n",
      "print \"z is\", type(z)"
     ],
     "language": "python",
     "metadata": {},
     "outputs": []
    },
    {
     "cell_type": "heading",
     "level": 2,
     "metadata": {},
     "source": [
      "Arithmetic"
     ]
    },
    {
     "cell_type": "markdown",
     "metadata": {},
     "source": [
      "Python mostly uses a similar syntax to several other computer languages for performing numerical arithmetic:"
     ]
    },
    {
     "cell_type": "code",
     "collapsed": false,
     "input": [
      "x + y     # addition\n",
      "x - y     # subtraction\n",
      "x * y     # multiplication\n",
      "x / y     # division\n",
      "x // y    # floored division\n",
      "x % y     # remainder of x/y\n",
      "x ** y    # exponentiation; raise to the power\n",
      "pow(x, y) # another way to do exponentiation\n",
      "\n",
      "x = 3.14159\n",
      "y = 2.71828\n",
      "print ((x + 1) - y) * 4"
     ],
     "language": "python",
     "metadata": {},
     "outputs": []
    },
    {
     "cell_type": "markdown",
     "metadata": {},
     "source": [
      "As usual in maths, division and multiplication have higher precedence than addition and subtraction, but arithmetic expressions can be grouped using parentheses to override the default precedence"
     ]
    },
    {
     "cell_type": "code",
     "collapsed": false,
     "input": [
      "print 13 * (2 + 5)  # 91\n",
      "print (13 * 2) + 5  # 31\n",
      "print 13 * 2 + 5    # 31 again, since \"*\" has higher precedence than \"+\""
     ],
     "language": "python",
     "metadata": {},
     "outputs": []
    },
    {
     "cell_type": "markdown",
     "metadata": {},
     "source": [
      "You can mix numerical data types in arithmetic expressions and Python will apply rules as to the type of the result\n"
     ]
    },
    {
     "cell_type": "code",
     "collapsed": false,
     "input": [
      "print 13 + 5.0  # Result will be floating point\n",
      "print 13 + 5    # Result will be integer"
     ],
     "language": "python",
     "metadata": {},
     "outputs": []
    },
    {
     "cell_type": "markdown",
     "metadata": {},
     "source": [
      "In Python version 2, be careful when dividing integers because the result will also be an integer, which might not be the expected result. If at least one floating point number is involved then the result will be floating point."
     ]
    },
    {
     "cell_type": "code",
     "collapsed": false,
     "input": [
      "print 13 / 5     # The integer 2\n",
      "print 13 / 5.0   # Floating point 2.6"
     ],
     "language": "python",
     "metadata": {},
     "outputs": []
    },
    {
     "cell_type": "markdown",
     "metadata": {},
     "source": [
      "You can force Python to convert one data type to another by _casting_ an expression explicitly, using helpfully named functions: <tt>float</tt>, <tt>int</tt>, <tt>str</tt> etc."
     ]
    },
    {
     "cell_type": "code",
     "collapsed": false,
     "input": [
      "float(3) + float(7)"
     ],
     "language": "python",
     "metadata": {},
     "outputs": []
    },
    {
     "cell_type": "code",
     "collapsed": false,
     "input": [
      "int(3.14159) + 1"
     ],
     "language": "python",
     "metadata": {},
     "outputs": []
    },
    {
     "cell_type": "markdown",
     "metadata": {},
     "source": [
      "There are a few shortcut assignment statements to make modifying variables directly faster to type"
     ]
    },
    {
     "cell_type": "code",
     "collapsed": false,
     "input": [
      "x = 3\n",
      "x += 1\n",
      "x"
     ],
     "language": "python",
     "metadata": {},
     "outputs": []
    },
    {
     "cell_type": "code",
     "collapsed": false,
     "input": [
      "y = 10\n",
      "y *= x\n",
      "y"
     ],
     "language": "python",
     "metadata": {},
     "outputs": []
    },
    {
     "cell_type": "markdown",
     "metadata": {},
     "source": [
      "__Exercises__\n",
      "\n",
      "In the interpreter:\n",
      "\n",
      "- Print out the message \"Hello world!\"\n",
      "- Create a variable and assign it the string value of your first name, print out a message that includes this variable\n",
      "- Assign numerical values to 2 variables and then calculate and print out their mean"
     ]
    },
    {
     "cell_type": "heading",
     "level": 2,
     "metadata": {},
     "source": [
      "Collection data types"
     ]
    },
    {
     "cell_type": "markdown",
     "metadata": {},
     "source": [
      "As well as the basic data types we introduced above, very commonly you will want to store and perform operations on collections of values, and Python has several _data structures_ that you can use to do this. The general idea is that you can place several items into a single collection and then refer to that collection as a whole. Which type of data structure you will use will depend on what problem you are trying to solve."
     ]
    },
    {
     "cell_type": "heading",
     "level": 4,
     "metadata": {},
     "source": [
      "Tuples"
     ]
    },
    {
     "cell_type": "markdown",
     "metadata": {},
     "source": [
      "- Can contain any number of items\n",
      "- Can contain different types of items\n",
      "- __Cannot__ be altered once created (they are immutable)\n",
      "- Items have a particular order\n",
      "\n",
      "Tuples are created by using round brackets around the items the contain:"
     ]
    },
    {
     "cell_type": "code",
     "collapsed": false,
     "input": [
      "a = (123, 54, 92) # Tuple containing 4 integers\n",
      "b = ()            # Empty tuple\n",
      "c = (\"Ala\",)      # Tuple of a single string (note the trailing \",\")\n",
      "d = (2, 3, False, \"Arg\", None) # A tuple of mixed data types\n",
      "\n",
      "print d"
     ],
     "language": "python",
     "metadata": {},
     "outputs": []
    },
    {
     "cell_type": "markdown",
     "metadata": {},
     "source": [
      "You can of course use variables in tuples"
     ]
    },
    {
     "cell_type": "code",
     "collapsed": false,
     "input": [
      "x = 1.2\n",
      "y = -0.3\n",
      "z = 0.9\n",
      "t = (x, y, z)\n",
      "\n",
      "print t"
     ],
     "language": "python",
     "metadata": {},
     "outputs": []
    },
    {
     "cell_type": "markdown",
     "metadata": {},
     "source": [
      "Tuples can be _packed_ and _unpacked_ with a convenient syntax"
     ]
    },
    {
     "cell_type": "code",
     "collapsed": false,
     "input": [
      "t = 2, 3, 4 # Tuple packing: creates a tuple\n",
      "print t\n",
      "x, y, z = t # Tuple unpacking: extracts the items\n",
      "print z"
     ],
     "language": "python",
     "metadata": {},
     "outputs": []
    },
    {
     "cell_type": "markdown",
     "metadata": {},
     "source": [
      "Tuples _cannot_ be altered once they have been constructed"
     ]
    },
    {
     "cell_type": "code",
     "collapsed": false,
     "input": [
      "t[1] = 4  # Fails!"
     ],
     "language": "python",
     "metadata": {},
     "outputs": []
    },
    {
     "cell_type": "heading",
     "level": 4,
     "metadata": {},
     "source": [
      "Lists"
     ]
    },
    {
     "cell_type": "markdown",
     "metadata": {},
     "source": [
      "- Can contain any number of items\n",
      "- Can contain different types of items\n",
      "- __Can__ be altered once created (they are mutable)\n",
      "- Items have a particular order\n",
      "\n",
      "Lists are created with square brackets around their items:"
     ]
    },
    {
     "cell_type": "code",
     "collapsed": false,
     "input": [
      "a = [1, 3, 9]\n",
      "b = [\"ATG\"]      # A list with one item\n",
      "c = []           # An empty list\n",
      "\n",
      "print b"
     ],
     "language": "python",
     "metadata": {},
     "outputs": []
    },
    {
     "cell_type": "markdown",
     "metadata": {},
     "source": [
      "Lists and tuples can contain other list and tuples, or any other type of collection:"
     ]
    },
    {
     "cell_type": "code",
     "collapsed": false,
     "input": [
      "matrix = [[1, 0], [0, 2]]\n",
      "print matrix"
     ],
     "language": "python",
     "metadata": {},
     "outputs": []
    },
    {
     "cell_type": "markdown",
     "metadata": {},
     "source": [
      "You can convert between tuples and lists with the <tt>tuple</tt> and <tt>list</tt> functions. Note that these create a new collection with the same items, and leave the original unaffected."
     ]
    },
    {
     "cell_type": "code",
     "collapsed": false,
     "input": [
      "a = (1, 4, 9, 16)     # A tuple of numbers\n",
      "b = ['G','C','A','T'] # A list of letters\n",
      "\n",
      "l = list(a)   # Make a list based on a tuple \n",
      "print l\n",
      "\n",
      "t = tuple(b)  # Make a list based on a list\n",
      "print t"
     ],
     "language": "python",
     "metadata": {},
     "outputs": []
    },
    {
     "cell_type": "markdown",
     "metadata": {},
     "source": [
      "__Manipulating tuples and lists:__ these two types of collection can be used in very similar ways"
     ]
    },
    {
     "cell_type": "code",
     "collapsed": false,
     "input": [
      "t = (123, 54, 92, 87, 33)\n",
      "x = [123, 54, 92, 87, 33]"
     ],
     "language": "python",
     "metadata": {},
     "outputs": []
    },
    {
     "cell_type": "markdown",
     "metadata": {},
     "source": [
      "Index access: you can access single elements of the collection using their positional _index_, note that the first element is at index 0. Negative indices count backwards from the end."
     ]
    },
    {
     "cell_type": "code",
     "collapsed": false,
     "input": [
      "print t[0]   # First item\n",
      "print t[2]\n",
      "print x[-1]  # Last item"
     ],
     "language": "python",
     "metadata": {},
     "outputs": []
    },
    {
     "cell_type": "markdown",
     "metadata": {},
     "source": [
      "Slices: you can also access a range of items from inside lists and tuples. Note that the slice notation <tt>[a:b]</tt> includes positions from <tt>a</tt> up to __but not including__ <tt>b</tt>."
     ]
    },
    {
     "cell_type": "code",
     "collapsed": false,
     "input": [
      "print t[1:3]  # Items from index 1 and 2\n",
      "print x[2:]   # Items from index 2 onwards\n",
      "print x[:-1]  # Items up to, but not uncluding, the last\n",
      "print x[:]    # A copy of the list"
     ],
     "language": "python",
     "metadata": {},
     "outputs": []
    },
    {
     "cell_type": "markdown",
     "metadata": {},
     "source": [
      "You can check if a value is in a tuple or list with the <tt>in</tt> operator, and you can negate this with <tt>not</tt>"
     ]
    },
    {
     "cell_type": "code",
     "collapsed": false,
     "input": [
      "print 123 in x\n",
      "print 234 in t\n",
      "print 999 not in x"
     ],
     "language": "python",
     "metadata": {},
     "outputs": []
    },
    {
     "cell_type": "markdown",
     "metadata": {},
     "source": [
      "Useful functions and methods"
     ]
    },
    {
     "cell_type": "code",
     "collapsed": false,
     "input": [
      "print \"length of t:\", len(t)\n",
      "print \"number of 33s in x:\", x.count(33)"
     ],
     "language": "python",
     "metadata": {},
     "outputs": []
    },
    {
     "cell_type": "markdown",
     "metadata": {},
     "source": [
      "You can modify the contents of a list"
     ]
    },
    {
     "cell_type": "code",
     "collapsed": false,
     "input": [
      "print x\n",
      "x[2] = 33\n",
      "print x"
     ],
     "language": "python",
     "metadata": {},
     "outputs": []
    },
    {
     "cell_type": "markdown",
     "metadata": {},
     "source": [
      "Remember that tuples cannot be modified (only created in their entirity)"
     ]
    },
    {
     "cell_type": "code",
     "collapsed": false,
     "input": [
      "t[2] = 33"
     ],
     "language": "python",
     "metadata": {},
     "outputs": []
    },
    {
     "cell_type": "markdown",
     "metadata": {},
     "source": [
      "You can add elements to the end of a list with <tt>append</tt>"
     ]
    },
    {
     "cell_type": "code",
     "collapsed": false,
     "input": [
      "x.append(101)\n",
      "print x"
     ],
     "language": "python",
     "metadata": {},
     "outputs": []
    },
    {
     "cell_type": "markdown",
     "metadata": {},
     "source": [
      "or insert values at arbitrary positions with <tt>insert</tt>, but you have to supply the desired position as well as the new value"
     ]
    },
    {
     "cell_type": "code",
     "collapsed": false,
     "input": [
      "x.insert(3, 1111)\n",
      "print x"
     ],
     "language": "python",
     "metadata": {},
     "outputs": []
    },
    {
     "cell_type": "markdown",
     "metadata": {},
     "source": [
      "You can remove values with <tt>remove</tt>"
     ]
    },
    {
     "cell_type": "code",
     "collapsed": false,
     "input": [
      "x.remove(123)\n",
      "print x"
     ],
     "language": "python",
     "metadata": {},
     "outputs": []
    },
    {
     "cell_type": "markdown",
     "metadata": {},
     "source": [
      "and delete values by index with <tt>del</tt>"
     ]
    },
    {
     "cell_type": "code",
     "collapsed": false,
     "input": [
      "print x\n",
      "del x[0]\n",
      "print x"
     ],
     "language": "python",
     "metadata": {},
     "outputs": []
    },
    {
     "cell_type": "markdown",
     "metadata": {},
     "source": [
      "You can also extract the an element of a list with <tt>pop</tt>, thus the list is shorted. Note that without a specified index <tt>pop()</tt> removes and gives back the last item."
     ]
    },
    {
     "cell_type": "code",
     "collapsed": false,
     "input": [
      "print x\n",
      "\n",
      "y = x.pop(1)  # Remove and give back item at index 1\n",
      "print y, x\n",
      "\n",
      "z = x.pop()   # Remove and give back last item\n",
      "print z, x"
     ],
     "language": "python",
     "metadata": {},
     "outputs": []
    },
    {
     "cell_type": "markdown",
     "metadata": {},
     "source": [
      "It's often useful to be able to combine arrays together, which can be done with <tt>extend</tt> (as <tt>append</tt> would add the whole list as a single element in the list)"
     ]
    },
    {
     "cell_type": "code",
     "collapsed": false,
     "input": [
      "a = [1,2,3]\n",
      "b = [4,5,6]\n",
      "a.extend(b)\n",
      "print a"
     ],
     "language": "python",
     "metadata": {},
     "outputs": []
    },
    {
     "cell_type": "markdown",
     "metadata": {},
     "source": [
      "The plus symbol \"<tt>+</tt>\" is shorthand for the <tt>extend</tt> operation:"
     ]
    },
    {
     "cell_type": "code",
     "collapsed": false,
     "input": [
      "a = [1,2,3]\n",
      "b = [4,5,6]\n",
      "a = a + b\n",
      "print a"
     ],
     "language": "python",
     "metadata": {},
     "outputs": []
    },
    {
     "cell_type": "markdown",
     "metadata": {},
     "source": [
      "Slice syntax can be used to assign sub-regions of a list"
     ]
    },
    {
     "cell_type": "code",
     "collapsed": false,
     "input": [
      "a[1:3] = [9, 9, 9]\n",
      "print a"
     ],
     "language": "python",
     "metadata": {},
     "outputs": []
    },
    {
     "cell_type": "markdown",
     "metadata": {},
     "source": [
      "You can change the order of elements in a list"
     ]
    },
    {
     "cell_type": "code",
     "collapsed": false,
     "input": [
      "a = [1, 3, 5, 4, 2]\n",
      "a.reverse()\n",
      "print a\n",
      "a.sort()\n",
      "print a"
     ],
     "language": "python",
     "metadata": {},
     "outputs": []
    },
    {
     "cell_type": "markdown",
     "metadata": {},
     "source": [
      "Note that both of these change the list, if you want a sorted copy of the list while leaving the original untouched, use <tt>sorted</tt>"
     ]
    },
    {
     "cell_type": "code",
     "collapsed": false,
     "input": [
      "a = [2, 5, 7, 1]\n",
      "b = sorted(a)\n",
      "print a\n",
      "print b"
     ],
     "language": "python",
     "metadata": {},
     "outputs": []
    },
    {
     "cell_type": "markdown",
     "metadata": {},
     "source": [
      "__Exercises__"
     ]
    },
    {
     "cell_type": "heading",
     "level": 4,
     "metadata": {},
     "source": [
      "Strings\n",
      "\n",
      "\n"
     ]
    },
    {
     "cell_type": "markdown",
     "metadata": {},
     "source": [
      "Strings are a lot like tuples of characters, and individual characters and substrings can be accessed and manipulated using similar operations"
     ]
    },
    {
     "cell_type": "code",
     "collapsed": false,
     "input": [
      "text = \"Hello world!\"\n",
      "print text[0]\n",
      "print text[-2]\n",
      "print text[0:5]\n",
      "print \"world\" in text\n",
      "print \"hello\" in text"
     ],
     "language": "python",
     "metadata": {},
     "outputs": []
    },
    {
     "cell_type": "markdown",
     "metadata": {},
     "source": [
      "There are also some useful extra functions for strings"
     ]
    },
    {
     "cell_type": "code",
     "collapsed": false,
     "input": [],
     "language": "python",
     "metadata": {},
     "outputs": []
    },
    {
     "cell_type": "heading",
     "level": 4,
     "metadata": {},
     "source": [
      "Sets"
     ]
    },
    {
     "cell_type": "markdown",
     "metadata": {},
     "source": [
      "- Sets contain items without repeats\n",
      "- The items in a set do not have an order\n",
      "- Sets cannot contain items which can be internally modified (e.g. lists and dictionaries)"
     ]
    },
    {
     "cell_type": "code",
     "collapsed": false,
     "input": [
      "l = [1,2,3,2,3] # List of 5 values\n",
      "s = set(l)      # Set of 3 unique values\n",
      "print s\n",
      "e = set()       # Empty set\n",
      "print e"
     ],
     "language": "python",
     "metadata": {},
     "outputs": []
    },
    {
     "cell_type": "markdown",
     "metadata": {},
     "source": [
      "Sets have similarities with lists and tuples and you can use many of the same operators and functions, except they are inherently unordered, so they don't have an index, and can only contain _unique_ values, so adding a value already in the set will have no effect"
     ]
    },
    {
     "cell_type": "code",
     "collapsed": false,
     "input": [
      "print s\n",
      "print \"number in set:\", len(s)\n",
      "s.add(4)\n",
      "print s\n",
      "s.add(3)"
     ],
     "language": "python",
     "metadata": {},
     "outputs": []
    },
    {
     "cell_type": "markdown",
     "metadata": {},
     "source": [
      "You can remove specific elements from the set, and you can <tt>pop</tt> off a value, but the value selected will be arbitrary"
     ]
    },
    {
     "cell_type": "code",
     "collapsed": false,
     "input": [
      "s.remove(3)\n",
      "print s\n",
      "e = s.pop()\n",
      "print s"
     ],
     "language": "python",
     "metadata": {},
     "outputs": []
    },
    {
     "cell_type": "markdown",
     "metadata": {},
     "source": [
      "You can do all the expected logical operations on sets, such as taking the union or intersection of 2 sets with the <tt>|</tt> _or_ and <tt>&</tt> _and_ operators "
     ]
    },
    {
     "cell_type": "code",
     "collapsed": false,
     "input": [
      "s1 = set([2, 4, 6, 8, 10])\n",
      "s2 = set([4,5,6,7])\n",
      "\n",
      "print \"Union:\", s1 | s2\n",
      "print \"Intersection:\", s1 & s2"
     ],
     "language": "python",
     "metadata": {},
     "outputs": []
    },
    {
     "cell_type": "heading",
     "level": 4,
     "metadata": {},
     "source": [
      "Dictionaries"
     ]
    },
    {
     "cell_type": "markdown",
     "metadata": {},
     "source": [
      "- Contain a mapping of keys to values (like a word and its corresponding definition in a dictionary)\n",
      "- The keys of a dictionary are unique, i.e. the do not repeat\n",
      "- The values of a dictionary can be of any data type\n",
      "- The keys of a dictionary cannot be an internally modifiable type (e.g. lists)\n",
      "- Dictionaries do not store data in any particular order\n"
     ]
    },
    {
     "cell_type": "code",
     "collapsed": false,
     "input": [
      "dna = {\"A\": \"Adenine\", \"C\": \"Cytosine\", \"G\": \"Guanine\", \"T\": \"Thymine\"}\n",
      "print dna"
     ],
     "language": "python",
     "metadata": {},
     "outputs": []
    },
    {
     "cell_type": "markdown",
     "metadata": {},
     "source": [
      "You can access values in a dictionary using the key inside square brackets"
     ]
    },
    {
     "cell_type": "code",
     "collapsed": false,
     "input": [
      "print \"A represents\", dna[\"A\"]\n",
      "print \"G represents\", dna[\"G\"]"
     ],
     "language": "python",
     "metadata": {},
     "outputs": []
    },
    {
     "cell_type": "markdown",
     "metadata": {},
     "source": [
      "An error is triggered if a key is absent from the dictionary:"
     ]
    },
    {
     "cell_type": "code",
     "collapsed": false,
     "input": [
      "print \"What about N?\", dna[\"N\"]"
     ],
     "language": "python",
     "metadata": {},
     "outputs": []
    },
    {
     "cell_type": "markdown",
     "metadata": {},
     "source": [
      "You can access values safely with the <tt>get</tt> method, which gives back <tt>None</tt> if the key is absent and you can also supply a default value:"
     ]
    },
    {
     "cell_type": "code",
     "collapsed": false,
     "input": [
      "print \"What about N?\", dna.get(\"N\")\n",
      "print \"With a default value:\", dna.get(\"N\", \"unknown\")"
     ],
     "language": "python",
     "metadata": {},
     "outputs": []
    },
    {
     "cell_type": "markdown",
     "metadata": {},
     "source": [
      "You can check if a key is in a dictionary with the <tt>in</tt> operator, and you can negate this with <tt>not</tt>"
     ]
    },
    {
     "cell_type": "code",
     "collapsed": false,
     "input": [
      "\"T\" in dna"
     ],
     "language": "python",
     "metadata": {},
     "outputs": []
    },
    {
     "cell_type": "code",
     "collapsed": false,
     "input": [
      "\"Y\" not in dna"
     ],
     "language": "python",
     "metadata": {},
     "outputs": []
    },
    {
     "cell_type": "markdown",
     "metadata": {},
     "source": [
      "The <tt>len()</tt> function gives back the number of (key, value) pairs in the dictionary:"
     ]
    },
    {
     "cell_type": "code",
     "collapsed": false,
     "input": [
      "print len(dna)"
     ],
     "language": "python",
     "metadata": {},
     "outputs": []
    },
    {
     "cell_type": "markdown",
     "metadata": {},
     "source": [
      "You can introduce new entries in the dictionary by assigning a value with a new key:"
     ]
    },
    {
     "cell_type": "code",
     "collapsed": false,
     "input": [
      "dna['Y'] = 'Pyrimidine'\n",
      "print dna"
     ],
     "language": "python",
     "metadata": {},
     "outputs": []
    },
    {
     "cell_type": "markdown",
     "metadata": {},
     "source": [
      "You can change the value for an existing key by reassigning it:"
     ]
    },
    {
     "cell_type": "code",
     "collapsed": false,
     "input": [
      "dna['Y'] = 'Cytosine or Thymine'\n",
      "print dna"
     ],
     "language": "python",
     "metadata": {},
     "outputs": []
    },
    {
     "cell_type": "markdown",
     "metadata": {},
     "source": [
      "You can delete entries from the dictionary:"
     ]
    },
    {
     "cell_type": "code",
     "collapsed": false,
     "input": [
      "del dna['Y']\n",
      "print dna"
     ],
     "language": "python",
     "metadata": {},
     "outputs": []
    },
    {
     "cell_type": "markdown",
     "metadata": {},
     "source": [
      "You can get a list of all the keys (in arbitrary order) using the inbuilt <tt>.keys()</tt> function"
     ]
    },
    {
     "cell_type": "code",
     "collapsed": false,
     "input": [
      "k = dna.keys()\n",
      "print k"
     ],
     "language": "python",
     "metadata": {},
     "outputs": []
    },
    {
     "cell_type": "markdown",
     "metadata": {},
     "source": [
      "And equivalently get a list of the values:"
     ]
    },
    {
     "cell_type": "code",
     "collapsed": false,
     "input": [
      "v = dna.values()\n",
      "print v"
     ],
     "language": "python",
     "metadata": {},
     "outputs": []
    },
    {
     "cell_type": "markdown",
     "metadata": {},
     "source": [
      "And a list of tuples containing <tt>(key, value)</tt> pairs:"
     ]
    },
    {
     "cell_type": "code",
     "collapsed": false,
     "input": [
      "i = dna.items()\n",
      "print i"
     ],
     "language": "python",
     "metadata": {},
     "outputs": []
    }
   ],
   "metadata": {}
  }
 ]
}