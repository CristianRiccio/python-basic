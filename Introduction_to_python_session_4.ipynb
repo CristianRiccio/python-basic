{
 "metadata": {
  "name": "Introduction_to_python_session_4"
 },
 "nbformat": 3,
 "nbformat_minor": 0,
 "worksheets": [
  {
   "cells": [
    {
     "cell_type": "heading",
     "level": 1,
     "metadata": {},
     "source": [
      "Files"
     ]
    },
    {
     "cell_type": "heading",
     "level": 2,
     "metadata": {},
     "source": [
      "File objects"
     ]
    },
    {
     "cell_type": "markdown",
     "metadata": {},
     "source": [
      "Opening:"
     ]
    },
    {
     "cell_type": "code",
     "collapsed": false,
     "input": [
      "path = \"datafile.txt\"\n",
      "fileObj = open( path )"
     ],
     "language": "python",
     "metadata": {},
     "outputs": []
    },
    {
     "cell_type": "markdown",
     "metadata": {},
     "source": [
      "File modes:"
     ]
    },
    {
     "cell_type": "code",
     "collapsed": false,
     "input": [
      "open( \"myfile.txt\", \"r\" ) # open for reading, default\n"
     ],
     "language": "python",
     "metadata": {},
     "outputs": []
    },
    {
     "cell_type": "code",
     "collapsed": false,
     "input": [
      "open( \"myfile.txt\", \"w\" ) # open for writing (existing files will be overwritten)"
     ],
     "language": "python",
     "metadata": {},
     "outputs": []
    },
    {
     "cell_type": "code",
     "collapsed": false,
     "input": [
      "open( \"myfile.txt\", \"a\" ) # open for appending"
     ],
     "language": "python",
     "metadata": {},
     "outputs": []
    },
    {
     "cell_type": "markdown",
     "metadata": {},
     "source": [
      "Mode modifiers:"
     ]
    },
    {
     "cell_type": "raw",
     "metadata": {},
     "source": [
      "\"b\": binary mode, e.g. \"rb\". No translation for end-of-line chanracters to platform specific setting value.\n",
      "\"U\": universal new line mode, e.g. \"rU\". Present end-of-line as \"\\n\" no matter where the file was written."
     ]
    },
    {
     "cell_type": "markdown",
     "metadata": {},
     "source": [
      "Closing:"
     ]
    },
    {
     "cell_type": "code",
     "collapsed": false,
     "input": [
      "fileObj.close()"
     ],
     "language": "python",
     "metadata": {},
     "outputs": []
    },
    {
     "cell_type": "markdown",
     "metadata": {},
     "source": [
      "Reading files:"
     ]
    },
    {
     "cell_type": "code",
     "collapsed": false,
     "input": [
      "fileObj = open( \"datafile.txt\" )\n",
      "print fileObj.read() # everything\n",
      "fileObj.close()"
     ],
     "language": "python",
     "metadata": {},
     "outputs": []
    },
    {
     "cell_type": "code",
     "collapsed": false,
     "input": [
      "# one line at a time\n",
      "fileObj = open( \"datafile.txt\" )\n",
      "print \"1st line: %r\" % fileObj.readline()\n",
      "print \"2nd line: %r\" % fileObj.readline()\n",
      "print \"3rd line: %r\" % fileObj.readline()\n",
      "print \"4th line: %r\" % fileObj.readline()\n",
      "fileObj.close()"
     ],
     "language": "python",
     "metadata": {},
     "outputs": []
    },
    {
     "cell_type": "code",
     "collapsed": false,
     "input": [
      "# all lines\n",
      "fileObj = open( \"datafile.txt\" )\n",
      "print fileObj.readlines()\n",
      "\n",
      "fileObj.close()"
     ],
     "language": "python",
     "metadata": {},
     "outputs": []
    },
    {
     "cell_type": "code",
     "collapsed": false,
     "input": [
      "# as an iterable\n",
      "fileObj = open( \"datafile.txt\" )\n",
      "\n",
      "for ( i, line ) in enumerate( fileObj, start = 1 ):\n",
      "    print \"%s: %r\" % ( i, line )\n",
      "\n",
      "fileObj.close()"
     ],
     "language": "python",
     "metadata": {},
     "outputs": []
    },
    {
     "cell_type": "heading",
     "level": 3,
     "metadata": {},
     "source": [
      "The with statement"
     ]
    },
    {
     "cell_type": "markdown",
     "metadata": {},
     "source": [
      "It is important that files are closed after they are no longer required, but writing ``filObj.close()`` is tedious. An alternative syntax is the ``with`` statement:"
     ]
    },
    {
     "cell_type": "code",
     "collapsed": false,
     "input": [
      "# fileObj will be closed when leaving the block\n",
      "with open( \"datafile.txt\" ) as fileObj:\n",
      "    for ( i, line ) in enumerate( fileObj, start = 1 ):\n",
      "        print \"%s: %r\" % ( i, line )\n",
      "        "
     ],
     "language": "python",
     "metadata": {},
     "outputs": []
    },
    {
     "cell_type": "heading",
     "level": 2,
     "metadata": {},
     "source": [
      "Exercises"
     ]
    },
    {
     "cell_type": "markdown",
     "metadata": {},
     "source": [
      "1. Open a file for writing, and write your name into it.\n",
      "2. Write a Python version of the UNIX ``cat`` command that just prints it input onto its output. For convenience, make it accept a single argument, denoting a file where input should be read. The following command should work and produce identical output:\n",
      "\n",
      "* ``cat.py < my.name`` # read from standard input\n",
      "* ``cat.py my.name`` # read from a file\n",
      "\n",
      "**Hint**: standard input and standard output filehandles are available as ``sys.stdin`` and ``sys.stdout`` after importing the ``sys`` module."
     ]
    },
    {
     "cell_type": "heading",
     "level": 2,
     "metadata": {},
     "source": [
      "Data formats"
     ]
    },
    {
     "cell_type": "markdown",
     "metadata": {},
     "source": [
      "Fixed width (or columns):"
     ]
    },
    {
     "cell_type": "raw",
     "metadata": {},
     "source": [
      "ATOM    473  N   SER A  92      10.056   6.423   5.078  1.00  0.73           N  \n",
      "ATOM    474  CA  SER A  92      10.391   7.707   5.748  1.00  0.87           C  \n",
      "ATOM    475  C   SER A  92      11.422   7.439   6.842  1.00  0.94           C  \n",
      "ATOM    476  O   SER A  92      12.423   8.118   6.941  1.00  1.07           O "
     ]
    },
    {
     "cell_type": "markdown",
     "metadata": {},
     "source": [
      "Delimited:"
     ]
    },
    {
     "cell_type": "raw",
     "metadata": {},
     "source": [
      "X 169008682 1 111267453 1.0976\n",
      "2 8265484 5 69763543 4.9825\n",
      "MT 10924 MT 81934 7.2357\n",
      "3 127 8 10908776 1.2509"
     ]
    },
    {
     "cell_type": "markdown",
     "metadata": {},
     "source": [
      "Structured (or mark-up):"
     ]
    },
    {
     "cell_type": "raw",
     "metadata": {},
     "source": [
      "<PDBx:atom_site id=\"16809\">\n",
      "         <PDBx:Cartn_x>-5.882</PDBx:Cartn_x>\n",
      "         <PDBx:Cartn_y>-7.295</PDBx:Cartn_y>\n",
      "         <PDBx:Cartn_z>0.189</PDBx:Cartn_z>\n",
      "         <PDBx:label_asym_id>B</PDBx:label_asym_id>\n",
      "         <PDBx:label_atom_id>N</PDBx:label_atom_id>\n",
      "         <PDBx:label_comp_id>GLY</PDBx:label_comp_id>\n",
      "         <PDBx:label_entity_id>1</PDBx:label_entity_id>\n",
      "      </PDBx:atom_site>"
     ]
    },
    {
     "cell_type": "heading",
     "level": 2,
     "metadata": {},
     "source": [
      "Delimited files"
     ]
    },
    {
     "cell_type": "heading",
     "level": 4,
     "metadata": {},
     "source": [
      "Read delimited files"
     ]
    },
    {
     "cell_type": "code",
     "collapsed": false,
     "input": [
      "def readListFile(fileName, converters, delimiter = \" \"):\n",
      "    dataList = []\n",
      "    fileObj = open(fileName, 'rU')\n",
      "    header = fileObj.readline() # Extract first line\n",
      "\n",
      "    # Loop through remaining lines\n",
      "    for line in fileObj:\n",
      "        data = line.rstrip().split( delimiter )\n",
      "\n",
      "        for ( index, datum ) in enumerate( data ):\n",
      "          convertFunc = converters[index]\n",
      "     \n",
      "          if convertFunc:\n",
      "            data[index] = convertFunc( data[ index ] )\n",
      "\n",
      "        dataList.append(data)\n",
      "   \n",
      "    fileObj.close()\n",
      "    return dataList"
     ],
     "language": "python",
     "metadata": {},
     "outputs": []
    },
    {
     "cell_type": "code",
     "collapsed": false,
     "input": [
      "print readListFile( \"mydata.txt\", converters = ( None, None, None ) )"
     ],
     "language": "python",
     "metadata": {},
     "outputs": []
    },
    {
     "cell_type": "code",
     "collapsed": false,
     "input": [
      "mydata = readListFile( \"mydata.txt\", converters = ( int, str, float ) )\n",
      "print mydata"
     ],
     "language": "python",
     "metadata": {},
     "outputs": []
    },
    {
     "cell_type": "markdown",
     "metadata": {},
     "source": [
      "This is such a common task that it is available in the standard Python library ``csv`` module. It is very flexible, but does not support automatic conversions."
     ]
    },
    {
     "cell_type": "code",
     "collapsed": false,
     "input": [
      "import csv\n",
      "with open( \"mydata.txt\", \"rb\" ) as fileObj:\n",
      "    fileObj.readline() # Remove header\n",
      "    reader = csv.reader( fileObj, delimiter = \" \" ) # delimiter defaults to \",\"\n",
      "    print list( reader )"
     ],
     "language": "python",
     "metadata": {},
     "outputs": []
    },
    {
     "cell_type": "code",
     "collapsed": false,
     "input": [
      "# Read from list\n",
      "with open( \"mydata.txt\", \"rb\" ) as fileObj:\n",
      "    data = fileObj.readlines()\n",
      "\n",
      "import csv\n",
      "reader = csv.reader( data, delimiter = \" \" )\n",
      "print list( reader )"
     ],
     "language": "python",
     "metadata": {},
     "outputs": []
    },
    {
     "cell_type": "code",
     "collapsed": false,
     "input": [
      "# Read in as dictionary\n",
      "with open( \"mydata.txt\", \"rb\" ) as fileObj:\n",
      "    reader = csv.DictReader( fileObj, delimiter = \" \" ) # do no remove header\n",
      "    print list( reader )"
     ],
     "language": "python",
     "metadata": {},
     "outputs": []
    },
    {
     "cell_type": "heading",
     "level": 4,
     "metadata": {},
     "source": [
      "Write delimited files"
     ]
    },
    {
     "cell_type": "code",
     "collapsed": false,
     "input": [
      "def writeListFile(fileName, data, headings, formats, separator=' '):\n",
      "\n",
      "    if len(data[0]) != len(headings):\n",
      "        print \"Headings length does not match input list\"\n",
      "        return\n",
      "    \n",
      "    if len(formats) != len(headings):\n",
      "        print \"Formats length does not match input list\"\n",
      "        return\n",
      "\n",
      "    fileObj = open(fileName, 'w') # Should really check more\n",
      "  \n",
      "    line = separator.join(headings)\n",
      "    fileObj.write('! %s\\n' % line)\n",
      "\n",
      "    for record in data:\n",
      "        line = separator.join( [ f % r  for ( f, r ) in zip( formats, record ) ] )\n",
      "        fileObj.write('%s\\n' % line)\n",
      "\n",
      "    fileObj.close()"
     ],
     "language": "python",
     "metadata": {},
     "outputs": []
    },
    {
     "cell_type": "code",
     "collapsed": false,
     "input": [
      "writeListFile(\n",
      "    fileName = \"mywriter.txt\",\n",
      "    data = mydata,\n",
      "    headings = ( \"Index\", \"Organism\", \"Score\" ), \n",
      "    formats = ( \"%d\", \"%s\", \"%.2f\" ),\n",
      "    )\n",
      "\n",
      "with open( \"mywriter.txt\" ) as fileObj:\n",
      "    print fileObj.read()\n",
      "    "
     ],
     "language": "python",
     "metadata": {},
     "outputs": []
    },
    {
     "cell_type": "code",
     "collapsed": false,
     "input": [
      "# Using the csv module\n",
      "import csv\n",
      "\n",
      "with open( \"csvdata.csv\", \"wb\" ) as fileObj:\n",
      "    writer = csv.writer( fileObj )\n",
      "    writer.writerow( [ \"Index\", \"Organism\", \"Score\" ] ) # write header\n",
      "\n",
      "    for record in mydata:\n",
      "        writer.writerow( record )\n",
      "\n",
      "# Note that data types are converted to string\n",
      "fileObj = open( \"csvdata.csv\", \"rb\" )\n",
      "reader = csv.reader( fileObj )\n",
      "print list( reader )\n",
      "fileObj.close()"
     ],
     "language": "python",
     "metadata": {},
     "outputs": []
    },
    {
     "cell_type": "heading",
     "level": 2,
     "metadata": {},
     "source": [
      "Exercises"
     ]
    },
    {
     "cell_type": "markdown",
     "metadata": {},
     "source": [
      "1. Write a program that finds whether an individual sample is available in the *1000 genomes* project. A snapshot of the *1000 genomes* data is available as ``1000genomes.csv.gz``. The program should take an identifier on the command line, and print \"Found\" or \"Not found\" to the terminal. **Hint**: use ``GzipFile`` from the ``gzip`` package to open a compressed file directly.\n",
      "2. Write a program that takes a file containing sample accession numbers and writes out a csv-file containing the accession number and a boolean value whether it is in the *1000genomes* data or not. **Hint**: preprocess the *1000genomes* data into a data structure that allows quick membership tests."
     ]
    },
    {
     "cell_type": "heading",
     "level": 2,
     "metadata": {},
     "source": [
      "Fixed format files"
     ]
    },
    {
     "cell_type": "markdown",
     "metadata": {},
     "source": [
      "In a fixed format file, a fixed set of columns contain the same data:"
     ]
    },
    {
     "cell_type": "raw",
     "metadata": {},
     "source": [
      "          1         2         3         4         5         6         7  \n",
      "01234567890123456789012345678901234567890123456789012345678901234567890123456789\n",
      "ATOM    473  N   SER A  92      10.056   6.423   5.078  1.00  0.73           N  "
     ]
    },
    {
     "cell_type": "markdown",
     "metadata": {},
     "source": [
      "This makes it easy to \"grab\" the columns of interest, by simply slicing the corresponding columns from the line:"
     ]
    },
    {
     "cell_type": "code",
     "collapsed": false,
     "input": [
      "line = \"ATOM    473  N   SER A  92      10.056   6.423   5.078  1.00  0.73           N  \"\n",
      "print line[30:38]"
     ],
     "language": "python",
     "metadata": {},
     "outputs": []
    },
    {
     "cell_type": "markdown",
     "metadata": {},
     "source": [
      "A huge problem with fixed format files is that a value can \"overflow\" the field, and can either invalidate the record, or corrupt the whole file. Fixed format files tend to be old file formats that are still in use. An important one is the PDB-format to represent molecular structures. A simple parser would be:"
     ]
    },
    {
     "cell_type": "code",
     "collapsed": false,
     "input": [
      "def readPDB(fileName):\n",
      "    \n",
      "    atoms = []\n",
      "    \n",
      "    for line in open( fileName ):\n",
      "        if line[:6] == \"ATOM  \":\n",
      "            atoms.append(\n",
      "                ( float( line[30:38] ), float( line[38:46] ), float( line[46:54] ) )\n",
      "                )\n",
      "    \n",
      "    return atoms"
     ],
     "language": "python",
     "metadata": {},
     "outputs": []
    },
    {
     "cell_type": "code",
     "collapsed": false,
     "input": [
      "def calcCentroid(atoms):\n",
      "    \n",
      "    natoms = len( atoms )\n",
      "    \n",
      "    if natoms == 0:\n",
      "        return ( 0, 0, 0 )\n",
      "    \n",
      "    xsum = ysum = zsum = 0\n",
      "    \n",
      "    for ( x, y, z ) in atoms:\n",
      "        xsum += x\n",
      "        ysum += y\n",
      "        zsum += z\n",
      "        \n",
      "    return ( xsum / natoms, ysum / natoms, zsum / natoms )"
     ],
     "language": "python",
     "metadata": {},
     "outputs": []
    },
    {
     "cell_type": "heading",
     "level": 2,
     "metadata": {},
     "source": [
      "XML files"
     ]
    },
    {
     "cell_type": "code",
     "collapsed": false,
     "input": [
      "def printPubmedAbstract(xmlFile):\n",
      "    \n",
      "    from xml.etree import cElementTree as ElementTree\n",
      "    tree = ElementTree.parse(xmlFile)\n",
      "    root = tree.getroot()\n",
      "\n",
      "    citationElem = root.find('PubmedArticle/MedlineCitation')\n",
      "    pmid = citationElem.findtext('PMID')\n",
      "    articleElem = citationElem.find('Article')\n",
      "    journalElem = articleElem.find('Journal')\n",
      "    journalTitle = journalElem.findtext('Title')\n",
      "    journalYear = journalElem.findtext('JournalIssue/PubDate/Year')\n",
      "    articleTitle = articleElem.findtext('ArticleTitle')\n",
      "    articleAbstract = articleElem.findtext('Abstract/AbstractText')\n",
      "\n",
      "    print 'PMID = %s' % pmid\n",
      "    print 'journalYear = %s' % journalYear\n",
      "    print 'journalTitle = \"%s\"' % journalTitle\n",
      "    print 'articleTitle = \"%s\"' % articleTitle\n",
      "    print 'articleAbstract = \"%s\"' % articleAbstract\n",
      "    print"
     ],
     "language": "python",
     "metadata": {},
     "outputs": []
    },
    {
     "cell_type": "code",
     "collapsed": false,
     "input": [
      "printPubmedAbstract( \"pubmed.xml\" )"
     ],
     "language": "python",
     "metadata": {},
     "outputs": []
    },
    {
     "cell_type": "heading",
     "level": 2,
     "metadata": {},
     "source": [
      "Python file library"
     ]
    },
    {
     "cell_type": "markdown",
     "metadata": {},
     "source": [
      "os:\n",
      "\n",
      "\tchdir(path) : change the current working directory to be path\n",
      "\tgetcwd() : return the current working directory\n",
      "    listdir(path) : returns a list of files/directories in the directory path\n",
      "    mkdir(path) : create the directory path\n",
      "    rmdir(path) : remove the directory path\n",
      "\tremove(path) : remove the file path\n",
      "\trename(src, dst) : move the file/directory from src to dst\n",
      "\n",
      "os.path:\n",
      "\n",
      "\texists(path) : returns whether path exists\n",
      "\tisfile(path) : returns whether path is a \u201cregular\u201d file (as opposed to a directory)\n",
      "\tisdir(path) : returns whether path is a directory\n",
      "\tislink(path) : returns whether path is a symbolic link\n",
      "\tjoin(*paths) : joins the paths together into one long path\n",
      "\tdirname(path) : returns directory containing the path\n",
      "\tbasename(path) : returns the path minus the dirname(path) in front\n",
      "\tsplit(path) : returns (dirname(path), basename(path))"
     ]
    },
    {
     "cell_type": "code",
     "collapsed": false,
     "input": [
      "import os.path\n",
      "os.path.join( \"home\", \"test\", \"mydoc.txt\" )\n",
      "# home/test/mydoc.txt - Unix\n",
      "# home\\test\\mydoc.txt - Windows"
     ],
     "language": "python",
     "metadata": {},
     "outputs": []
    },
    {
     "cell_type": "heading",
     "level": 2,
     "metadata": {},
     "source": [
      "System calls"
     ]
    },
    {
     "cell_type": "markdown",
     "metadata": {},
     "source": [
      "It is possible to run external programs from Python, and capture the output. "
     ]
    },
    {
     "cell_type": "code",
     "collapsed": false,
     "input": [
      "import subprocess\n",
      "\n",
      "out = subprocess.check_output( [ \"fortune\" ] )\n",
      "print out"
     ],
     "language": "python",
     "metadata": {},
     "outputs": []
    },
    {
     "cell_type": "markdown",
     "metadata": {},
     "source": [
      "This allows getting output from a program and processing it with Python. More advanced uses would allow chaining a set of programs and calling one with the output of another. For more information, check the ``subprocess`` module."
     ]
    },
    {
     "cell_type": "heading",
     "level": 2,
     "metadata": {},
     "source": [
      "Exercises"
     ]
    },
    {
     "cell_type": "markdown",
     "metadata": {},
     "source": [
      "1. Print the contents of the user's home directory.\n",
      "2. For each entry, print its type, e.g. ``file``, ``dictionary`` or ``link``.\n",
      "3. Print the name of each ``file`` the ``~/bin`` folder, replacing its extension (everything after the ``.`` character) with ``file``. If it has no extension, just append ``.file``.\n",
      "4. Write a script that runs the UNIX command ls to get a list the files in the current directory, then prints out all upper case versions of all the file names."
     ]
    },
    {
     "cell_type": "heading",
     "level": 2,
     "metadata": {},
     "source": [
      "Examples"
     ]
    },
    {
     "cell_type": "heading",
     "level": 4,
     "metadata": {},
     "source": [
      "Recursive file search"
     ]
    },
    {
     "cell_type": "code",
     "collapsed": false,
     "input": [
      "import os\n",
      "\n",
      "def findFiles(directory, suffix):\n",
      "\n",
      "    files = []\n",
      "    dirfiles = os.listdir(directory)\n",
      "    \n",
      "    for dirfile in dirfiles:\n",
      "        fullfile = os.path.join(directory, dirfile)\n",
      "\n",
      "        if os.path.isdir(fullfile):\n",
      "            # fullfile is a directory, so recurse into that\n",
      "            files.extend(findFiles(fullfile, suffix))\n",
      "\n",
      "        elif dirfile.endswith(suffix):\n",
      "            # fullfile is a normal file, and with correct suffix\n",
      "            files.append(fullfile)\n",
      "\n",
      "    return files"
     ],
     "language": "python",
     "metadata": {},
     "outputs": []
    },
    {
     "cell_type": "heading",
     "level": 4,
     "metadata": {},
     "source": [
      "Recursive delete"
     ]
    },
    {
     "cell_type": "code",
     "collapsed": false,
     "input": [
      "import os\n",
      "\n",
      "def removeFiles(directory, suffix):\n",
      "\n",
      "    dirfiles = os.listdir(directory)\n",
      "\n",
      "    for dirfile in dirfiles:\n",
      "        fullfile = os.path.join(directory, dirfile)\n",
      "\n",
      "        if os.path.isdir(fullfile):\n",
      "            # fullfile is a directory, so recurse into that\n",
      "            removeFiles(fullfile, suffix)\n",
      "\n",
      "        elif dirfile.endswith(suffix):\n",
      "            # fullfile is a normal file, and with correct suffix\n",
      "            os.remove(fullfile)"
     ],
     "language": "python",
     "metadata": {},
     "outputs": []
    },
    {
     "cell_type": "heading",
     "level": 2,
     "metadata": {},
     "source": [
      "High-level file operation"
     ]
    },
    {
     "cell_type": "markdown",
     "metadata": {},
     "source": [
      "The Python Standard library provides a lot of useful functions for file manipulation. E.g. recursively deleting a directory is simply ``shutil.rmtree( dirname )``. Here is the help-page for the command."
     ]
    },
    {
     "cell_type": "code",
     "collapsed": false,
     "input": [
      "import shutil\n",
      "print shutil.rmtree.__doc__"
     ],
     "language": "python",
     "metadata": {},
     "outputs": []
    },
    {
     "cell_type": "markdown",
     "metadata": {},
     "source": [
      "Further useful functions from this module are ``copy`` and ``copytree``."
     ]
    },
    {
     "cell_type": "markdown",
     "metadata": {},
     "source": [
      "**Note**: to delete a file, use ``os.remove``. To remove a directory that is empty, use ``os.rmdir``."
     ]
    },
    {
     "cell_type": "heading",
     "level": 2,
     "metadata": {},
     "source": [
      "Examples"
     ]
    },
    {
     "cell_type": "heading",
     "level": 3,
     "metadata": {},
     "source": [
      "FASTA files"
     ]
    },
    {
     "cell_type": "code",
     "collapsed": false,
     "input": [
      "with open( \"glpa.fa\" ) as fileObj:\n",
      "    print fileObj.read()"
     ],
     "language": "python",
     "metadata": {},
     "outputs": []
    },
    {
     "cell_type": "heading",
     "level": 4,
     "metadata": {},
     "source": [
      "Writing FASTA files"
     ]
    },
    {
     "cell_type": "code",
     "collapsed": false,
     "input": [
      "def writeFastaSeqs(comments, sequences, fastaFile, width=60):\n",
      "\n",
      "    fileObj = open(fastaFile, \"w\")\n",
      "\n",
      "    for i, seq in enumerate(sequences):\n",
      "      \n",
      "        numLines = 1 + ( len(seq) - 1 ) / width\n",
      "        seqLines = [ seq[ width*x : width*(x+1) ] for x in range(numLines) ]\n",
      "      \n",
      "        seq = '\\n'.join(seqLines)\n",
      "        fileObj.write('> %s\\n%s\\n' % (comments[i], seq))\n",
      "\n",
      "    fileObj.close()"
     ],
     "language": "python",
     "metadata": {},
     "outputs": []
    },
    {
     "cell_type": "heading",
     "level": 4,
     "metadata": {},
     "source": [
      "Reading FASTA files"
     ]
    },
    {
     "cell_type": "code",
     "collapsed": false,
     "input": [
      "def readFastaFile(fileName):\n",
      "\n",
      "    fileObj = open(fileName, \"rU\")\n",
      "    sequences = []\n",
      "    seqFragments = []\n",
      "\n",
      "    for line in fileObj:\n",
      "        if line.startswith(\">\"):\n",
      "            # found start of next sequence\n",
      "            if seqFragments:\n",
      "                sequence = \"\".join(seqFragments)\n",
      "                sequences.append(sequence)\n",
      "        \n",
      "            seqFragments = []\n",
      "\n",
      "        else:\n",
      "            # found more of existing sequence\n",
      "            seq = line.rstrip() # remove carriage return\n",
      "            seqFragments.append(seq)\n",
      "\n",
      "    if seqFragments:\n",
      "        # should be the case if file is not empty\n",
      "        sequence = \"\".join(seqFragments)\n",
      "        sequences.append(sequence)\n",
      "\n",
      "    fileObj.close()\n",
      "\n",
      "    return sequences"
     ],
     "language": "python",
     "metadata": {},
     "outputs": []
    },
    {
     "cell_type": "code",
     "collapsed": false,
     "input": [
      "sequences = readFastaFile( \"glpa.fa\" )\n",
      "print sequences"
     ],
     "language": "python",
     "metadata": {},
     "outputs": []
    },
    {
     "cell_type": "code",
     "collapsed": false,
     "input": [
      "writeFastaSeqs( comments = [ \"GLPA_HUMAN\" ], sequences = sequences, fastaFile = \"myfasta.fa\" )\n",
      "\n",
      "with open( \"myfasta.fa\" ) as fileObj:\n",
      "    print fileObj.read()"
     ],
     "language": "python",
     "metadata": {},
     "outputs": []
    },
    {
     "cell_type": "heading",
     "level": 3,
     "metadata": {},
     "source": [
      "Using BioPython"
     ]
    },
    {
     "cell_type": "code",
     "collapsed": false,
     "input": [
      "# Reading FASTA files\n",
      "from Bio import SeqIO\n",
      "\n",
      "fileObj = open( \"glpa.fa\", \"rU\" )\n",
      "\n",
      "for protein in SeqIO.parse(fileObj, 'fasta'):\n",
      "  print protein.id\n",
      "  print protein.seq"
     ],
     "language": "python",
     "metadata": {},
     "outputs": []
    },
    {
     "cell_type": "code",
     "collapsed": false,
     "input": [
      "# Writing FASTA files\n",
      "from Bio.SeqRecord import SeqRecord\n",
      "from Bio.Seq import Seq\n",
      "from Bio.Alphabet import IUPAC\n",
      "\n",
      "fileObj = open( \"biopython.fa\", \"w\")\n",
      "  \n",
      "seqObj = Seq(sequences[0], IUPAC.protein)\n",
      "proteinObjs = [SeqRecord(seqObj, id=\"TEST\"),]\n",
      "\n",
      "SeqIO.write(proteinObjs, fileObj,  'fasta')\n",
      "\n",
      "fileObj.close()\n",
      "\n",
      "with open( \"biopython.fa\" ) as fileObj:\n",
      "    print fileObj.read()"
     ],
     "language": "python",
     "metadata": {},
     "outputs": []
    },
    {
     "cell_type": "code",
     "collapsed": false,
     "input": [
      "# Read FASTA file from NCBI GenBank\n",
      "from Bio import Entrez\n",
      "\n",
      "socketObj = Entrez.efetch(db=\"protein\", rettype=\"fasta\",\n",
      "                         id=\"71066805\")\n",
      "dnaObj = SeqIO.read(socketObj, \"fasta\")\n",
      "socketObj.close()\n",
      "\n",
      "print dnaObj.description\n",
      "print dnaObj.seq"
     ],
     "language": "python",
     "metadata": {},
     "outputs": []
    },
    {
     "cell_type": "code",
     "collapsed": false,
     "input": [
      "# Read SWISSPROT record\n",
      "from Bio import ExPASy\n",
      "\n",
      "socketObj = ExPASy.get_sprot_raw('HBB_HUMAN')\n",
      "proteinObj = SeqIO.read(socketObj, \"swiss\")\n",
      "socketObj.close()\n",
      "\n",
      "print proteinObj.description\n",
      "print proteinObj.seq"
     ],
     "language": "python",
     "metadata": {},
     "outputs": []
    }
   ],
   "metadata": {}
  }
 ]
}