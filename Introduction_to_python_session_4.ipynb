{
 "metadata": {
  "name": "Introduction_to_python_session_4"
 },
 "nbformat": 3,
 "nbformat_minor": 0,
 "worksheets": [
  {
   "cells": [
    {
     "cell_type": "heading",
     "level": 1,
     "metadata": {},
     "source": [
      "Files"
     ]
    },
    {
     "cell_type": "heading",
     "level": 2,
     "metadata": {},
     "source": [
      "Data formats"
     ]
    },
    {
     "cell_type": "markdown",
     "metadata": {},
     "source": [
      "Fixed width (or columns):"
     ]
    },
    {
     "cell_type": "raw",
     "metadata": {},
     "source": [
      "ATOM    473  N   SER A  92      10.056   6.423   5.078  1.00  0.73           N  \n",
      "ATOM    474  CA  SER A  92      10.391   7.707   5.748  1.00  0.87           C  \n",
      "ATOM    475  C   SER A  92      11.422   7.439   6.842  1.00  0.94           C  \n",
      "ATOM    476  O   SER A  92      12.423   8.118   6.941  1.00  1.07           O "
     ]
    },
    {
     "cell_type": "markdown",
     "metadata": {},
     "source": [
      "Delimited:"
     ]
    },
    {
     "cell_type": "raw",
     "metadata": {},
     "source": [
      "X 169008682 1 111267453 1.0976\n",
      "2 8265484 5 69763543 4.9825\n",
      "MT 10924 MT 81934 7.2357\n",
      "3 127 8 10908776 1.2509"
     ]
    },
    {
     "cell_type": "markdown",
     "metadata": {},
     "source": [
      "Structured (or mark-up):"
     ]
    },
    {
     "cell_type": "raw",
     "metadata": {},
     "source": [
      "<PDBx:atom_site id=\"16809\">\n",
      "         <PDBx:Cartn_x>-5.882</PDBx:Cartn_x>\n",
      "         <PDBx:Cartn_y>-7.295</PDBx:Cartn_y>\n",
      "         <PDBx:Cartn_z>0.189</PDBx:Cartn_z>\n",
      "         <PDBx:label_asym_id>B</PDBx:label_asym_id>\n",
      "         <PDBx:label_atom_id>N</PDBx:label_atom_id>\n",
      "         <PDBx:label_comp_id>GLY</PDBx:label_comp_id>\n",
      "         <PDBx:label_entity_id>1</PDBx:label_entity_id>\n",
      "      </PDBx:atom_site>"
     ]
    },
    {
     "cell_type": "heading",
     "level": 2,
     "metadata": {},
     "source": [
      "File objects"
     ]
    },
    {
     "cell_type": "markdown",
     "metadata": {},
     "source": [
      "Opening:"
     ]
    },
    {
     "cell_type": "code",
     "collapsed": false,
     "input": [
      "path = \"datafile.txt\"\n",
      "fileObj = open( path )"
     ],
     "language": "python",
     "metadata": {},
     "outputs": [],
     "prompt_number": 2
    },
    {
     "cell_type": "markdown",
     "metadata": {},
     "source": [
      "File modes:"
     ]
    },
    {
     "cell_type": "code",
     "collapsed": false,
     "input": [
      "open( \"myfile.txt\", \"r\" ) # open for reading, default\n"
     ],
     "language": "python",
     "metadata": {},
     "outputs": [
      {
       "output_type": "pyout",
       "prompt_number": 5,
       "text": [
        "<open file 'myfile.txt', mode 'r' at 0x97e4498>"
       ]
      }
     ],
     "prompt_number": 5
    },
    {
     "cell_type": "code",
     "collapsed": false,
     "input": [
      "open( \"myfile.txt\", \"w\" ) # open for writing (existing files will be overwritten)"
     ],
     "language": "python",
     "metadata": {},
     "outputs": [
      {
       "output_type": "pyout",
       "prompt_number": 6,
       "text": [
        "<open file 'myfile.txt', mode 'w' at 0x97e44f0>"
       ]
      }
     ],
     "prompt_number": 6
    },
    {
     "cell_type": "code",
     "collapsed": false,
     "input": [
      "open( \"myfile.txt\", \"a\" ) # open for appending"
     ],
     "language": "python",
     "metadata": {},
     "outputs": [
      {
       "output_type": "pyout",
       "prompt_number": 8,
       "text": [
        "<open file 'myfile.txt', mode 'a' at 0x97e45a0>"
       ]
      }
     ],
     "prompt_number": 8
    },
    {
     "cell_type": "markdown",
     "metadata": {},
     "source": [
      "Mode modifiers:"
     ]
    },
    {
     "cell_type": "raw",
     "metadata": {},
     "source": [
      "\"b\": binary mode, e.g. \"rb\". No translation for end-of-line chanracters to platform specific setting value.\n",
      "\"U\": universal new line mode, e.g. \"rU\". Present end-of-line as \"\\n\" no matter where the file was written."
     ]
    },
    {
     "cell_type": "markdown",
     "metadata": {},
     "source": [
      "Closing:"
     ]
    },
    {
     "cell_type": "code",
     "collapsed": false,
     "input": [
      "fileObj.close()"
     ],
     "language": "python",
     "metadata": {},
     "outputs": [],
     "prompt_number": 10
    },
    {
     "cell_type": "markdown",
     "metadata": {},
     "source": [
      "Reading files:"
     ]
    },
    {
     "cell_type": "code",
     "collapsed": false,
     "input": [
      "fileObj = open( \"datafile.txt\" )\n",
      "print fileObj.read() # everything\n",
      "fileObj.close()"
     ],
     "language": "python",
     "metadata": {},
     "outputs": [
      {
       "output_type": "stream",
       "stream": "stdout",
       "text": [
        "Header\n",
        "First line\n",
        "Second line\n",
        "\n"
       ]
      }
     ],
     "prompt_number": 18
    },
    {
     "cell_type": "code",
     "collapsed": false,
     "input": [
      "# one line at a time\n",
      "fileObj = open( \"datafile.txt\" )\n",
      "print \"1st line: %r\" % fileObj.readline()\n",
      "print \"2nd line: %r\" % fileObj.readline()\n",
      "print \"3rd line: %r\" % fileObj.readline()\n",
      "print \"4th line: %r\" % fileObj.readline()\n",
      "fileObj.close()"
     ],
     "language": "python",
     "metadata": {},
     "outputs": [
      {
       "output_type": "stream",
       "stream": "stdout",
       "text": [
        "1st line: 'Header\\n'\n",
        "2nd line: 'First line\\n'\n",
        "3rd line: 'Second line\\n'\n",
        "4th line: ''\n"
       ]
      }
     ],
     "prompt_number": 25
    },
    {
     "cell_type": "code",
     "collapsed": false,
     "input": [
      "# all lines\n",
      "fileObj = open( \"datafile.txt\" )\n",
      "print fileObj.readlines()\n",
      "\n",
      "fileObj.close()"
     ],
     "language": "python",
     "metadata": {},
     "outputs": [
      {
       "output_type": "stream",
       "stream": "stdout",
       "text": [
        "['Header\\n', 'First line\\n', 'Second line\\n']\n"
       ]
      }
     ],
     "prompt_number": 27
    },
    {
     "cell_type": "code",
     "collapsed": false,
     "input": [
      "# as an iterable\n",
      "fileObj = open( \"datafile.txt\" )\n",
      "\n",
      "for ( i, line ) in enumerate( fileObj, start = 1 ):\n",
      "    print \"%s: %r\" % ( i, line )\n",
      "\n",
      "fileObj.close()"
     ],
     "language": "python",
     "metadata": {},
     "outputs": [
      {
       "output_type": "stream",
       "stream": "stdout",
       "text": [
        "1: 'Header\\n'\n",
        "2: 'First line\\n'\n",
        "3: 'Second line\\n'\n"
       ]
      }
     ],
     "prompt_number": 29
    },
    {
     "cell_type": "heading",
     "level": 3,
     "metadata": {},
     "source": [
      "The with statement"
     ]
    },
    {
     "cell_type": "markdown",
     "metadata": {},
     "source": [
      "It is important that files are closed after they are no longer required, but writing ``filObj.close()`` is tedious. An alternative syntax is the ``with`` statement:"
     ]
    },
    {
     "cell_type": "code",
     "collapsed": false,
     "input": [
      "# fileObj will be closed when leaving the block\n",
      "with open( \"datafile.txt\" ) as fileObj:\n",
      "    for ( i, line ) in enumerate( fileObj, start = 1 ):\n",
      "        print \"%s: %r\" % ( i, line )\n",
      "        "
     ],
     "language": "python",
     "metadata": {},
     "outputs": [
      {
       "output_type": "stream",
       "stream": "stdout",
       "text": [
        "1: 'Header\\n'\n",
        "2: 'First line\\n'\n",
        "3: 'Second line\\n'\n"
       ]
      }
     ],
     "prompt_number": 57
    },
    {
     "cell_type": "heading",
     "level": 2,
     "metadata": {},
     "source": [
      "Delimited files"
     ]
    },
    {
     "cell_type": "heading",
     "level": 4,
     "metadata": {},
     "source": [
      "Read delimited files"
     ]
    },
    {
     "cell_type": "code",
     "collapsed": false,
     "input": [
      "def readListFile(fileName, converters, delimiter = \" \"):\n",
      "    dataList = []\n",
      "    fileObj = open(fileName, 'rU')\n",
      "    header = fileObj.readline() # Extract first line\n",
      "\n",
      "    # Loop through remaining lines\n",
      "    for line in fileObj:\n",
      "        data = line.rstrip().split( delimiter )\n",
      "\n",
      "        for ( index, datum ) in enumerate( data ):\n",
      "          convertFunc = converters[index]\n",
      "     \n",
      "          if convertFunc:\n",
      "            data[index] = convertFunc( data[ index ] )\n",
      "\n",
      "        dataList.append(data)\n",
      "   \n",
      "    fileObj.close()\n",
      "    return dataList"
     ],
     "language": "python",
     "metadata": {},
     "outputs": [],
     "prompt_number": 37
    },
    {
     "cell_type": "code",
     "collapsed": false,
     "input": [
      "print readListFile( \"mydata.txt\", converters = ( None, None, None ) )"
     ],
     "language": "python",
     "metadata": {},
     "outputs": [
      {
       "output_type": "stream",
       "stream": "stdout",
       "text": [
        "[['1', 'Human', '1.076'], ['2', 'Mouse', '1.202'], ['3', 'Frog', '2.2362'], ['4', 'Fly', '0.9853']]\n"
       ]
      }
     ],
     "prompt_number": 39
    },
    {
     "cell_type": "code",
     "collapsed": false,
     "input": [
      "mydata = readListFile( \"mydata.txt\", converters = ( int, str, float ) )\n",
      "print mydata"
     ],
     "language": "python",
     "metadata": {},
     "outputs": [
      {
       "output_type": "stream",
       "stream": "stdout",
       "text": [
        "[[1, 'Human', 1.076], [2, 'Mouse', 1.202], [3, 'Frog', 2.2362], [4, 'Fly', 0.9853]]\n"
       ]
      }
     ],
     "prompt_number": 61
    },
    {
     "cell_type": "markdown",
     "metadata": {},
     "source": [
      "This is such a common task that it is available in the standard Python library ``csv`` module. It is very flexible, but does not support automatic conversions."
     ]
    },
    {
     "cell_type": "code",
     "collapsed": false,
     "input": [
      "import csv\n",
      "with open( \"mydata.txt\", \"rb\" ) as fileObj:\n",
      "    fileObj.readline() # Remove header\n",
      "    reader = csv.reader( fileObj, delimiter = \" \" ) # delimiter defaults to \",\"\n",
      "    print list( reader )"
     ],
     "language": "python",
     "metadata": {},
     "outputs": [
      {
       "output_type": "stream",
       "stream": "stdout",
       "text": [
        "[['1', 'Human', '1.076'], ['2', 'Mouse', '1.202'], ['3', 'Frog', '2.2362'], ['4', 'Fly', '0.9853']]\n"
       ]
      }
     ],
     "prompt_number": 58
    },
    {
     "cell_type": "code",
     "collapsed": false,
     "input": [
      "# Read from list\n",
      "with open( \"mydata.txt\", \"rb\" ) as fileObj:\n",
      "    data = fileObj.readlines()\n",
      "\n",
      "import csv\n",
      "reader = csv.reader( data, delimiter = \" \" )\n",
      "print list( reader )"
     ],
     "language": "python",
     "metadata": {},
     "outputs": [
      {
       "output_type": "stream",
       "stream": "stdout",
       "text": [
        "[['Index', 'Organism', 'Score'], ['1', 'Human', '1.076'], ['2', 'Mouse', '1.202'], ['3', 'Frog', '2.2362'], ['4', 'Fly', '0.9853']]\n"
       ]
      }
     ],
     "prompt_number": 59
    },
    {
     "cell_type": "code",
     "collapsed": false,
     "input": [
      "# Read in as dictionary\n",
      "with open( \"mydata.txt\", \"rb\" ) as fileObj:\n",
      "    reader = csv.DictReader( fileObj, delimiter = \" \" ) # do no remove header\n",
      "    print list( reader )"
     ],
     "language": "python",
     "metadata": {},
     "outputs": [
      {
       "output_type": "stream",
       "stream": "stdout",
       "text": [
        "[{'Index': '1', 'Score': '1.076', 'Organism': 'Human'}, {'Index': '2', 'Score': '1.202', 'Organism': 'Mouse'}, {'Index': '3', 'Score': '2.2362', 'Organism': 'Frog'}, {'Index': '4', 'Score': '0.9853', 'Organism': 'Fly'}]\n"
       ]
      }
     ],
     "prompt_number": 60
    },
    {
     "cell_type": "heading",
     "level": 4,
     "metadata": {},
     "source": [
      "Write delimited files"
     ]
    },
    {
     "cell_type": "code",
     "collapsed": false,
     "input": [
      "def writeListFile(fileName, data, headings, formats, separator=' '):\n",
      "\n",
      "    if len(data[0]) != len(headings):\n",
      "        print \"Headings length does not match input list\"\n",
      "        return\n",
      "    \n",
      "    if len(formats) != len(headings):\n",
      "        print \"Formats length does not match input list\"\n",
      "        return\n",
      "\n",
      "    fileObj = open(fileName, 'w') # Should really check more\n",
      "  \n",
      "    line = separator.join(headings)\n",
      "    fileObj.write('! %s\\n' % line)\n",
      "\n",
      "    for record in data:\n",
      "        line = separator.join( [ f % r  for ( f, r ) in zip( formats, record ) ] )\n",
      "        fileObj.write('%s\\n' % line)\n",
      "\n",
      "    fileObj.close()"
     ],
     "language": "python",
     "metadata": {},
     "outputs": [],
     "prompt_number": 73
    },
    {
     "cell_type": "code",
     "collapsed": false,
     "input": [
      "writeListFile(\n",
      "    fileName = \"mywriter.txt\",\n",
      "    data = mydata,\n",
      "    headings = ( \"Index\", \"Organism\", \"Score\" ), \n",
      "    formats = ( \"%d\", \"%s\", \"%.2f\" ),\n",
      "    )\n",
      "\n",
      "with open( \"mywriter.txt\" ) as fileObj:\n",
      "    print fileObj.read()\n",
      "    "
     ],
     "language": "python",
     "metadata": {},
     "outputs": [
      {
       "output_type": "stream",
       "stream": "stdout",
       "text": [
        "! Index Organism Score\n",
        "1 Human 1.08\n",
        "2 Mouse 1.20\n",
        "3 Frog 2.24\n",
        "4 Fly 0.99\n",
        "\n"
       ]
      }
     ],
     "prompt_number": 74
    },
    {
     "cell_type": "code",
     "collapsed": false,
     "input": [
      "# Using the csv module\n",
      "import csv\n",
      "\n",
      "with open( \"csvdata.csv\", \"wb\" ) as fileObj:\n",
      "    writer = csv.writer( fileObj )\n",
      "    writer.writerow( [ \"Index\", \"Organism\", \"Score\" ] ) # write header\n",
      "\n",
      "    for record in mydata:\n",
      "        writer.writerow( record )\n",
      "\n",
      "# Note that data types are converted to string\n",
      "fileObj = open( \"csvdata.csv\", \"rb\" )\n",
      "reader = csv.reader( fileObj )\n",
      "print list( reader )\n",
      "fileObj.close()"
     ],
     "language": "python",
     "metadata": {},
     "outputs": [
      {
       "output_type": "stream",
       "stream": "stdout",
       "text": [
        "[['Index', 'Organism', 'Score'], ['1', 'Human', '1.076'], ['2', 'Mouse', '1.202'], ['3', 'Frog', '2.2362'], ['4', 'Fly', '0.9853']]\n"
       ]
      }
     ],
     "prompt_number": 76
    },
    {
     "cell_type": "heading",
     "level": 2,
     "metadata": {},
     "source": [
      "XML files"
     ]
    },
    {
     "cell_type": "code",
     "collapsed": false,
     "input": [
      "def printPubmedAbstract(xmlFile):\n",
      "    \n",
      "    from xml.etree import cElementTree as ElementTree\n",
      "    tree = ElementTree.parse(xmlFile)\n",
      "    root = tree.getroot()\n",
      "\n",
      "    citationElem = root.find('PubmedArticle/MedlineCitation')\n",
      "    pmid = citationElem.findtext('PMID')\n",
      "    articleElem = citationElem.find('Article')\n",
      "    journalElem = articleElem.find('Journal')\n",
      "    journalTitle = journalElem.findtext('Title')\n",
      "    journalYear = journalElem.findtext('JournalIssue/PubDate/Year')\n",
      "    articleTitle = articleElem.findtext('ArticleTitle')\n",
      "    articleAbstract = articleElem.findtext('Abstract/AbstractText')\n",
      "\n",
      "    print 'PMID = %s' % pmid\n",
      "    print 'journalYear = %s' % journalYear\n",
      "    print 'journalTitle = \"%s\"' % journalTitle\n",
      "    print 'articleTitle = \"%s\"' % articleTitle\n",
      "    print 'articleAbstract = \"%s\"' % articleAbstract\n",
      "    print"
     ],
     "language": "python",
     "metadata": {},
     "outputs": [],
     "prompt_number": 102
    },
    {
     "cell_type": "code",
     "collapsed": false,
     "input": [
      "printPubmedAbstract( \"pubmed.xml\" )"
     ],
     "language": "python",
     "metadata": {},
     "outputs": [
      {
       "output_type": "stream",
       "stream": "stdout",
       "text": [
        "PMID = 23542153\n",
        "journalYear = 2013\n",
        "journalTitle = \"Nature structural & molecular biology\"\n",
        "articleTitle = \"The structural basis for specific decoding of AUA by isoleucine tRNA on the ribosome.\"\n",
        "articleAbstract = \"Decoding of the AUA isoleucine codon in bacteria and archaea requires modification of a C in the anticodon wobble position of the isoleucine tRNA. Here, we report the crystal structure of the archaeal tRNA2(Ile), which contains the modification agmatidine in its anticodon, in complex with the AUA codon on the 70S ribosome. The structure illustrates how agmatidine confers codon specificity for AUA over AUG.\"\n",
        "\n"
       ]
      }
     ],
     "prompt_number": 103
    },
    {
     "cell_type": "heading",
     "level": 2,
     "metadata": {},
     "source": [
      "Python file library"
     ]
    },
    {
     "cell_type": "markdown",
     "metadata": {},
     "source": [
      "os:\n",
      "\n",
      "\tchdir(path) : change the current working directory to be path\n",
      "\tgetcwd() : return the current working directory\n",
      "    listdir(path) : returns a list of files/directories in the directory path\n",
      "    mkdir(path) : create the directory path\n",
      "    rmdir(path) : remove the directory path\n",
      "\tremove(path) : remove the file path\n",
      "\trename(src, dst) : move the file/directory from src to dst\n",
      "\n",
      "os.path:\n",
      "\n",
      "\texists(path) : returns whether path exists\n",
      "\tisfile(path) : returns whether path is a \u201cregular\u201d file (as opposed to a directory)\n",
      "\tisdir(path) : returns whether path is a directory\n",
      "\tislink(path) : returns whether path is a symbolic link\n",
      "\tjoin(*paths) : joins the paths together into one long path\n",
      "\tdirname(path) : returns directory containing the path\n",
      "\tbasename(path) : returns the path minus the dirname(path) in front\n",
      "\tsplit(path) : returns (dirname(path), basename(path))"
     ]
    },
    {
     "cell_type": "code",
     "collapsed": false,
     "input": [
      "import os.path\n",
      "os.path.join( \"home\", \"test\", \"mydoc.txt\" )\n",
      "# home/test/mydoc.txt - Unix\n",
      "# home\\test\\mydoc.txt - Windows"
     ],
     "language": "python",
     "metadata": {},
     "outputs": [
      {
       "output_type": "pyout",
       "prompt_number": 92,
       "text": [
        "'home/test/mydoc.txt'"
       ]
      }
     ],
     "prompt_number": 92
    },
    {
     "cell_type": "heading",
     "level": 4,
     "metadata": {},
     "source": [
      "Recursive file search"
     ]
    },
    {
     "cell_type": "code",
     "collapsed": false,
     "input": [
      "import os\n",
      "\n",
      "def findFiles(directory, suffix):\n",
      "\n",
      "    files = []\n",
      "    dirfiles = os.listdir(directory)\n",
      "    \n",
      "    for dirfile in dirfiles:\n",
      "        fullfile = os.path.join(directory, dirfile)\n",
      "\n",
      "        if os.path.isdir(fullfile):\n",
      "            # fullfile is a directory, so recurse into that\n",
      "            files.extend(findFiles(fullfile, suffix))\n",
      "\n",
      "        elif dirfile.endswith(suffix):\n",
      "            # fullfile is a normal file, and with correct suffix\n",
      "            files.append(fullfile)\n",
      "\n",
      "    return files"
     ],
     "language": "python",
     "metadata": {},
     "outputs": []
    },
    {
     "cell_type": "heading",
     "level": 4,
     "metadata": {},
     "source": [
      "Recursive delete"
     ]
    },
    {
     "cell_type": "code",
     "collapsed": false,
     "input": [
      "import os\n",
      "\n",
      "def removeFiles(directory, suffix):\n",
      "\n",
      "    dirfiles = os.listdir(directory)\n",
      "\n",
      "    for dirfile in dirfiles:\n",
      "        fullfile = os.path.join(directory, dirfile)\n",
      "\n",
      "        if os.path.isdir(fullfile):\n",
      "            # fullfile is a directory, so recurse into that\n",
      "            removeFiles(fullfile, suffix)\n",
      "\n",
      "        elif dirfile.endswith(suffix):\n",
      "            # fullfile is a normal file, and with correct suffix\n",
      "            os.remove(fullfile)"
     ],
     "language": "python",
     "metadata": {},
     "outputs": [],
     "prompt_number": 93
    },
    {
     "cell_type": "code",
     "collapsed": false,
     "input": [
      "import shutil\n",
      "print shutil.rmtree.__doc__"
     ],
     "language": "python",
     "metadata": {},
     "outputs": [
      {
       "output_type": "stream",
       "stream": "stdout",
       "text": [
        "Recursively delete a directory tree.\n",
        "\n",
        "    If ignore_errors is set, errors are ignored; otherwise, if onerror\n",
        "    is set, it is called to handle the error with arguments (func,\n",
        "    path, exc_info) where func is os.listdir, os.remove, or os.rmdir;\n",
        "    path is the argument to that function that caused it to fail; and\n",
        "    exc_info is a tuple returned by sys.exc_info().  If ignore_errors\n",
        "    is false and onerror is None, an exception is raised.\n",
        "\n",
        "    \n"
       ]
      }
     ],
     "prompt_number": 96
    },
    {
     "cell_type": "heading",
     "level": 2,
     "metadata": {},
     "source": [
      "Examples"
     ]
    },
    {
     "cell_type": "heading",
     "level": 3,
     "metadata": {},
     "source": [
      "FASTA files"
     ]
    },
    {
     "cell_type": "code",
     "collapsed": false,
     "input": [
      "with open( \"glpa.fa\" ) as fileObj:\n",
      "    print fileObj.read()"
     ],
     "language": "python",
     "metadata": {},
     "outputs": [
      {
       "output_type": "stream",
       "stream": "stdout",
       "text": [
        ">swissprot|P02724|GLPA_HUMAN Glycophorin-A;\n",
        "MYGKIIFVLLLSEIVSISASSTTGVAMHTSTSSSVTKSYISSQTNDTHKRDTYAATPRAH\n",
        "EVSEISVRTVYPPEEETGERVQLAHHFSEPEITLIIFGVMAGVIGTILLISYGIRRLIKK\n",
        "SPSDVKPLPSPDTDVPLSSVEIENPETSDQ\n",
        "\n",
        "\n"
       ]
      }
     ],
     "prompt_number": 85
    },
    {
     "cell_type": "heading",
     "level": 4,
     "metadata": {},
     "source": [
      "Writing FASTA files"
     ]
    },
    {
     "cell_type": "code",
     "collapsed": false,
     "input": [
      "def writeFastaSeqs(comments, sequences, fastaFile, width=60):\n",
      "\n",
      "    fileObj = open(fastaFile, \"w\")\n",
      "\n",
      "    for i, seq in enumerate(sequences):\n",
      "      \n",
      "        numLines = 1 + ( len(seq) - 1 ) / width\n",
      "        seqLines = [ seq[ width*x : width*(x+1) ] for x in range(numLines) ]\n",
      "      \n",
      "        seq = '\\n'.join(seqLines)\n",
      "        fileObj.write('> %s\\n%s\\n' % (comments[i], seq))\n",
      "\n",
      "    fileObj.close()"
     ],
     "language": "python",
     "metadata": {},
     "outputs": [],
     "prompt_number": 78
    },
    {
     "cell_type": "heading",
     "level": 4,
     "metadata": {},
     "source": [
      "Reading FASTA files"
     ]
    },
    {
     "cell_type": "code",
     "collapsed": false,
     "input": [
      "def readFastaFile(fileName):\n",
      "\n",
      "    fileObj = open(fileName, \"rU\")\n",
      "    sequences = []\n",
      "    seqFragments = []\n",
      "\n",
      "    for line in fileObj:\n",
      "        if line.startswith(\">\"):\n",
      "            # found start of next sequence\n",
      "            if seqFragments:\n",
      "                sequence = \"\".join(seqFragments)\n",
      "                sequences.append(sequence)\n",
      "        \n",
      "            seqFragments = []\n",
      "\n",
      "        else:\n",
      "            # found more of existing sequence\n",
      "            seq = line.rstrip() # remove carriage return\n",
      "            seqFragments.append(seq)\n",
      "\n",
      "    if seqFragments:\n",
      "        # should be the case if file is not empty\n",
      "        sequence = \"\".join(seqFragments)\n",
      "        sequences.append(sequence)\n",
      "\n",
      "    fileObj.close()\n",
      "\n",
      "    return sequences"
     ],
     "language": "python",
     "metadata": {},
     "outputs": [],
     "prompt_number": 81
    },
    {
     "cell_type": "code",
     "collapsed": false,
     "input": [
      "sequences = readFastaFile( \"glpa.fa\" )\n",
      "print sequences"
     ],
     "language": "python",
     "metadata": {},
     "outputs": [
      {
       "output_type": "stream",
       "stream": "stdout",
       "text": [
        "['MYGKIIFVLLLSEIVSISASSTTGVAMHTSTSSSVTKSYISSQTNDTHKRDTYAATPRAHEVSEISVRTVYPPEEETGERVQLAHHFSEPEITLIIFGVMAGVIGTILLISYGIRRLIKKSPSDVKPLPSPDTDVPLSSVEIENPETSDQ']\n"
       ]
      }
     ],
     "prompt_number": 86
    },
    {
     "cell_type": "code",
     "collapsed": false,
     "input": [
      "writeFastaSeqs( comments = [ \"GLPA_HUMAN\" ], sequences = sequences, fastaFile = \"myfasta.fa\" )\n",
      "\n",
      "with open( \"myfasta.fa\" ) as fileObj:\n",
      "    print fileObj.read()"
     ],
     "language": "python",
     "metadata": {},
     "outputs": [
      {
       "output_type": "stream",
       "stream": "stdout",
       "text": [
        "> GLPA_HUMAN\n",
        "MYGKIIFVLLLSEIVSISASSTTGVAMHTSTSSSVTKSYISSQTNDTHKRDTYAATPRAH\n",
        "EVSEISVRTVYPPEEETGERVQLAHHFSEPEITLIIFGVMAGVIGTILLISYGIRRLIKK\n",
        "SPSDVKPLPSPDTDVPLSSVEIENPETSDQ\n",
        "\n"
       ]
      }
     ],
     "prompt_number": 87
    },
    {
     "cell_type": "heading",
     "level": 3,
     "metadata": {},
     "source": [
      "Using BioPython"
     ]
    },
    {
     "cell_type": "code",
     "collapsed": false,
     "input": [
      "# Reading FASTA files\n",
      "from Bio import SeqIO\n",
      "\n",
      "fileObj = open( \"glpa.fa\", \"rU\" )\n",
      "\n",
      "for protein in SeqIO.parse(fileObj, 'fasta'):\n",
      "  print protein.id\n",
      "  print protein.seq"
     ],
     "language": "python",
     "metadata": {},
     "outputs": [
      {
       "output_type": "stream",
       "stream": "stdout",
       "text": [
        "swissprot|P02724|GLPA_HUMAN\n",
        "MYGKIIFVLLLSEIVSISASSTTGVAMHTSTSSSVTKSYISSQTNDTHKRDTYAATPRAHEVSEISVRTVYPPEEETGERVQLAHHFSEPEITLIIFGVMAGVIGTILLISYGIRRLIKKSPSDVKPLPSPDTDVPLSSVEIENPETSDQ\n"
       ]
      }
     ],
     "prompt_number": 88
    },
    {
     "cell_type": "code",
     "collapsed": false,
     "input": [
      "# Writing FASTA files\n",
      "from Bio.SeqRecord import SeqRecord\n",
      "from Bio.Seq import Seq\n",
      "from Bio.Alphabet import IUPAC\n",
      "\n",
      "fileObj = open( \"biopython.fa\", \"w\")\n",
      "  \n",
      "seqObj = Seq(sequences[0], IUPAC.protein)\n",
      "proteinObjs = [SeqRecord(seqObj, id=\"TEST\"),]\n",
      "\n",
      "SeqIO.write(proteinObjs, fileObj,  'fasta')\n",
      "\n",
      "fileObj.close()\n",
      "\n",
      "with open( \"biopython.fa\" ) as fileObj:\n",
      "    print fileObj.read()"
     ],
     "language": "python",
     "metadata": {},
     "outputs": [
      {
       "output_type": "stream",
       "stream": "stdout",
       "text": [
        ">TEST <unknown description>\n",
        "MYGKIIFVLLLSEIVSISASSTTGVAMHTSTSSSVTKSYISSQTNDTHKRDTYAATPRAH\n",
        "EVSEISVRTVYPPEEETGERVQLAHHFSEPEITLIIFGVMAGVIGTILLISYGIRRLIKK\n",
        "SPSDVKPLPSPDTDVPLSSVEIENPETSDQ\n",
        "\n"
       ]
      }
     ],
     "prompt_number": 97
    },
    {
     "cell_type": "code",
     "collapsed": false,
     "input": [
      "# Read FASTA file from NCBI GenBank\n",
      "from Bio import Entrez\n",
      "\n",
      "socketObj = Entrez.efetch(db=\"protein\", rettype=\"fasta\",\n",
      "                         id=\"71066805\")\n",
      "dnaObj = SeqIO.read(socketObj, \"fasta\")\n",
      "socketObj.close()\n",
      "\n",
      "print dnaObj.description\n",
      "print dnaObj.seq"
     ],
     "language": "python",
     "metadata": {},
     "outputs": [
      {
       "output_type": "stream",
       "stream": "stdout",
       "text": [
        "gi|71066805|gb|DQ091202.1| Elephas maximus HBB/D gene, complete cds\n",
        "TTCTGGGCCTCAGTTTCCTCATTTGTATAATAACAGAATTGGAGAGTAAATTCTTAAGAGGCTTACCAGGCTGTAATTCTAAAAAAAATGCATAAATAAACTTGCCAAGGCAGATGTTTTTAGCAGCAATTCCTGAAAGAAACGGGACCAGGAGATAAGTAGAGAAAGAGTGAAGGTCTGAAATCAAACTAATAAGACAGTCCCAGACTGTCAAGGAGAGGTATGGCTGTCATCATTCAGGCCTCACCCTGCAGAACCACACCCTGGCCTTGGCCAATCTGCTCACAAGAGCAAAAAGGGCAGGACCAGGGTTGGGCATATAAGGAAGAGTAGTGCCAGCTGCTGTTTACACTCACTTCTGACACAACTGTGTTGACTAGCAACTACCCAATCAGACACCATGGTGAATCTGACTGCTGCTGAGAAGACACAAGTCACCAACCTGTGGGGCAAGGTGAATGTGAAAGAGCTTGGTGGTGAGGCCCTGAGCAGGTTTGTATCTAGGTTGCAAGGTAGACTTAAGGAGGGTTGAGTGGGGCTGGGCATGTGGAGACAGAACAGTCTCCCAGTTTCTGACAGGCACTGACTTCCTCTGCACCSTGTGGTGCTTTCACCTTCAGGCTGCTGGTGGTCTACCCATGGACCCGGAGGTTCTTTGAACACTTTGGGGACCTGTCCACTGCTGACGCTGTCCTGCACAACGCTAAAGTGCTGGCCCATGGCGAGAAAGTGTTGACCTCCTTTGGTGAGGGCCTGAAGCACCTGGACAACCTCAAGGGCACCTTTGCCGATCTGAGCGAGCTGCACTGTGACAAGCTGCACGTGGATCCTGAGAATTTCAGGGTGAGTCTAGGAGACACTCTATTTTTTCTTTTCACTTTGTAGTCTTTCACTGTGATTATTTTGCTTATTTGAATTTCCTCTGTATCTCTTTTTACTCGACTATGTTTCATCATTTAGTGTTTTTTCAACTTATACCATTTTGTATTACTTTTCTTTCAATATTCTTCCTTTTTTCCTGACTCACATTCTTGCTTTATATCATGCTCTTTATTTAATTTCCTACGTTTTTGCTCTTGCTCTCCCTTTCTCCTAGTTTCCTTCCCTCTGAACAGTACCCAAATTGTGCATACCACCTCTCGTCCACTATTTCTGCACTGGGGCAAATCCCCACCCCTCCTCCATATGAGGGTTGGAAAGGACTGAATCAAAGAGGAGAGGATCATGGTGCTGTTCTAGAGTATGTGATTCATTTCAGACTTGAAGGATAACTTGAATAATATAAAATCAGGAGTAAATGGAGAGGAAAGTCAGTATCTGAGAATGAAAGATCAGAAGGTCATAGACGAGATGGGGAGCAGAAGTTACTAAGAAACTGACCATTGTGGCTATAATTAATCACTTAATTAGTTAATTAATATGTTTGTTATTTATTCACGTTTTTCATTTTGGTGGGAGTAAATTTGGGCTAGTGTGTGGGCAACATAAATGGGTTTCACCCCATTGTCTCAGAGGCCAAGCTGGATTGCTTTGTTAACCATGTCTGTGTATGTATCTACCTCTTCCCCATAGCTCCTGGGCAATGTGCTGGTGATTGTCCTGGCCCGCCACTTTGGCAAGGAATTCACCCCAGATGTTCAGGCTGCCTATGAGAAGGTTGTGGCAGGTGTGGCGAATGCCCTGGCTCACAAATACCACTGAGATCCTGGCCTGTTCCTGGTATCCATCGGAAGCCCCATTTCCCGAGATGCTATCTCTGAATTTGGGAAAATAATGCCAACTCTCAAGGGCATCTCTTCTGCCTAATAAAGTACTTTCAGCTCAACTTTCTGATTCATTTATTTTTTTTCTCAGTCACTCTTGTGGTGGGGGAAGTTCCCAAGGCTCTATGGACAGAGAGCTCTTGTGCCTTATAGGAAAAGTTCAAGGGAAATTGGAAAATAAAGGGAACCATACACAGATATTAATGGGAACAATTCTACTTCAAAGGCATAAAGATTGGGAAGGTTTGGCAAATAGGATACTGGTACTACAGGGATTCCATGGGCCTCAGGCCTAAGACATAGCCCCAGGGCTAACTTTCAGATTCAATTCCAGAAATTACTCACAAAATAATGGA\n"
       ]
      },
      {
       "output_type": "stream",
       "stream": "stderr",
       "text": [
        "/usr/lib/python2.7/site-packages/Bio/Entrez/__init__.py:429: UserWarning: \n",
        "Email address is not specified.\n",
        "\n",
        "To make use of NCBI's E-utilities, NCBI strongly recommends you to specify\n",
        "your email address with each request. From June 1, 2010, this will be\n",
        "mandatory. As an example, if your email address is A.N.Other@example.com, you\n",
        "can specify it as follows:\n",
        "   from Bio import Entrez\n",
        "   Entrez.email = 'A.N.Other@example.com'\n",
        "In case of excessive usage of the E-utilities, NCBI will attempt to contact\n",
        "a user at the email address provided before blocking access to the\n",
        "E-utilities.\n",
        "  E-utilities.\"\"\", UserWarning)\n"
       ]
      }
     ],
     "prompt_number": 98
    },
    {
     "cell_type": "code",
     "collapsed": false,
     "input": [
      "# Read SWISSPROT record\n",
      "from Bio import ExPASy\n",
      "\n",
      "socketObj = ExPASy.get_sprot_raw('HBB_HUMAN')\n",
      "proteinObj = SeqIO.read(socketObj, \"swiss\")\n",
      "socketObj.close()\n",
      "\n",
      "print proteinObj.description\n",
      "print proteinObj.seq"
     ],
     "language": "python",
     "metadata": {},
     "outputs": [
      {
       "output_type": "stream",
       "stream": "stdout",
       "text": [
        "RecName: Full=Hemoglobin subunit beta; AltName: Full=Beta-globin; AltName: Full=Hemoglobin beta chain; Contains: RecName: Full=LVV-hemorphin-7;\n",
        "MVHLTPEEKSAVTALWGKVNVDEVGGEALGRLLVVYPWTQRFFESFGDLSTPDAVMGNPKVKAHGKKVLGAFSDGLAHLDNLKGTFATLSELHCDKLHVDPENFRLLGNVLVCVLAHHFGKEFTPPVQAAYQKVVAGVANALAHKYH\n"
       ]
      }
     ],
     "prompt_number": 99
    }
   ],
   "metadata": {}
  }
 ]
}