{
 "metadata": {
  "name": "Introduction_to_python_session_3"
 },
 "nbformat": 3,
 "nbformat_minor": 0,
 "worksheets": [
  {
   "cells": [
    {
     "cell_type": "heading",
     "level": 1,
     "metadata": {},
     "source": [
      "Python basics"
     ]
    },
    {
     "cell_type": "heading",
     "level": 2,
     "metadata": {},
     "source": [
      "Function basics"
     ]
    },
    {
     "cell_type": "markdown",
     "metadata": {},
     "source": [
      "Functions encapsulate some manipulation that can be re-used from the program. There are many functions provided with Python, called built-in functions:"
     ]
    },
    {
     "cell_type": "code",
     "collapsed": false,
     "input": [
      "x = abs( -3.0 )\n",
      "print x"
     ],
     "language": "python",
     "metadata": {},
     "outputs": [
      {
       "output_type": "stream",
       "stream": "stdout",
       "text": [
        "3.0\n"
       ]
      }
     ],
     "prompt_number": 77
    },
    {
     "cell_type": "markdown",
     "metadata": {},
     "source": [
      "A function has a name, an argument list (which can be empty), and a return value."
     ]
    },
    {
     "cell_type": "heading",
     "level": 2,
     "metadata": {},
     "source": [
      "Function definition syntax"
     ]
    },
    {
     "cell_type": "code",
     "collapsed": false,
     "input": [
      "def calcDistance(vec1, vec2):\n",
      "    \n",
      "    assert len( vec1 ) == len( vec2 ) # check dimensions\n",
      "    from math import sqrt # import square-root function\n",
      "    \n",
      "    d2 = 0\n",
      "    \n",
      "    for i in range( len( vec1 ) ):\n",
      "        delta = vec1[i] - vec2[i]\n",
      "        d2 += delta * delta\n",
      "        \n",
      "    dist = sqrt( d2 )\n",
      "    return dist"
     ],
     "language": "python",
     "metadata": {},
     "outputs": [],
     "prompt_number": 78
    },
    {
     "cell_type": "markdown",
     "metadata": {},
     "source": [
      "This has the same functionality:"
     ]
    },
    {
     "cell_type": "code",
     "collapsed": false,
     "input": [
      "def calcDistance2(vec1, vec2):\n",
      "    \n",
      "    assert len( vec1 ) == len( vec2 )\n",
      "    from math import sqrt\n",
      "    return sqrt( sum( [ ( l - r ) ** 2 for ( l, r ) in zip( vec1, vec2 ) ] ) )"
     ],
     "language": "python",
     "metadata": {},
     "outputs": [],
     "prompt_number": 79
    },
    {
     "cell_type": "heading",
     "level": 3,
     "metadata": {},
     "source": [
      "Nested Functions"
     ]
    },
    {
     "cell_type": "code",
     "collapsed": false,
     "input": [
      "def exponential(base):\n",
      "    def fixed_base(exponent):\n",
      "        return pow( base, exponent )\n",
      "    \n",
      "    return fixed_base\n",
      "\n",
      "base2 = exponential(2)\n",
      "base2(3)"
     ],
     "language": "python",
     "metadata": {},
     "outputs": [
      {
       "output_type": "pyout",
       "prompt_number": 80,
       "text": [
        "8"
       ]
      }
     ],
     "prompt_number": 80
    },
    {
     "cell_type": "markdown",
     "metadata": {},
     "source": [
      "This technique is called *binding* or *partial application*. It converts a given function to one with a reduced argument list."
     ]
    },
    {
     "cell_type": "heading",
     "level": 3,
     "metadata": {},
     "source": [
      "Unnamed functions"
     ]
    },
    {
     "cell_type": "code",
     "collapsed": false,
     "input": [
      "myfun = lambda x: x ** 2\n",
      "myfun( 3 )"
     ],
     "language": "python",
     "metadata": {},
     "outputs": [
      {
       "output_type": "pyout",
       "prompt_number": 81,
       "text": [
        "9"
       ]
      }
     ],
     "prompt_number": 81
    },
    {
     "cell_type": "markdown",
     "metadata": {},
     "source": [
      "It is important to note that a lambda function is a **single expression**. It cannot contain loops and conditionals."
     ]
    },
    {
     "cell_type": "markdown",
     "metadata": {},
     "source": [
      "Unnamed functions are useful when a function has limited use. A prime example is sorting:"
     ]
    },
    {
     "cell_type": "code",
     "collapsed": false,
     "input": [
      "values = [ \"africa\", \"Australia\", \"EUROPE\"  ]\n",
      "values.sort()\n",
      "print values"
     ],
     "language": "python",
     "metadata": {},
     "outputs": [
      {
       "output_type": "stream",
       "stream": "stdout",
       "text": [
        "['Australia', 'EUROPE', 'africa']\n"
       ]
      }
     ],
     "prompt_number": 82
    },
    {
     "cell_type": "markdown",
     "metadata": {},
     "source": [
      "Assume we want to sort these case insensitive:"
     ]
    },
    {
     "cell_type": "code",
     "collapsed": false,
     "input": [
      "values.sort( key = lambda x: x.upper() )\n",
      "print values"
     ],
     "language": "python",
     "metadata": {},
     "outputs": [
      {
       "output_type": "stream",
       "stream": "stdout",
       "text": [
        "['africa', 'Australia', 'EUROPE']\n"
       ]
      }
     ],
     "prompt_number": 83
    },
    {
     "cell_type": "heading",
     "level": 2,
     "metadata": {},
     "source": [
      "Function call"
     ]
    },
    {
     "cell_type": "code",
     "collapsed": false,
     "input": [
      "w1 = ( 23.1, 17.8, -5.6 )\n",
      "w2 = ( 8.4, 15.9, 7.7 )\n",
      "calcDistance( w1, w2 )"
     ],
     "language": "python",
     "metadata": {},
     "outputs": [
      {
       "output_type": "pyout",
       "prompt_number": 84,
       "text": [
        "19.914567532336726"
       ]
      }
     ],
     "prompt_number": 84
    },
    {
     "cell_type": "code",
     "collapsed": false,
     "input": [
      "calcDistance2( w1, w2 )"
     ],
     "language": "python",
     "metadata": {},
     "outputs": [
      {
       "output_type": "pyout",
       "prompt_number": 85,
       "text": [
        "19.914567532336726"
       ]
      }
     ],
     "prompt_number": 85
    },
    {
     "cell_type": "markdown",
     "metadata": {},
     "source": [
      "Note that the function is general and handles any two vectors (irrespective of their representation) as long as their dimensions are compatible:"
     ]
    },
    {
     "cell_type": "code",
     "collapsed": false,
     "input": [
      "calcDistance( ( 1, 2 ), ( 3, 4 ) ) # dimension: 2"
     ],
     "language": "python",
     "metadata": {},
     "outputs": [
      {
       "output_type": "pyout",
       "prompt_number": 86,
       "text": [
        "2.8284271247461903"
       ]
      }
     ],
     "prompt_number": 86
    },
    {
     "cell_type": "code",
     "collapsed": false,
     "input": [
      "calcDistance( [ 1, 2 ], [ 3, 4 ] ) # vectors represented as lists"
     ],
     "language": "python",
     "metadata": {},
     "outputs": [
      {
       "output_type": "pyout",
       "prompt_number": 87,
       "text": [
        "2.8284271247461903"
       ]
      }
     ],
     "prompt_number": 87
    },
    {
     "cell_type": "code",
     "collapsed": false,
     "input": [
      "calcDistance( ( 1, 2 ), [ 3, 4 ] ) # mixed representation"
     ],
     "language": "python",
     "metadata": {},
     "outputs": [
      {
       "output_type": "pyout",
       "prompt_number": 88,
       "text": [
        "2.8284271247461903"
       ]
      }
     ],
     "prompt_number": 88
    },
    {
     "cell_type": "markdown",
     "metadata": {},
     "source": [
      "Function names are ordinary variables and can be used in assignments:"
     ]
    },
    {
     "cell_type": "code",
     "collapsed": false,
     "input": [
      "myabs = abs # 'myabs' points to 'abs'\n",
      "print \"Assessed through myabs:\", myabs( -3.0 )\n",
      "\n",
      "def square(value):\n",
      "    return value * value\n",
      "\n",
      "abs = square # reassign 'abs' to point to 'square'\n",
      "print \"After reassignment:\", abs( -3.0 )\n",
      "\n",
      "abs = myabs # reinstate original 'abs'\n",
      "print \"After reinstatement:\", abs( -3.0 )"
     ],
     "language": "python",
     "metadata": {},
     "outputs": [
      {
       "output_type": "stream",
       "stream": "stdout",
       "text": [
        "Assessed through myabs: 3.0\n",
        "After reassignment: 9.0\n",
        "After reinstatement: 3.0\n"
       ]
      }
     ],
     "prompt_number": 89
    },
    {
     "cell_type": "heading",
     "level": 2,
     "metadata": {},
     "source": [
      "Return value"
     ]
    },
    {
     "cell_type": "code",
     "collapsed": false,
     "input": [
      "def getSign(value):\n",
      "    \n",
      "    if value > 0:\n",
      "        return \"Positive\"\n",
      "    \n",
      "    elif value < 0:\n",
      "        return \"Negative\"\n",
      "    \n",
      "    return # implicit 'None'\n",
      "\n",
      "    print \"Hello world\" # execution does not reach this line\n",
      "    \n",
      "print \"getSign( 33.6 ):\", getSign( 33.6 )\n",
      "print \"getSign( -7 ):\", getSign( -7 )\n",
      "print \"getSign( 0 ):\", getSign( 0 )"
     ],
     "language": "python",
     "metadata": {},
     "outputs": [
      {
       "output_type": "stream",
       "stream": "stdout",
       "text": [
        "getSign( 33.6 ): Positive\n",
        "getSign( -7 ): Negative\n",
        "getSign( 0 ): None\n"
       ]
      }
     ],
     "prompt_number": 91
    },
    {
     "cell_type": "markdown",
     "metadata": {},
     "source": [
      "It is possible to return multiple value via a tuple:"
     ]
    },
    {
     "cell_type": "code",
     "collapsed": false,
     "input": [
      "def myFunction(value1, value2):\n",
      "    \n",
      "    total = value1 + value2\n",
      "    difference = value1 - value2\n",
      "    product = value1 * value2\n",
      "    \n",
      "    return total, difference, product\n",
      "\n",
      "values = myFunction( 3, 7 )\n",
      "print \"Results as a tuple:\", values\n",
      "x, y, z = myFunction( 3, 7 )\n",
      "print \"x:\", x\n",
      "print \"y:\", y\n",
      "print \"z:\", z"
     ],
     "language": "python",
     "metadata": {},
     "outputs": [
      {
       "output_type": "stream",
       "stream": "stdout",
       "text": [
        "Results as a tuple: (10, -4, 21)\n",
        "x: 10\n",
        "y: -4\n",
        "z: 21\n"
       ]
      }
     ],
     "prompt_number": 92
    },
    {
     "cell_type": "heading",
     "level": 2,
     "metadata": {},
     "source": [
      "Function arguments"
     ]
    },
    {
     "cell_type": "markdown",
     "metadata": {},
     "source": [
      "Default arguments"
     ]
    },
    {
     "cell_type": "code",
     "collapsed": false,
     "input": [
      "def runSimulation(nsteps = 1000):\n",
      "    print \"Running simulation for\", nsteps, \"steps\"\n",
      "\n",
      "runSimulation(500)\n",
      "runSimulation()"
     ],
     "language": "python",
     "metadata": {},
     "outputs": [
      {
       "output_type": "stream",
       "stream": "stdout",
       "text": [
        "Running simulation for 500 steps\n",
        "Running simulation for 1000 steps\n"
       ]
      }
     ],
     "prompt_number": 93
    },
    {
     "cell_type": "markdown",
     "metadata": {},
     "source": [
      "**CAVEAT**: default arguments are defined once and keep their state between calls. This can be a problem for *mutable* objects:"
     ]
    },
    {
     "cell_type": "code",
     "collapsed": false,
     "input": [
      "def myFunction(parameters = []):\n",
      "    \n",
      "    parameters.append( 100 )\n",
      "    print parameters\n",
      "    \n",
      "myFunction()\n",
      "myFunction()\n",
      "myFunction()"
     ],
     "language": "python",
     "metadata": {},
     "outputs": [
      {
       "output_type": "stream",
       "stream": "stdout",
       "text": [
        "[100]\n",
        "[100, 100]\n",
        "[100, 100, 100]\n"
       ]
      }
     ],
     "prompt_number": 94
    },
    {
     "cell_type": "markdown",
     "metadata": {},
     "source": [
      "One can either create a \"new\" default every time a function is run:"
     ]
    },
    {
     "cell_type": "code",
     "collapsed": false,
     "input": [
      "def myFunction(parameters=None):\n",
      "    \n",
      "    if parameters is None:\n",
      "        parameters = []\n",
      "        \n",
      "    parameters.append( 100 )\n",
      "    print parameters\n",
      "    \n",
      "myFunction()\n",
      "myFunction()"
     ],
     "language": "python",
     "metadata": {},
     "outputs": [
      {
       "output_type": "stream",
       "stream": "stdout",
       "text": [
        "[100]\n",
        "[100]\n"
       ]
      }
     ],
     "prompt_number": 95
    },
    {
     "cell_type": "markdown",
     "metadata": {},
     "source": [
      "... or avoid modifying *mutable)* default arguments:"
     ]
    },
    {
     "cell_type": "code",
     "collapsed": false,
     "input": [
      "def myFunction(parameters= []):\n",
      "    print parameters + [ 100 ]\n",
      "    \n",
      "myFunction()\n",
      "myFunction()"
     ],
     "language": "python",
     "metadata": {},
     "outputs": [
      {
       "output_type": "stream",
       "stream": "stdout",
       "text": [
        "[100]\n",
        "[100]\n"
       ]
      }
     ],
     "prompt_number": 96
    },
    {
     "cell_type": "markdown",
     "metadata": {},
     "source": [
      "Arrange function arguments so that *mandatory* arguments come first:"
     ]
    },
    {
     "cell_type": "code",
     "collapsed": false,
     "input": [
      "def runSimulation(initialTemperature, nsteps = 1000):\n",
      "    print \"Running simulation starting at %s K and doing %s steps\" % ( initialTemperature, nsteps )\n",
      "    \n",
      "runSimulation(300, 500)\n",
      "runSimulation(300)"
     ],
     "language": "python",
     "metadata": {},
     "outputs": [
      {
       "output_type": "stream",
       "stream": "stdout",
       "text": [
        "Running simulation starting at 300 K and doing 500 steps\n",
        "Running simulation starting at 300 K and doing 1000 steps\n"
       ]
      }
     ],
     "prompt_number": 97
    },
    {
     "cell_type": "code",
     "collapsed": false,
     "input": [
      "def badFunction(nsteps = 1000, initialTemperature):\n",
      "    pass\n"
     ],
     "language": "python",
     "metadata": {},
     "outputs": [
      {
       "ename": "SyntaxError",
       "evalue": "non-default argument follows default argument (<ipython-input-98-4b4cfab7cf4c>, line 1)",
       "output_type": "pyerr",
       "traceback": [
        "\u001b[1;36m  File \u001b[1;32m\"<ipython-input-98-4b4cfab7cf4c>\"\u001b[1;36m, line \u001b[1;32m1\u001b[0m\n\u001b[1;31mSyntaxError\u001b[0m\u001b[1;31m:\u001b[0m non-default argument follows default argument\n"
       ]
      }
     ],
     "prompt_number": 98
    },
    {
     "cell_type": "markdown",
     "metadata": {},
     "source": [
      "Keyword arguments (identify argument by name vs by order):"
     ]
    },
    {
     "cell_type": "code",
     "collapsed": false,
     "input": [
      "runSimulation( nsteps = 100, initialTemperature = 300)"
     ],
     "language": "python",
     "metadata": {},
     "outputs": [
      {
       "output_type": "stream",
       "stream": "stdout",
       "text": [
        "Running simulation starting at 300 K and doing 100 steps\n"
       ]
      }
     ],
     "prompt_number": 99
    },
    {
     "cell_type": "markdown",
     "metadata": {},
     "source": [
      "No positional argument can appear after a keyword argument, and all required arguments must still be provided."
     ]
    },
    {
     "cell_type": "code",
     "collapsed": false,
     "input": [
      "runSimulation( nsteps = 100, 300 )"
     ],
     "language": "python",
     "metadata": {},
     "outputs": [
      {
       "ename": "SyntaxError",
       "evalue": "non-keyword arg after keyword arg (<ipython-input-100-08d7a2bd75c3>, line 1)",
       "output_type": "pyerr",
       "traceback": [
        "\u001b[1;36m  File \u001b[1;32m\"<ipython-input-100-08d7a2bd75c3>\"\u001b[1;36m, line \u001b[1;32m1\u001b[0m\n\u001b[1;31mSyntaxError\u001b[0m\u001b[1;31m:\u001b[0m non-keyword arg after keyword arg\n"
       ]
      }
     ],
     "prompt_number": 100
    },
    {
     "cell_type": "code",
     "collapsed": false,
     "input": [
      "runSimulation( nsteps = 100 )"
     ],
     "language": "python",
     "metadata": {},
     "outputs": [
      {
       "ename": "TypeError",
       "evalue": "runSimulation() takes at least 1 argument (1 given)",
       "output_type": "pyerr",
       "traceback": [
        "\u001b[1;31m---------------------------------------------------------------------------\u001b[0m\n\u001b[1;31mTypeError\u001b[0m                                 Traceback (most recent call last)",
        "\u001b[1;32m<ipython-input-101-94968ebd741b>\u001b[0m in \u001b[0;36m<module>\u001b[1;34m()\u001b[0m\n\u001b[1;32m----> 1\u001b[1;33m \u001b[0mrunSimulation\u001b[0m\u001b[1;33m(\u001b[0m \u001b[0mnsteps\u001b[0m \u001b[1;33m=\u001b[0m \u001b[1;36m100\u001b[0m \u001b[1;33m)\u001b[0m\u001b[1;33m\u001b[0m\u001b[0m\n\u001b[0m",
        "\u001b[1;31mTypeError\u001b[0m: runSimulation() takes at least 1 argument (1 given)"
       ]
      }
     ],
     "prompt_number": 101
    },
    {
     "cell_type": "markdown",
     "metadata": {},
     "source": [
      "Keyword names must match to those declared:"
     ]
    },
    {
     "cell_type": "code",
     "collapsed": false,
     "input": [
      "runSimulation( numSteps = 100 )"
     ],
     "language": "python",
     "metadata": {},
     "outputs": [
      {
       "ename": "TypeError",
       "evalue": "runSimulation() got an unexpected keyword argument 'numSteps'",
       "output_type": "pyerr",
       "traceback": [
        "\u001b[1;31m---------------------------------------------------------------------------\u001b[0m\n\u001b[1;31mTypeError\u001b[0m                                 Traceback (most recent call last)",
        "\u001b[1;32m<ipython-input-102-ceb415a5922d>\u001b[0m in \u001b[0;36m<module>\u001b[1;34m()\u001b[0m\n\u001b[1;32m----> 1\u001b[1;33m \u001b[0mrunSimulation\u001b[0m\u001b[1;33m(\u001b[0m \u001b[0mnumSteps\u001b[0m \u001b[1;33m=\u001b[0m \u001b[1;36m100\u001b[0m \u001b[1;33m)\u001b[0m\u001b[1;33m\u001b[0m\u001b[0m\n\u001b[0m",
        "\u001b[1;31mTypeError\u001b[0m: runSimulation() got an unexpected keyword argument 'numSteps'"
       ]
      }
     ],
     "prompt_number": 102
    },
    {
     "cell_type": "heading",
     "level": 3,
     "metadata": {},
     "source": [
      "Anonymous arguments"
     ]
    },
    {
     "cell_type": "markdown",
     "metadata": {},
     "source": [
      "This technique is used to \"pass thorugh\" arguments to a function called within the function."
     ]
    },
    {
     "cell_type": "code",
     "collapsed": false,
     "input": [
      "def setStyle(low = 0, high = 255, color = \"blue\", speed = 1.0):\n",
      "    print \"low: %s\" % low\n",
      "    print \"high: %s\" % high\n",
      "    print \"color: %s\" % color\n",
      "    print \"speed: %s\" % speed\n",
      "\n",
      "def draw(obj, *args, **kwargs):\n",
      "    print args\n",
      "    print kwargs\n",
      "    setStyle( *args, **kwargs )"
     ],
     "language": "python",
     "metadata": {},
     "outputs": [],
     "prompt_number": 103
    },
    {
     "cell_type": "code",
     "collapsed": false,
     "input": [
      "draw( object() )"
     ],
     "language": "python",
     "metadata": {},
     "outputs": [
      {
       "output_type": "stream",
       "stream": "stdout",
       "text": [
        "()\n",
        "{}\n",
        "low: 0\n",
        "high: 255\n",
        "color: blue\n",
        "speed: 1.0\n"
       ]
      }
     ],
     "prompt_number": 104
    },
    {
     "cell_type": "code",
     "collapsed": false,
     "input": [
      "draw( object(), 1, 100, color = \"red\", speed = 1.0 )"
     ],
     "language": "python",
     "metadata": {},
     "outputs": [
      {
       "output_type": "stream",
       "stream": "stdout",
       "text": [
        "(1, 100)\n",
        "{'color': 'red', 'speed': 1.0}\n",
        "low: 1\n",
        "high: 100\n",
        "color: red\n",
        "speed: 1.0\n"
       ]
      }
     ],
     "prompt_number": 105
    },
    {
     "cell_type": "markdown",
     "metadata": {},
     "source": [
      "For anonymous arguments, the same rules apply: no positional argument can come after a keyword argument, and all required arguments must be provided. Extra arguments are collected in the respective *list* or *dict*."
     ]
    },
    {
     "cell_type": "code",
     "collapsed": false,
     "input": [
      "draw( color = \"red\" )"
     ],
     "language": "python",
     "metadata": {},
     "outputs": [
      {
       "ename": "TypeError",
       "evalue": "draw() takes at least 1 argument (0 given)",
       "output_type": "pyerr",
       "traceback": [
        "\u001b[1;31m---------------------------------------------------------------------------\u001b[0m\n\u001b[1;31mTypeError\u001b[0m                                 Traceback (most recent call last)",
        "\u001b[1;32m<ipython-input-106-923c070f7cb8>\u001b[0m in \u001b[0;36m<module>\u001b[1;34m()\u001b[0m\n\u001b[1;32m----> 1\u001b[1;33m \u001b[0mdraw\u001b[0m\u001b[1;33m(\u001b[0m \u001b[0mcolor\u001b[0m \u001b[1;33m=\u001b[0m \u001b[1;34m\"red\"\u001b[0m \u001b[1;33m)\u001b[0m\u001b[1;33m\u001b[0m\u001b[0m\n\u001b[0m",
        "\u001b[1;31mTypeError\u001b[0m: draw() takes at least 1 argument (0 given)"
       ]
      }
     ],
     "prompt_number": 106
    },
    {
     "cell_type": "heading",
     "level": 2,
     "metadata": {},
     "source": [
      "Variable scope"
     ]
    },
    {
     "cell_type": "markdown",
     "metadata": {},
     "source": [
      "Each variable has its scope. Variables defined at the outermost level are globals (although typically only for the current module). In contrast, variables defined within functions are local to the function, and cannot be accessed from the outside."
     ]
    },
    {
     "cell_type": "code",
     "collapsed": false,
     "input": [
      "def mathFunction(x, y):\n",
      "    result = ( x + y ) * ( x - y )\n",
      "    return result"
     ],
     "language": "python",
     "metadata": {},
     "outputs": [],
     "prompt_number": 107
    },
    {
     "cell_type": "code",
     "collapsed": false,
     "input": [
      "answer = mathFunction( 4, 7 )\n",
      "print answer"
     ],
     "language": "python",
     "metadata": {},
     "outputs": [
      {
       "output_type": "stream",
       "stream": "stdout",
       "text": [
        "-33\n"
       ]
      }
     ],
     "prompt_number": 108
    },
    {
     "cell_type": "code",
     "collapsed": false,
     "input": [
      "answer = mathFunction( 4, 7 )\n",
      "print result"
     ],
     "language": "python",
     "metadata": {},
     "outputs": [
      {
       "ename": "NameError",
       "evalue": "name 'result' is not defined",
       "output_type": "pyerr",
       "traceback": [
        "\u001b[1;31m---------------------------------------------------------------------------\u001b[0m\n\u001b[1;31mNameError\u001b[0m                                 Traceback (most recent call last)",
        "\u001b[1;32m<ipython-input-109-6014ea6f99fd>\u001b[0m in \u001b[0;36m<module>\u001b[1;34m()\u001b[0m\n\u001b[0;32m      1\u001b[0m \u001b[0manswer\u001b[0m \u001b[1;33m=\u001b[0m \u001b[0mmathFunction\u001b[0m\u001b[1;33m(\u001b[0m \u001b[1;36m4\u001b[0m\u001b[1;33m,\u001b[0m \u001b[1;36m7\u001b[0m \u001b[1;33m)\u001b[0m\u001b[1;33m\u001b[0m\u001b[0m\n\u001b[1;32m----> 2\u001b[1;33m \u001b[1;32mprint\u001b[0m \u001b[0mresult\u001b[0m\u001b[1;33m\u001b[0m\u001b[0m\n\u001b[0m",
        "\u001b[1;31mNameError\u001b[0m: name 'result' is not defined"
       ]
      }
     ],
     "prompt_number": 109
    },
    {
     "cell_type": "markdown",
     "metadata": {},
     "source": [
      "Functions can still access global variables. However, if a local variable with the same name as a global is defined, it hides the global:"
     ]
    },
    {
     "cell_type": "code",
     "collapsed": false,
     "input": [
      "counter = 0 # global variable\n",
      "\n",
      "def show_counter():\n",
      "    print counter\n",
      "    \n",
      "def set_counter(value):\n",
      "    counter = value # creates a new variable with the same name\n",
      "    print \"Counter value: from set_counter: %s\" % counter\n",
      "    print \"Counter value via show_counter from set_counter:\"\n",
      "    show_counter()\n",
      "    \n",
      "show_counter()\n",
      "set_counter( 10 )\n",
      "print \"Counter value via show_counter from global scope\"\n",
      "show_counter()"
     ],
     "language": "python",
     "metadata": {},
     "outputs": [
      {
       "output_type": "stream",
       "stream": "stdout",
       "text": [
        "0\n",
        "Counter value: from set_counter: 10\n",
        "Counter value via show_counter from set_counter:\n",
        "0\n",
        "Counter value via show_counter from global scope\n",
        "0\n"
       ]
      }
     ],
     "prompt_number": 110
    },
    {
     "cell_type": "markdown",
     "metadata": {},
     "source": [
      "Python detects whether an assignment is made by the code to a given name, and decides whether a name refers to a local or a global variable. This can create surprising results:"
     ]
    },
    {
     "cell_type": "code",
     "collapsed": false,
     "input": [
      "def set_counter2(value):\n",
      "    print \"Counter before setting: %s\" % counter # counter refers to the local variable that will be created in the next line\n",
      "    counter = value\n",
      "    print \"Counter after setting: %s\" % counter\n",
      "\n",
      "show_counter()\n",
      "set_counter2( 10 )"
     ],
     "language": "python",
     "metadata": {},
     "outputs": [
      {
       "ename": "UnboundLocalError",
       "evalue": "local variable 'counter' referenced before assignment",
       "output_type": "pyerr",
       "traceback": [
        "\u001b[1;31m---------------------------------------------------------------------------\u001b[0m\n\u001b[1;31mUnboundLocalError\u001b[0m                         Traceback (most recent call last)",
        "\u001b[1;32m<ipython-input-111-c10385210b9c>\u001b[0m in \u001b[0;36m<module>\u001b[1;34m()\u001b[0m\n\u001b[0;32m      5\u001b[0m \u001b[1;33m\u001b[0m\u001b[0m\n\u001b[0;32m      6\u001b[0m \u001b[0mshow_counter\u001b[0m\u001b[1;33m(\u001b[0m\u001b[1;33m)\u001b[0m\u001b[1;33m\u001b[0m\u001b[0m\n\u001b[1;32m----> 7\u001b[1;33m \u001b[0mset_counter2\u001b[0m\u001b[1;33m(\u001b[0m \u001b[1;36m10\u001b[0m \u001b[1;33m)\u001b[0m\u001b[1;33m\u001b[0m\u001b[0m\n\u001b[0m",
        "\u001b[1;32m<ipython-input-111-c10385210b9c>\u001b[0m in \u001b[0;36mset_counter2\u001b[1;34m(value)\u001b[0m\n\u001b[0;32m      1\u001b[0m \u001b[1;32mdef\u001b[0m \u001b[0mset_counter2\u001b[0m\u001b[1;33m(\u001b[0m\u001b[0mvalue\u001b[0m\u001b[1;33m)\u001b[0m\u001b[1;33m:\u001b[0m\u001b[1;33m\u001b[0m\u001b[0m\n\u001b[1;32m----> 2\u001b[1;33m     \u001b[1;32mprint\u001b[0m \u001b[1;34m\"Counter before setting: %s\"\u001b[0m \u001b[1;33m%\u001b[0m \u001b[0mcounter\u001b[0m \u001b[1;31m# counter refers to the local variable that will be created in the next line\u001b[0m\u001b[1;33m\u001b[0m\u001b[0m\n\u001b[0m\u001b[0;32m      3\u001b[0m     \u001b[0mcounter\u001b[0m \u001b[1;33m=\u001b[0m \u001b[0mvalue\u001b[0m\u001b[1;33m\u001b[0m\u001b[0m\n\u001b[0;32m      4\u001b[0m     \u001b[1;32mprint\u001b[0m \u001b[1;34m\"Counter after setting: %s\"\u001b[0m \u001b[1;33m%\u001b[0m \u001b[0mcounter\u001b[0m\u001b[1;33m\u001b[0m\u001b[0m\n\u001b[0;32m      5\u001b[0m \u001b[1;33m\u001b[0m\u001b[0m\n",
        "\u001b[1;31mUnboundLocalError\u001b[0m: local variable 'counter' referenced before assignment"
       ]
      },
      {
       "output_type": "stream",
       "stream": "stdout",
       "text": [
        "0\n"
       ]
      }
     ],
     "prompt_number": 111
    },
    {
     "cell_type": "markdown",
     "metadata": {},
     "source": [
      "The solution is to use the ``global`` keyword to tell Python to bind the name with the global:"
     ]
    },
    {
     "cell_type": "code",
     "collapsed": false,
     "input": [
      "def set_counter3(value):\n",
      "    global counter\n",
      "    print \"Counter before setting: %s\" % counter\n",
      "    counter = value\n",
      "    print \"Counter after setting: %s\" % counter\n",
      "    \n",
      "show_counter()\n",
      "set_counter3( 10 )\n",
      "print \"Counter value via show_counter\"\n",
      "show_counter()"
     ],
     "language": "python",
     "metadata": {},
     "outputs": [
      {
       "output_type": "stream",
       "stream": "stdout",
       "text": [
        "0\n",
        "Counter before setting: 0\n",
        "Counter after setting: 10\n",
        "Counter value via show_counter\n",
        "10\n"
       ]
      }
     ],
     "prompt_number": 112
    },
    {
     "cell_type": "markdown",
     "metadata": {},
     "source": [
      "However, it is normally safer to avoid global variables and passing through arguments instead."
     ]
    },
    {
     "cell_type": "code",
     "collapsed": false,
     "input": [
      "def increment(counter):\n",
      "    return counter + 1\n",
      "\n",
      "counter = 0\n",
      "counter = increment( counter )\n",
      "print counter"
     ],
     "language": "python",
     "metadata": {},
     "outputs": [
      {
       "output_type": "stream",
       "stream": "stdout",
       "text": [
        "1\n"
       ]
      }
     ],
     "prompt_number": 113
    },
    {
     "cell_type": "heading",
     "level": 2,
     "metadata": {},
     "source": [
      "Bio examples"
     ]
    },
    {
     "cell_type": "heading",
     "level": 3,
     "metadata": {},
     "source": [
      "Translate RNA sequence to protein sequence"
     ]
    },
    {
     "cell_type": "code",
     "collapsed": false,
     "input": [
      "standardGeneticCode = { \n",
      "          'UUU':'Phe', 'UUC':'Phe', 'UCU':'Ser', 'UCC':'Ser',\n",
      "          'UAU':'Tyr', 'UAC':'Tyr', 'UGU':'Cys', 'UGC':'Cys',\n",
      "          'UUA':'Leu', 'UCA':'Ser', 'UAA':None,  'UGA':None,\n",
      "          'UUG':'Leu', 'UCG':'Ser', 'UAG':None,  'UGG':'Trp',\n",
      "          'CUU':'Leu', 'CUC':'Leu', 'CCU':'Pro', 'CCC':'Pro',\n",
      "          'CAU':'His', 'CAC':'His', 'CGU':'Arg', 'CGC':'Arg',\n",
      "          'CUA':'Leu', 'CUG':'Leu', 'CCA':'Pro', 'CCG':'Pro',\n",
      "          'CAA':'Gln', 'CAG':'Gln', 'CGA':'Arg', 'CGG':'Arg',\n",
      "          'AUU':'Ile', 'AUC':'Ile', 'ACU':'Thr', 'ACC':'Thr',\n",
      "          'AAU':'Asn', 'AAC':'Asn', 'AGU':'Ser', 'AGC':'Ser',\n",
      "          'AUA':'Ile', 'ACA':'Thr', 'AAA':'Lys', 'AGA':'Arg',\n",
      "          'AUG':'Met', 'ACG':'Thr', 'AAG':'Lys', 'AGG':'Arg',\n",
      "          'GUU':'Val', 'GUC':'Val', 'GCU':'Ala', 'GCC':'Ala',\n",
      "          'GAU':'Asp', 'GAC':'Asp', 'GGU':'Gly', 'GGC':'Gly',\n",
      "          'GUA':'Val', 'GUG':'Val', 'GCA':'Ala', 'GCG':'Ala', \n",
      "          'GAA':'Glu', 'GAG':'Glu', 'GGA':'Gly', 'GGG':'Gly'}\n",
      "\n",
      "\n",
      "def proteinTranslation(seq, geneticCode):\n",
      "  \"\"\" This function translates a nucleic acid sequence into a\n",
      "      protein sequence, until the end or until it comes across\n",
      "      a stop codon \"\"\"\n",
      "   \n",
      "  seq = seq.replace('T','U') # Make sure we have RNA sequence\n",
      "  proteinSeq = []\n",
      "\n",
      "  i = 0\n",
      "  while i+2 < len(seq):\n",
      "    codon = seq[i:i+3]\n",
      "    aminoAcid = geneticCode[codon]\n",
      "\n",
      "    if aminoAcid is None: # Found stop codon\n",
      "      break\n",
      "\n",
      "    proteinSeq.append(aminoAcid)\n",
      "    i += 3\n",
      "\n",
      "  return proteinSeq\n",
      "\n",
      "dnaSeq = 'ATGGTGCATCTGACTCCTGAGGAGAAGTCTGCCGTTACTGCCCTGTGGGGCAAGGTG'\n",
      "protein3LetterSeq = proteinTranslation(dnaSeq, standardGeneticCode)\n",
      "print protein3LetterSeq"
     ],
     "language": "python",
     "metadata": {},
     "outputs": [
      {
       "output_type": "stream",
       "stream": "stdout",
       "text": [
        "['Met', 'Val', 'His', 'Leu', 'Thr', 'Pro', 'Glu', 'Glu', 'Lys', 'Ser', 'Ala', 'Val', 'Thr', 'Ala', 'Leu', 'Trp', 'Gly', 'Lys', 'Val']\n"
       ]
      }
     ],
     "prompt_number": 114
    },
    {
     "cell_type": "heading",
     "level": 3,
     "metadata": {},
     "source": [
      "Biopolymer mass"
     ]
    },
    {
     "cell_type": "code",
     "collapsed": false,
     "input": [
      "def estimateMolMass(seq, molType='protein'):\n",
      "  \"\"\"Calculate the molecular weight of a biological sequence assuming\n",
      "     normal isotopic ratios and protonation/modification states\n",
      "  \"\"\"\n",
      "\n",
      "  residueMasses = {\"DNA\":\n",
      "                   {\"G\":329.21,\"C\":289.18,\"A\":323.21,\"T\":304.19,},\n",
      "                   \"RNA\":\n",
      "                   {\"G\":345.21,\"C\":305.18,\"A\":329.21,\"U\":302.16,},\n",
      "                   \"protein\":\n",
      "                   {\"A\": 71.07,\"R\":156.18,\"N\":114.08, \"D\":115.08,\n",
      "                    \"C\":103.10,\"Q\":128.13, \"E\":129.11,\"G\": 57.05,\n",
      "                    \"H\":137.14, \"I\":113.15,\"L\":113.15,\"K\":128.17,\n",
      "                    \"M\":131.19,\"F\":147.17,\"P\": 97.11, \"S\": 87.07,\n",
      "                    \"T\":101.10,\"W\":186.20, \"Y\":163.17,\"V\": 99.13}}\n",
      "  \n",
      "  massDict = residueMasses[molType]\n",
      "\n",
      "  # Begin with mass of extra end atoms H + OH\n",
      "  molMass = 18.02\n",
      "\n",
      "  for letter in seq:\n",
      "    molMass += massDict.get(letter, 0.0)\n",
      "\n",
      "  return molMass\n",
      "  \n",
      "\n",
      "proteinSeq = 'IRTNGTHMQPLLKLMKFQKFLLELFTLQKRKPEKGYNLPIISLNQ'\n",
      "print \"Protein mass: %.3f\" % estimateMolMass(proteinSeq)\n",
      "print \"DNA mass: %.2f\" % estimateMolMass(dnaSeq, molType='DNA')"
     ],
     "language": "python",
     "metadata": {},
     "outputs": [
      {
       "output_type": "stream",
       "stream": "stdout",
       "text": [
        "Protein mass: 5370.180\n",
        "DNA mass: 17852.32\n"
       ]
      }
     ],
     "prompt_number": 115
    },
    {
     "cell_type": "heading",
     "level": 3,
     "metadata": {},
     "source": [
      "G+C content along chain"
     ]
    },
    {
     "cell_type": "code",
     "collapsed": false,
     "input": [
      "def calcGcContent(seq, winSize=10):\n",
      "  \n",
      "  gcValues = []\n",
      "  \n",
      "  for i in range(len(seq)-winSize):\n",
      "\n",
      "    subSeq = seq[i:i+winSize]\n",
      "\n",
      "    numGc = subSeq.count('G') + subSeq.count('C')\n",
      "\n",
      "    value = numGc/float(winSize)  # at least in Python 2.4, 2.5\n",
      "\n",
      "    gcValues.append(value)\n",
      "\n",
      "  return gcValues\n",
      "\n",
      "gcResults = calcGcContent( dnaSeq )\n",
      "print gcResults"
     ],
     "language": "python",
     "metadata": {},
     "outputs": [
      {
       "output_type": "stream",
       "stream": "stdout",
       "text": [
        "[0.5, 0.5, 0.6, 0.5, 0.5, 0.5, 0.5, 0.5, 0.5, 0.6, 0.5, 0.6, 0.6, 0.6, 0.6, 0.6, 0.5, 0.5, 0.5, 0.5, 0.5, 0.5, 0.5, 0.6, 0.6, 0.6, 0.6, 0.5, 0.6, 0.5, 0.6, 0.6, 0.6, 0.6, 0.5, 0.6, 0.6, 0.7, 0.7, 0.8, 0.8, 0.8, 0.7, 0.6, 0.7, 0.7, 0.7]\n"
       ]
      }
     ],
     "prompt_number": 116
    },
    {
     "cell_type": "code",
     "collapsed": false,
     "input": [
      "from matplotlib import pyplot\n",
      "pyplot.plot( gcResults )\n",
      "pyplot.show()"
     ],
     "language": "python",
     "metadata": {},
     "outputs": [],
     "prompt_number": 117
    },
    {
     "cell_type": "heading",
     "level": 3,
     "metadata": {},
     "source": [
      "Protein hydrophobicity plot"
     ]
    },
    {
     "cell_type": "code",
     "collapsed": false,
     "input": [
      "gesScale = {'F':-3.7,'M':-3.4,'I':-3.1,'L':-2.8,'V':-2.6,\n",
      "            'C':-2.0,'W':-1.9,'A':-1.6,'T':-1.2,'G':-1.0,\n",
      "            'S':-0.6,'P': 0.2,'Y': 0.7,'H': 3.0,'Q': 4.1,\n",
      "            'N': 4.8,'E': 8.2,'K': 8.8,'D': 9.2,'R':12.3}\n",
      "\n",
      "def hydrophobicitySearch(seq, scale, winSize=15):\n",
      "  \"\"\"Scan a protein sequence for hydrophobic regions using the GES\n",
      "     hydrophobicity scale.\n",
      "  \"\"\"\n",
      "\n",
      "  score = None\n",
      "  scoreList  = []\n",
      "\n",
      "  for i in range(len(seq)- winSize):\n",
      "    j = i + winSize\n",
      "    \n",
      "    if score is None:\n",
      "      score = 0\n",
      "      for k in range(i,j):\n",
      "        score += scale[seq[k]]\n",
      "\n",
      "    else:\n",
      "      score += scale[seq[j-1]]\n",
      "      score -= scale[seq[i-1]]\n",
      "\n",
      "    scoreList.append(score)\n",
      "\n",
      "  return scoreList\n",
      "\n",
      "\n",
      "scores = hydrophobicitySearch(proteinSeq, gesScale)\n",
      "print scores"
     ],
     "language": "python",
     "metadata": {},
     "outputs": [
      {
       "output_type": "stream",
       "stream": "stdout",
       "text": [
        "[11.499999999999998, 23.4, 7.399999999999999, 12.699999999999998, 16.7, 14.0, 12.399999999999999, 6.599999999999998, 18.199999999999996, 11.299999999999995, 7.399999999999995, 8.999999999999995, 8.999999999999995, 4.299999999999994, 15.899999999999995, 31.599999999999994, 31.59999999999999, 35.49999999999999, 39.59999999999999, 39.599999999999994, 42.3, 45.8, 53.39999999999999, 42.39999999999999, 45.39999999999999, 45.99999999999999, 44.099999999999994, 46.29999999999999, 39.39999999999999, 35.39999999999999]\n"
       ]
      }
     ],
     "prompt_number": 118
    },
    {
     "cell_type": "code",
     "collapsed": false,
     "input": [
      "from matplotlib import pyplot\n",
      "pyplot.plot(scores)\n",
      "pyplot.show()"
     ],
     "language": "python",
     "metadata": {},
     "outputs": [],
     "prompt_number": 119
    },
    {
     "cell_type": "heading",
     "level": 3,
     "metadata": {},
     "source": [
      "Read PDB file and calculate centroid"
     ]
    },
    {
     "cell_type": "code",
     "collapsed": false,
     "input": [
      "def readPDB(fileName):\n",
      "    \n",
      "    atoms = []\n",
      "    \n",
      "    for line in open( fileName ):\n",
      "        if line[:6] == \"ATOM  \":\n",
      "            atoms.append(\n",
      "                ( float( line[30:38] ), float( line[38:46] ), float( line[46:54] ) )\n",
      "                )\n",
      "    \n",
      "    return atoms\n",
      "\n",
      "def calcCentroid(atoms):\n",
      "    \n",
      "    natoms = len( atoms )\n",
      "    \n",
      "    if natoms == 0:\n",
      "        return ( 0, 0, 0 )\n",
      "    \n",
      "    xsum = ysum = zsum = 0\n",
      "    \n",
      "    for ( x, y, z ) in atoms:\n",
      "        xsum += x\n",
      "        ysum += y\n",
      "        zsum += z\n",
      "        \n",
      "    return ( xsum / natoms, ysum / natoms, zsum / natoms )"
     ],
     "language": "python",
     "metadata": {},
     "outputs": [],
     "prompt_number": 120
    },
    {
     "cell_type": "code",
     "collapsed": false,
     "input": [],
     "language": "python",
     "metadata": {},
     "outputs": []
    }
   ],
   "metadata": {}
  }
 ]
}