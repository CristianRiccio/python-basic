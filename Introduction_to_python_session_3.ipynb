{
 "metadata": {
  "name": ""
 },
 "nbformat": 3,
 "nbformat_minor": 0,
 "worksheets": [
  {
   "cells": [
    {
     "cell_type": "heading",
     "level": 2,
     "metadata": {},
     "source": [
      "Function basics"
     ]
    },
    {
     "cell_type": "markdown",
     "metadata": {},
     "source": [
      "We have already seen a number of functions built in to python that let us do useful things to strings, collections and numbers etc. For example `len()` which is passed some kind of sequence object and returns the length of the sequence.\n",
      "\n",
      "This is the general form of a function; it takes some input _arguments_ and returns some output based on the supplied arguments.\n",
      "\n",
      "The arguments to a function, if any, are supplied in parentheses and the result of the function _call_ is the result of evaluating the function.\n"
     ]
    },
    {
     "cell_type": "code",
     "collapsed": false,
     "input": [
      "x = abs(-3.0)\n",
      "print x\n",
      "\n",
      "l = len(\"ACGGTGTCAA\")\n",
      "print l"
     ],
     "language": "python",
     "metadata": {},
     "outputs": []
    },
    {
     "cell_type": "markdown",
     "metadata": {},
     "source": [
      "As well as using python's built in functions, you can write your own. Functions are a nice way to encapsulate some code that you want to reuse elsewhere in your program, rather than repeating the same bit of code multiple times. They also provide a way to name some coherent block of code and allow you to structure a complex program."
     ]
    },
    {
     "cell_type": "heading",
     "level": 2,
     "metadata": {},
     "source": [
      "Function definition syntax"
     ]
    },
    {
     "cell_type": "markdown",
     "metadata": {},
     "source": [
      "Functions are defined in Python using the `def` keyword followed by the name of the function. If your function takes some arguments (input data) then you can name these in parentheses after the function name. If your function does not take any arguments you still need some empty parentheses. Here we define a simple function named `sayHello` that prints a line of text to the screen:"
     ]
    },
    {
     "cell_type": "code",
     "collapsed": false,
     "input": [
      "def sayHello():\n",
      "    print 'Hello world'"
     ],
     "language": "python",
     "metadata": {},
     "outputs": []
    },
    {
     "cell_type": "markdown",
     "metadata": {},
     "source": [
      "Note that the code block for the function (just a single print line in this case) is indented relative to the `def`. The above definition just decalares the function in an abstract way and nothing will be printed when the definition is made. To actually use a function you need to invoke it (call it) by using its name and a pair of round parentheses:"
     ]
    },
    {
     "cell_type": "code",
     "collapsed": false,
     "input": [
      "sayHello() # Call the function to print 'Hello world'"
     ],
     "language": "python",
     "metadata": {},
     "outputs": []
    },
    {
     "cell_type": "markdown",
     "metadata": {},
     "source": [
      "If required, a function may be written so it accepts input. Here we specify a variable called `name` in the brackets of the function definition and this variable is then used by the function. Although the input variable is referred to inside the function the variable does not represent any particular value. It only takes a value if the function is actually used in context."
     ]
    },
    {
     "cell_type": "code",
     "collapsed": false,
     "input": [
      "def sayHello(name):\n",
      "    print 'Hello ' + name"
     ],
     "language": "python",
     "metadata": {},
     "outputs": []
    },
    {
     "cell_type": "markdown",
     "metadata": {},
     "source": [
      "When we call (invoke) this function we specify a specific value for the input. Here we pass in the value `User`, so the name variable takes that value and uses it to print a message, as defined in the function. "
     ]
    },
    {
     "cell_type": "code",
     "collapsed": false,
     "input": [
      "sayHello('User')  # Prints 'Hello User'"
     ],
     "language": "python",
     "metadata": {},
     "outputs": []
    },
    {
     "cell_type": "markdown",
     "metadata": {},
     "source": [
      "When we call the function again with a different input value we naturally get a different message. Here we also illustrate that the input value can also be passed-in as a variable (text in this case)."
     ]
    },
    {
     "cell_type": "code",
     "collapsed": false,
     "input": [
      "text = 'Mary'\n",
      "sayHello(text)     # Prints 'Hello Mary'"
     ],
     "language": "python",
     "metadata": {},
     "outputs": []
    },
    {
     "cell_type": "markdown",
     "metadata": {},
     "source": [
      "A function may also generate output that is passed back or returned to the program at the point at which the function was called. For example here we define a function to do a simple calculation of the square of input (`x`) to create an output (`y`):"
     ]
    },
    {
     "cell_type": "code",
     "collapsed": false,
     "input": [
      "def square(x):\n",
      "\n",
      "  y = x*x\n",
      "  \n",
      "  return y"
     ],
     "language": "python",
     "metadata": {},
     "outputs": []
    },
    {
     "cell_type": "markdown",
     "metadata": {},
     "source": [
      "Once the `return` statement is reached the operation of the function will end, and anything on the return line will be passed back as output. Here we call the function on an input number and catch the output value as result. Notice how the names of the variables used inside the function definition are separate from any variable names we may choose to use when calling the function.\n",
      "  "
     ]
    },
    {
     "cell_type": "code",
     "collapsed": false,
     "input": [
      "number = 7\n",
      "result = square(number)\n",
      "print result           # Prints: 49"
     ],
     "language": "python",
     "metadata": {},
     "outputs": []
    },
    {
     "cell_type": "markdown",
     "metadata": {},
     "source": [
      "The function `square` and can be used from now on anywhere in your program as many times as required on any (numeric) input values we like."
     ]
    },
    {
     "cell_type": "code",
     "collapsed": false,
     "input": [
      "print square(1.2e-3)   # Prints: 1.44e-6"
     ],
     "language": "python",
     "metadata": {},
     "outputs": []
    },
    {
     "cell_type": "markdown",
     "metadata": {},
     "source": [
      "A function can accept multiple input values, otherwise known as arguments. These are separated by commas inside the brackets of the function definition. Here we define a function that takes two arguments and performs a calculation on both, before sending back the result.\n"
     ]
    },
    {
     "cell_type": "code",
     "collapsed": false,
     "input": [
      "def calcFunc(x, y):\n",
      "\n",
      "  z = x*x + y*y\n",
      "  \n",
      "  return z\n",
      "\n",
      "result = calcFunc(1.414, 2.0)\n",
      "\n",
      "print(result)  #  5.999396\n",
      " "
     ],
     "language": "python",
     "metadata": {},
     "outputs": []
    },
    {
     "cell_type": "markdown",
     "metadata": {},
     "source": [
      "Note that this function does not check that x and y are valid forms of input. For the function to work properly we assume they are numbers. Depending on how this function is going to be used, appropriate checks could be added."
     ]
    },
    {
     "cell_type": "markdown",
     "metadata": {},
     "source": [
      "Functions can be arbitrarily long and can peform very complex operations. However, to make a function reusable, it is often better to assign it a single responsibility and a descriptive name."
     ]
    },
    {
     "cell_type": "code",
     "collapsed": false,
     "input": [
      "def calcDistance(vec1, vec2):\n",
      "    \n",
      "    assert len( vec1 ) == len( vec2 ) # check dimensions\n",
      "    from math import sqrt # import square-root function\n",
      "    \n",
      "    d2 = 0\n",
      "    \n",
      "    for i in range( len( vec1 ) ):\n",
      "        delta = vec1[i] - vec2[i]\n",
      "        d2 += delta * delta\n",
      "        \n",
      "    dist = sqrt( d2 )\n",
      "    return dist"
     ],
     "language": "python",
     "metadata": {},
     "outputs": []
    },
    {
     "cell_type": "markdown",
     "metadata": {},
     "source": [
      "Let's experiment a little with our function."
     ]
    },
    {
     "cell_type": "code",
     "collapsed": false,
     "input": [
      "w1 = ( 23.1, 17.8, -5.6 )\n",
      "w2 = ( 8.4, 15.9, 7.7 )\n",
      "calcDistance( w1, w2 )"
     ],
     "language": "python",
     "metadata": {},
     "outputs": []
    },
    {
     "cell_type": "markdown",
     "metadata": {},
     "source": [
      "Note that the function is general and handles any two vectors (irrespective of their representation) as long as their dimensions are compatible:"
     ]
    },
    {
     "cell_type": "code",
     "collapsed": false,
     "input": [
      "calcDistance( ( 1, 2 ), ( 3, 4 ) ) # dimension: 2"
     ],
     "language": "python",
     "metadata": {},
     "outputs": []
    },
    {
     "cell_type": "code",
     "collapsed": false,
     "input": [
      "calcDistance( [ 1, 2 ], [ 3, 4 ] ) # vectors represented as lists"
     ],
     "language": "python",
     "metadata": {},
     "outputs": []
    },
    {
     "cell_type": "code",
     "collapsed": false,
     "input": [
      "calcDistance( ( 1, 2 ), [ 3, 4 ] ) # mixed representation"
     ],
     "language": "python",
     "metadata": {},
     "outputs": []
    },
    {
     "cell_type": "heading",
     "level": 3,
     "metadata": {},
     "source": [
      "Exercises"
     ]
    },
    {
     "cell_type": "markdown",
     "metadata": {},
     "source": [
      "1. Write a function that takes 2 numerical arguments and returns their mean, you should check that the arguments are really numbers. Test your function on some examples.\n",
      "2. Write another function that takes a list of numbers and returns the mean of all the numbers in the list.\n",
      "3. Write a function that takes a single DNA sequence as an argument and estimates the molecular weight of this sequence. Test your function using sequences passed on the command line. The following table gives the weight of each (single-stranded) nucleotide in g/mol:\n",
      "\n",
      "<table>\n",
      "    <tr><th>DNA Residue</th><th>Weight</th></tr>\n",
      "    <tr><td>A</td><td>331</td></tr>\n",
      "    <tr><td>C</td><td>307</td></tr>\n",
      "    <tr><td>G</td><td>347</td></tr>\n",
      "    <tr><td>T</td><td>306</td></tr>\n",
      "</table>\n",
      "\n",
      "4. (Extra, if you have time) If the sequence passed in above contains `N` bases, use the mean weight of the other bases as the weight."
     ]
    },
    {
     "cell_type": "heading",
     "level": 2,
     "metadata": {},
     "source": [
      "Return value"
     ]
    },
    {
     "cell_type": "markdown",
     "metadata": {},
     "source": [
      "There can be more than one `return` statement in a function, although typically there is only one, at the bottom. Consider the following function to get some text to say whether a number is positive or negative. It has three return statements: the first two return statements pass back text strings but the last, which would be reached if the input value were zero, has no explicit return value and thus passes back the Python `None` object. Any function code after this final return is ignored. \n",
      "The `return` keyword immediately exits the function, and no more of the code in that function will be run once the function has returned (as program flow will be returned to the call site)"
     ]
    },
    {
     "cell_type": "code",
     "collapsed": false,
     "input": [
      "def getSign(value):\n",
      "    \n",
      "    if value > 0:\n",
      "        return \"Positive\"\n",
      "    \n",
      "    elif value < 0:\n",
      "        return \"Negative\"\n",
      "    \n",
      "    return # implicit 'None'\n",
      "\n",
      "    print \"Hello world\" # execution does not reach this line\n",
      "    \n",
      "print \"getSign( 33.6 ):\", getSign( 33.6 )\n",
      "print \"getSign( -7 ):\", getSign( -7 )\n",
      "print \"getSign( 0 ):\", getSign( 0 )"
     ],
     "language": "python",
     "metadata": {},
     "outputs": []
    },
    {
     "cell_type": "markdown",
     "metadata": {},
     "source": [
      "All of the examples of functions so far have returned only single values, however it is possible to pass back more than one value via the `return` statement. In the following example we define a function that takes two arguments and passes back three values. The return values are really passed back inside a single tuple, which can be caught as a single collection of values. "
     ]
    },
    {
     "cell_type": "code",
     "collapsed": false,
     "input": [
      "def myFunction(value1, value2):\n",
      "    \n",
      "    total = value1 + value2\n",
      "    difference = value1 - value2\n",
      "    product = value1 * value2\n",
      "    \n",
      "    return total, difference, product\n",
      "\n",
      "values = myFunction( 3, 7 )  # Grab output as a whole tuple\n",
      "print \"Results as a tuple:\", values\n",
      "\n",
      "x, y, z = myFunction( 3, 7 ) # Unpack tuple to rab individual values\n",
      "print \"x:\", x\n",
      "print \"y:\", y\n",
      "print \"z:\", z"
     ],
     "language": "python",
     "metadata": {},
     "outputs": []
    },
    {
     "cell_type": "heading",
     "level": 2,
     "metadata": {},
     "source": [
      "Exercises"
     ]
    },
    {
     "cell_type": "markdown",
     "metadata": {},
     "source": [
      "1. Write a function that counts the number of each base found in a DNA sequence. Return the result as a tuple of 4 numbers representing the counts of each base `A`, `C`, `G` and `T`."
     ]
    },
    {
     "cell_type": "heading",
     "level": 2,
     "metadata": {},
     "source": [
      "Function arguments"
     ]
    },
    {
     "cell_type": "markdown",
     "metadata": {},
     "source": [
      "The arguments we have passed to functions so far have all been _mandatory_, if we do not supply them or if supply the wrong number of arguments python will throw a exception:"
     ]
    },
    {
     "cell_type": "code",
     "collapsed": false,
     "input": [
      "square(2)"
     ],
     "language": "python",
     "metadata": {},
     "outputs": []
    },
    {
     "cell_type": "markdown",
     "metadata": {},
     "source": [
      "Mandatory arguments are assumed to come in the same order as the arguments in the function definition, but you can also opt to specify the arguments using the argument names as _keywords_, supplying the values corresponding to each keyword with a `=` sign."
     ]
    },
    {
     "cell_type": "code",
     "collapsed": false,
     "input": [
      "square(number=3)"
     ],
     "language": "python",
     "metadata": {},
     "outputs": []
    },
    {
     "cell_type": "code",
     "collapsed": false,
     "input": [
      "def repeat(seq, n):\n",
      "    result = ''\n",
      "    for i in range(0,n):\n",
      "        result += seq\n",
      "    return result\n",
      "\n",
      "print repeat(\"CTA\", 3)\n",
      "print repeat(n=4, seq=\"GTT\")"
     ],
     "language": "python",
     "metadata": {},
     "outputs": []
    },
    {
     "cell_type": "markdown",
     "metadata": {},
     "source": [
      "Unnamed (positional) arguments must come before named arguments, even if they look to be in the right order."
     ]
    },
    {
     "cell_type": "code",
     "collapsed": false,
     "input": [
      "print repeat(seq=\"CTA\", 3)"
     ],
     "language": "python",
     "metadata": {},
     "outputs": []
    },
    {
     "cell_type": "markdown",
     "metadata": {},
     "source": [
      "Sometimes it is useful to give some arguments a default value that the caller can override, but which will be used if the caller does not supply a value for this argument. We can do this by assigning some value to the named argument with the `=` operator in the function definition."
     ]
    },
    {
     "cell_type": "code",
     "collapsed": false,
     "input": [
      "def runSimulation(nsteps=1000):\n",
      "    print \"Running simulation for\", nsteps, \"steps\"\n",
      "\n",
      "runSimulation(500)\n",
      "runSimulation()"
     ],
     "language": "python",
     "metadata": {},
     "outputs": []
    },
    {
     "cell_type": "markdown",
     "metadata": {},
     "source": [
      "**CAVEAT**: default arguments are defined once and keep their state between calls. This can be a problem for *mutable* objects:"
     ]
    },
    {
     "cell_type": "code",
     "collapsed": false,
     "input": [
      "def myFunction(parameters=[]):\n",
      "    parameters.append( 100 )\n",
      "    print parameters\n",
      "    \n",
      "myFunction()\n",
      "myFunction()\n",
      "myFunction()"
     ],
     "language": "python",
     "metadata": {},
     "outputs": []
    },
    {
     "cell_type": "markdown",
     "metadata": {},
     "source": [
      "One can either create a \"new\" default every time a function is run:"
     ]
    },
    {
     "cell_type": "code",
     "collapsed": false,
     "input": [
      "def myFunction(parameters=None):\n",
      "    \n",
      "    if parameters is None:\n",
      "        parameters = []\n",
      "        \n",
      "    parameters.append( 100 )\n",
      "    print parameters\n",
      "    \n",
      "myFunction()\n",
      "myFunction()"
     ],
     "language": "python",
     "metadata": {},
     "outputs": []
    },
    {
     "cell_type": "markdown",
     "metadata": {},
     "source": [
      "... or avoid modifying *mutable* default arguments:"
     ]
    },
    {
     "cell_type": "code",
     "collapsed": false,
     "input": [
      "def myFunction(parameters=[]):\n",
      "    print parameters + [ 100 ]\n",
      "    \n",
      "myFunction()\n",
      "myFunction()"
     ],
     "language": "python",
     "metadata": {},
     "outputs": []
    },
    {
     "cell_type": "markdown",
     "metadata": {},
     "source": [
      "Arrange function arguments so that *mandatory* arguments come first:"
     ]
    },
    {
     "cell_type": "code",
     "collapsed": false,
     "input": [
      "def runSimulation(initialTemperature, nsteps=1000):\n",
      "    print \"Running simulation starting at %s K and doing %s steps\" % ( initialTemperature, nsteps )\n",
      "    \n",
      "runSimulation(300, 500)\n",
      "runSimulation(300)"
     ],
     "language": "python",
     "metadata": {},
     "outputs": []
    },
    {
     "cell_type": "code",
     "collapsed": false,
     "input": [
      "def badFunction(nsteps=1000, initialTemperature):\n",
      "    pass\n"
     ],
     "language": "python",
     "metadata": {},
     "outputs": []
    },
    {
     "cell_type": "markdown",
     "metadata": {},
     "source": [
      "As before, no positional argument can appear after a keyword argument, and all required arguments must still be provided."
     ]
    },
    {
     "cell_type": "code",
     "collapsed": false,
     "input": [
      "runSimulation( nsteps=100, 300 )"
     ],
     "language": "python",
     "metadata": {},
     "outputs": []
    },
    {
     "cell_type": "code",
     "collapsed": false,
     "input": [
      "runSimulation( nsteps=100 )"
     ],
     "language": "python",
     "metadata": {},
     "outputs": []
    },
    {
     "cell_type": "markdown",
     "metadata": {},
     "source": [
      "Keyword names must naturally match to those declared:"
     ]
    },
    {
     "cell_type": "code",
     "collapsed": false,
     "input": [
      "runSimulation( numSteps=100 )"
     ],
     "language": "python",
     "metadata": {},
     "outputs": []
    },
    {
     "cell_type": "markdown",
     "metadata": {},
     "source": [
      "__Exercises__\n",
      "\n",
      "1. Extend your solution to the previous exercise estimating the weight of a DNA sequence so that it can also calculate the weight of an RNA sequence, use an optional argument to specify the molecule type, but default to DNA. The weights of RNA residues are:\n",
      "\n",
      "<table>\n",
      "    <tr><th>RNA Residue</th><th>Weight</th></tr>\n",
      "    <tr><td>A</td><td>347</td></tr>\n",
      "    <tr><td>C</td><td>323</td></tr>\n",
      "    <tr><td>G</td><td>363</td></tr>\n",
      "    <tr><td>U</td><td>324</td></tr>\n",
      "</table>\n",
      "\n"
     ]
    },
    {
     "cell_type": "heading",
     "level": 2,
     "metadata": {},
     "source": [
      "Variable scope"
     ]
    },
    {
     "cell_type": "markdown",
     "metadata": {},
     "source": [
      "Every variable in python has a _scope_ in which it is defined. Variables defined at the outermost level are known as _globals_ (although typically only for the current module). In contrast, variables defined within a function are local, and cannot be accessed from the outside."
     ]
    },
    {
     "cell_type": "code",
     "collapsed": false,
     "input": [
      "def mathFunction(x, y):\n",
      "    result = ( x + y ) * ( x - y )\n",
      "    return result"
     ],
     "language": "python",
     "metadata": {},
     "outputs": []
    },
    {
     "cell_type": "code",
     "collapsed": false,
     "input": [
      "answer = mathFunction( 4, 7 )\n",
      "print answer"
     ],
     "language": "python",
     "metadata": {},
     "outputs": []
    },
    {
     "cell_type": "code",
     "collapsed": false,
     "input": [
      "answer = mathFunction( 4, 7 )\n",
      "print result"
     ],
     "language": "python",
     "metadata": {},
     "outputs": []
    },
    {
     "cell_type": "markdown",
     "metadata": {},
     "source": [
      "Generally, variables defined in an outer scope are also visible in functions, but you should be careful manipulating them as this can lead to confusing code and python will actually raise an error if you try to change the value of a global variable inside a function. Instead it is a good idea to avoid using global variables and, for example, to pass any necessary variables as parameters to your functions"
     ]
    },
    {
     "cell_type": "code",
     "collapsed": false,
     "input": [
      "counter = 1\n",
      "\n",
      "def increment():\n",
      "    print counter\n",
      "    counter += 1\n",
      "    \n",
      "increment()\n",
      "print counter"
     ],
     "language": "python",
     "metadata": {},
     "outputs": []
    },
    {
     "cell_type": "markdown",
     "metadata": {},
     "source": [
      "If you really want to do this, there is a way round this using the `global` statement, but it is normally better to avoid global variables and passing through arguments instead."
     ]
    },
    {
     "cell_type": "code",
     "collapsed": false,
     "input": [
      "def increment(counter):\n",
      "    return counter + 1\n",
      "\n",
      "counter = 0\n",
      "counter = increment( counter )\n",
      "print counter"
     ],
     "language": "python",
     "metadata": {},
     "outputs": []
    },
    {
     "cell_type": "heading",
     "level": 2,
     "metadata": {},
     "source": [
      "Bio examples"
     ]
    },
    {
     "cell_type": "heading",
     "level": 3,
     "metadata": {},
     "source": [
      "Translate RNA sequence to protein sequence"
     ]
    },
    {
     "cell_type": "code",
     "collapsed": false,
     "input": [
      "standardGeneticCode = { \n",
      "          'UUU':'Phe', 'UUC':'Phe', 'UCU':'Ser', 'UCC':'Ser',\n",
      "          'UAU':'Tyr', 'UAC':'Tyr', 'UGU':'Cys', 'UGC':'Cys',\n",
      "          'UUA':'Leu', 'UCA':'Ser', 'UAA':None,  'UGA':None,\n",
      "          'UUG':'Leu', 'UCG':'Ser', 'UAG':None,  'UGG':'Trp',\n",
      "          'CUU':'Leu', 'CUC':'Leu', 'CCU':'Pro', 'CCC':'Pro',\n",
      "          'CAU':'His', 'CAC':'His', 'CGU':'Arg', 'CGC':'Arg',\n",
      "          'CUA':'Leu', 'CUG':'Leu', 'CCA':'Pro', 'CCG':'Pro',\n",
      "          'CAA':'Gln', 'CAG':'Gln', 'CGA':'Arg', 'CGG':'Arg',\n",
      "          'AUU':'Ile', 'AUC':'Ile', 'ACU':'Thr', 'ACC':'Thr',\n",
      "          'AAU':'Asn', 'AAC':'Asn', 'AGU':'Ser', 'AGC':'Ser',\n",
      "          'AUA':'Ile', 'ACA':'Thr', 'AAA':'Lys', 'AGA':'Arg',\n",
      "          'AUG':'Met', 'ACG':'Thr', 'AAG':'Lys', 'AGG':'Arg',\n",
      "          'GUU':'Val', 'GUC':'Val', 'GCU':'Ala', 'GCC':'Ala',\n",
      "          'GAU':'Asp', 'GAC':'Asp', 'GGU':'Gly', 'GGC':'Gly',\n",
      "          'GUA':'Val', 'GUG':'Val', 'GCA':'Ala', 'GCG':'Ala', \n",
      "          'GAA':'Glu', 'GAG':'Glu', 'GGA':'Gly', 'GGG':'Gly'}\n",
      "\n",
      "\n",
      "def proteinTranslation(seq, geneticCode):\n",
      "  \"\"\" This function translates a nucleic acid sequence into a\n",
      "      protein sequence, until the end or until it comes across\n",
      "      a stop codon \"\"\"\n",
      "   \n",
      "  seq = seq.replace('T','U') # Make sure we have RNA sequence\n",
      "  proteinSeq = []\n",
      "\n",
      "  i = 0\n",
      "  while i+2 < len(seq):\n",
      "    codon = seq[i:i+3]\n",
      "    aminoAcid = geneticCode[codon]\n",
      "\n",
      "    if aminoAcid is None: # Found stop codon\n",
      "      break\n",
      "\n",
      "    proteinSeq.append(aminoAcid)\n",
      "    i += 3\n",
      "\n",
      "  return proteinSeq\n",
      "\n",
      "dnaSeq = 'ATGGTGCATCTGACTCCTGAGGAGAAGTCTGCCGTTACTGCCCTGTGGGGCAAGGTG'\n",
      "protein3LetterSeq = proteinTranslation(dnaSeq, standardGeneticCode)\n",
      "print protein3LetterSeq"
     ],
     "language": "python",
     "metadata": {},
     "outputs": []
    },
    {
     "cell_type": "heading",
     "level": 3,
     "metadata": {},
     "source": [
      "G+C content along chain"
     ]
    },
    {
     "cell_type": "code",
     "collapsed": false,
     "input": [
      "def calcGcContent(seq, winSize=10):\n",
      "  \n",
      "  gcValues = []\n",
      "  \n",
      "  for i in range(len(seq)-winSize):\n",
      "\n",
      "    subSeq = seq[i:i+winSize]\n",
      "\n",
      "    numGc = subSeq.count('G') + subSeq.count('C')\n",
      "\n",
      "    value = numGc/float(winSize)  # at least in Python 2.4, 2.5\n",
      "\n",
      "    gcValues.append(value)\n",
      "\n",
      "  return gcValues\n",
      "\n",
      "gcResults = calcGcContent( dnaSeq )\n",
      "print gcResults"
     ],
     "language": "python",
     "metadata": {},
     "outputs": []
    },
    {
     "cell_type": "code",
     "collapsed": false,
     "input": [
      "from matplotlib import pyplot\n",
      "pyplot.plot( gcResults )\n",
      "pyplot.show()"
     ],
     "language": "python",
     "metadata": {},
     "outputs": []
    },
    {
     "cell_type": "heading",
     "level": 3,
     "metadata": {},
     "source": [
      "Protein hydrophobicity plot"
     ]
    },
    {
     "cell_type": "code",
     "collapsed": false,
     "input": [
      "gesScale = {'F':-3.7,'M':-3.4,'I':-3.1,'L':-2.8,'V':-2.6,\n",
      "            'C':-2.0,'W':-1.9,'A':-1.6,'T':-1.2,'G':-1.0,\n",
      "            'S':-0.6,'P': 0.2,'Y': 0.7,'H': 3.0,'Q': 4.1,\n",
      "            'N': 4.8,'E': 8.2,'K': 8.8,'D': 9.2,'R':12.3}\n",
      "\n",
      "def hydrophobicitySearch(seq, scale, winSize=15):\n",
      "  \"\"\"Scan a protein sequence for hydrophobic regions using the GES\n",
      "     hydrophobicity scale.\n",
      "  \"\"\"\n",
      "\n",
      "  score = None\n",
      "  scoreList  = []\n",
      "\n",
      "  for i in range(len(seq)- winSize):\n",
      "    j = i + winSize\n",
      "    \n",
      "    if score is None:\n",
      "      score = 0\n",
      "      for k in range(i,j):\n",
      "        score += scale[seq[k]]\n",
      "\n",
      "    else:\n",
      "      score += scale[seq[j-1]]\n",
      "      score -= scale[seq[i-1]]\n",
      "\n",
      "    scoreList.append(score)\n",
      "\n",
      "  return scoreList\n",
      "\n",
      "proteinSeq = 'IRTNGTHMQPLLKLMKFQKFLLELFTLQKRKPEKGYNLPIISLNQ'\n",
      "scores = hydrophobicitySearch(proteinSeq, gesScale)\n",
      "print scores"
     ],
     "language": "python",
     "metadata": {},
     "outputs": []
    },
    {
     "cell_type": "code",
     "collapsed": false,
     "input": [
      "from matplotlib import pyplot\n",
      "pyplot.plot(scores)\n",
      "pyplot.show()"
     ],
     "language": "python",
     "metadata": {},
     "outputs": []
    },
    {
     "cell_type": "heading",
     "level": 2,
     "metadata": {},
     "source": [
      "Advanced topics"
     ]
    },
    {
     "cell_type": "heading",
     "level": 3,
     "metadata": {},
     "source": [
      "Anonymous functions"
     ]
    },
    {
     "cell_type": "markdown",
     "metadata": {},
     "source": [
      "In some circumstances, it is convenient to be able to define a short function without giving it a definition name, though usually it will be assigned to a variable. These are introduced with the `lambda` keyword (after the Lisp programming language). \n",
      "\n",
      "The syntax is `lambda` followed by a list of required arguments seperated by commas. The body of the function is defined after a colon `:` and can only contain a single expression which, when evaluated, will be the return value from the function. Anonymous functions cannot contain loops or conditions (except the special one line `if` statement and list comprehensions)."
     ]
    },
    {
     "cell_type": "code",
     "collapsed": false,
     "input": [
      "double = lambda x: x ** 2\n",
      "double( 3 )"
     ],
     "language": "python",
     "metadata": {},
     "outputs": []
    },
    {
     "cell_type": "markdown",
     "metadata": {},
     "source": [
      "Anonymous functions are never necessary, you can always define an equivalent normal named function, but they can be useful when a function has limited use or is very short. A prime example is sorting:"
     ]
    },
    {
     "cell_type": "code",
     "collapsed": false,
     "input": [
      "values = [ \"africa\", \"Australia\", \"EUROPE\"  ]\n",
      "values.sort()\n",
      "print values"
     ],
     "language": "python",
     "metadata": {},
     "outputs": []
    },
    {
     "cell_type": "markdown",
     "metadata": {},
     "source": [
      "Assume we want to sort these case insensitively:"
     ]
    },
    {
     "cell_type": "code",
     "collapsed": false,
     "input": [
      "values.sort( key = lambda x: x.upper() )\n",
      "print values"
     ],
     "language": "python",
     "metadata": {},
     "outputs": []
    },
    {
     "cell_type": "markdown",
     "metadata": {},
     "source": [
      "You can use this technique to sort a list by arbitrary properties of the elements of a list. For example we might want to sort some DNA fragments according their length:"
     ]
    },
    {
     "cell_type": "code",
     "collapsed": false,
     "input": [
      "frags = [\"ACTGTGT\", \"TTCTG\", \"TTA\", \"GGTGTACAT\", \"AAAATCTGAAA\"]\n",
      "frags.sort()\n",
      "print \"sorted alphabetically:\",frags\n",
      "\n",
      "frags.sort(key = lambda s: len(s))\n",
      "print \"sorted by length:\",frags"
     ],
     "language": "python",
     "metadata": {},
     "outputs": []
    },
    {
     "cell_type": "heading",
     "level": 3,
     "metadata": {},
     "source": [
      "Functions as values"
     ]
    },
    {
     "cell_type": "markdown",
     "metadata": {},
     "source": [
      "Functions in python are values just like strings and numbers. If you want to refer to a function without calling it, just use the name of the function without parentheses.\n",
      "\n",
      "In this way, functions can be assigned to variables and passed as arguments to other functions. returned from functions etc."
     ]
    },
    {
     "cell_type": "code",
     "collapsed": false,
     "input": [
      "myabs = abs # 'myabs' points to 'abs'\n",
      "print \"Assessed through myabs:\", myabs( -3.0 )\n",
      "\n",
      "abs = square # reassign 'abs' to point to 'square'\n",
      "print \"After reassignment:\", abs( -3.0 )\n",
      "\n",
      "abs = myabs # reinstate original 'abs'\n",
      "print \"After reinstatement:\", abs( -3.0 )"
     ],
     "language": "python",
     "metadata": {},
     "outputs": []
    },
    {
     "cell_type": "heading",
     "level": 3,
     "metadata": {},
     "source": [
      "Nested functions"
     ]
    },
    {
     "cell_type": "markdown",
     "metadata": {},
     "source": [
      "You can define functions in any scope in python, and so you can define a function within another function.\n",
      "\n",
      "As an example, in this case we return the function we have defined internally. This technique is called *currying* or *partial application*. It converts a given function to one with a reduced argument list."
     ]
    },
    {
     "cell_type": "code",
     "collapsed": false,
     "input": [
      "def exponential(base):\n",
      "    def fixed_base(exponent):\n",
      "        return pow( base, exponent )\n",
      "    \n",
      "    return fixed_base\n",
      "\n",
      "base2 = exponential(2)\n",
      "base2(3)"
     ],
     "language": "python",
     "metadata": {},
     "outputs": []
    }
   ],
   "metadata": {}
  }
 ]
}