{
 "metadata": {
  "name": "Introduction_to_python_session_3"
 },
 "nbformat": 3,
 "nbformat_minor": 0,
 "worksheets": [
  {
   "cells": [
    {
     "cell_type": "heading",
     "level": 1,
     "metadata": {},
     "source": [
      "Python basics"
     ]
    },
    {
     "cell_type": "heading",
     "level": 2,
     "metadata": {},
     "source": [
      "Function basics"
     ]
    },
    {
     "cell_type": "markdown",
     "metadata": {},
     "source": [
      "Functions encapsulate some manipulation that can be re-used from the program. There are many functions provided with Python, called built-in functions:"
     ]
    },
    {
     "cell_type": "code",
     "collapsed": false,
     "input": [
      "x = abs( -3.0 )\n",
      "print x"
     ],
     "language": "python",
     "metadata": {},
     "outputs": []
    },
    {
     "cell_type": "markdown",
     "metadata": {},
     "source": [
      "A function has a name, an argument list (which can be empty), and a return value."
     ]
    },
    {
     "cell_type": "heading",
     "level": 2,
     "metadata": {},
     "source": [
      "Function definition syntax"
     ]
    },
    {
     "cell_type": "markdown",
     "metadata": {},
     "source": [
      "A simple function:"
     ]
    },
    {
     "cell_type": "code",
     "collapsed": false,
     "input": [
      "def square(number):\n",
      "    return number * number"
     ],
     "language": "python",
     "metadata": {},
     "outputs": []
    },
    {
     "cell_type": "markdown",
     "metadata": {},
     "source": [
      "This defines the function ``square`` (that calculates a square of a number) and can be used from now on."
     ]
    },
    {
     "cell_type": "code",
     "collapsed": false,
     "input": [
      "square( 4 )"
     ],
     "language": "python",
     "metadata": {},
     "outputs": []
    },
    {
     "cell_type": "markdown",
     "metadata": {},
     "source": [
      "Terminology:\n",
      "\n",
      "- ``square`` is the **name** of the function\n",
      "- ``( number, )`` is the **argument list** (a single-membered tuple)\n",
      "- the result is the **return value**"
     ]
    },
    {
     "cell_type": "markdown",
     "metadata": {},
     "source": [
      "Functions can be arbitrarily long and can peform very complex operations. However, to make a function reusable, it is often better to assign it a single responsibility and a good name."
     ]
    },
    {
     "cell_type": "code",
     "collapsed": false,
     "input": [
      "def calcDistance(vec1, vec2):\n",
      "    \n",
      "    assert len( vec1 ) == len( vec2 ) # check dimensions\n",
      "    from math import sqrt # import square-root function\n",
      "    \n",
      "    d2 = 0\n",
      "    \n",
      "    for i in range( len( vec1 ) ):\n",
      "        delta = vec1[i] - vec2[i]\n",
      "        d2 += delta * delta\n",
      "        \n",
      "    dist = sqrt( d2 )\n",
      "    return dist"
     ],
     "language": "python",
     "metadata": {},
     "outputs": []
    },
    {
     "cell_type": "markdown",
     "metadata": {},
     "source": [
      "This has the same functionality:"
     ]
    },
    {
     "cell_type": "code",
     "collapsed": false,
     "input": [
      "def calcDistance2(vec1, vec2):\n",
      "    \n",
      "    assert len( vec1 ) == len( vec2 )\n",
      "    from math import sqrt\n",
      "    return sqrt( sum( [ ( l - r ) ** 2 for ( l, r ) in zip( vec1, vec2 ) ] ) )"
     ],
     "language": "python",
     "metadata": {},
     "outputs": []
    },
    {
     "cell_type": "heading",
     "level": 2,
     "metadata": {},
     "source": [
      "Function call"
     ]
    },
    {
     "cell_type": "code",
     "collapsed": false,
     "input": [
      "w1 = ( 23.1, 17.8, -5.6 )\n",
      "w2 = ( 8.4, 15.9, 7.7 )\n",
      "calcDistance( w1, w2 )"
     ],
     "language": "python",
     "metadata": {},
     "outputs": []
    },
    {
     "cell_type": "code",
     "collapsed": false,
     "input": [
      "calcDistance2( w1, w2 )"
     ],
     "language": "python",
     "metadata": {},
     "outputs": []
    },
    {
     "cell_type": "markdown",
     "metadata": {},
     "source": [
      "Note that the function is general and handles any two vectors (irrespective of their representation) as long as their dimensions are compatible:"
     ]
    },
    {
     "cell_type": "code",
     "collapsed": false,
     "input": [
      "calcDistance( ( 1, 2 ), ( 3, 4 ) ) # dimension: 2"
     ],
     "language": "python",
     "metadata": {},
     "outputs": []
    },
    {
     "cell_type": "code",
     "collapsed": false,
     "input": [
      "calcDistance( [ 1, 2 ], [ 3, 4 ] ) # vectors represented as lists"
     ],
     "language": "python",
     "metadata": {},
     "outputs": []
    },
    {
     "cell_type": "code",
     "collapsed": false,
     "input": [
      "calcDistance( ( 1, 2 ), [ 3, 4 ] ) # mixed representation"
     ],
     "language": "python",
     "metadata": {},
     "outputs": []
    },
    {
     "cell_type": "heading",
     "level": 3,
     "metadata": {},
     "source": [
      "Exercises"
     ]
    },
    {
     "cell_type": "markdown",
     "metadata": {},
     "source": [
      "1. Write a function that takes two arguments, and return their mean.\n",
      "2. Rewrite this function so that it takes a list as a single argument and calculates the mean. Test your function using an arbitrary ``list``, then try out with a ``tuple`` e.g. ``( 1, 2, 3 )``, and a ``dict`` e.g. { 1: \"a\", 2: \"b\" }.\n",
      "3. Write a function that calculates the G+C content of the DNA sequence \"ATGGTGCATCTGACTCCTGAGGAGAAGTCTGCCGTTACTGCCCTGTGGGGCAAGGTG\"!"
     ]
    },
    {
     "cell_type": "heading",
     "level": 2,
     "metadata": {},
     "source": [
      "Function names"
     ]
    },
    {
     "cell_type": "markdown",
     "metadata": {},
     "source": [
      "Function names are ordinary variables and can be used in assignments:"
     ]
    },
    {
     "cell_type": "code",
     "collapsed": false,
     "input": [
      "myabs = abs # 'myabs' points to 'abs'\n",
      "print \"Assessed through myabs:\", myabs( -3.0 )\n",
      "\n",
      "abs = square # reassign 'abs' to point to 'square'\n",
      "print \"After reassignment:\", abs( -3.0 )\n",
      "\n",
      "abs = myabs # reinstate original 'abs'\n",
      "print \"After reinstatement:\", abs( -3.0 )"
     ],
     "language": "python",
     "metadata": {},
     "outputs": []
    },
    {
     "cell_type": "heading",
     "level": 2,
     "metadata": {},
     "source": [
      "Nested Functions"
     ]
    },
    {
     "cell_type": "code",
     "collapsed": false,
     "input": [
      "def exponential(base):\n",
      "    def fixed_base(exponent):\n",
      "        return pow( base, exponent )\n",
      "    \n",
      "    return fixed_base\n",
      "\n",
      "base2 = exponential(2)\n",
      "base2(3)"
     ],
     "language": "python",
     "metadata": {},
     "outputs": []
    },
    {
     "cell_type": "markdown",
     "metadata": {},
     "source": [
      "This technique is called *binding* or *partial application*. It converts a given function to one with a reduced argument list."
     ]
    },
    {
     "cell_type": "heading",
     "level": 2,
     "metadata": {},
     "source": [
      "Unnamed functions"
     ]
    },
    {
     "cell_type": "code",
     "collapsed": false,
     "input": [
      "myfun = lambda x: x ** 2\n",
      "myfun( 3 )"
     ],
     "language": "python",
     "metadata": {},
     "outputs": []
    },
    {
     "cell_type": "markdown",
     "metadata": {},
     "source": [
      "It is important to note that a lambda function is a **single expression**. It cannot contain loops and conditionals."
     ]
    },
    {
     "cell_type": "markdown",
     "metadata": {},
     "source": [
      "Unnamed functions are useful when a function has limited use. A prime example is sorting:"
     ]
    },
    {
     "cell_type": "code",
     "collapsed": false,
     "input": [
      "values = [ \"africa\", \"Australia\", \"EUROPE\"  ]\n",
      "values.sort()\n",
      "print values"
     ],
     "language": "python",
     "metadata": {},
     "outputs": []
    },
    {
     "cell_type": "markdown",
     "metadata": {},
     "source": [
      "Assume we want to sort these case insensitive:"
     ]
    },
    {
     "cell_type": "code",
     "collapsed": false,
     "input": [
      "values.sort( key = lambda x: x.upper() )\n",
      "print values"
     ],
     "language": "python",
     "metadata": {},
     "outputs": []
    },
    {
     "cell_type": "heading",
     "level": 3,
     "metadata": {},
     "source": [
      "Exerices"
     ]
    },
    {
     "cell_type": "markdown",
     "metadata": {},
     "source": [
      "1. Sort the complex array [ 1 + 4j, 2 + 2j, 2 - 3j, 3 + 2j ]:\n",
      "\n",
      "    * on absolute value.\n",
      "    * on reversed absolute value.\n",
      "    * lexicographically, i.e. first based on the real then on the imaginary part.\n",
      "2. Write a ``lambda`` function that calculates the G+C content for the above DNA sequence."
     ]
    },
    {
     "cell_type": "heading",
     "level": 2,
     "metadata": {},
     "source": [
      "Return value"
     ]
    },
    {
     "cell_type": "code",
     "collapsed": false,
     "input": [
      "def getSign(value):\n",
      "    \n",
      "    if value > 0:\n",
      "        return \"Positive\"\n",
      "    \n",
      "    elif value < 0:\n",
      "        return \"Negative\"\n",
      "    \n",
      "    return # implicit 'None'\n",
      "\n",
      "    print \"Hello world\" # execution does not reach this line\n",
      "    \n",
      "print \"getSign( 33.6 ):\", getSign( 33.6 )\n",
      "print \"getSign( -7 ):\", getSign( -7 )\n",
      "print \"getSign( 0 ):\", getSign( 0 )"
     ],
     "language": "python",
     "metadata": {},
     "outputs": []
    },
    {
     "cell_type": "markdown",
     "metadata": {},
     "source": [
      "It is possible to return multiple value via a tuple:"
     ]
    },
    {
     "cell_type": "code",
     "collapsed": false,
     "input": [
      "def myFunction(value1, value2):\n",
      "    \n",
      "    total = value1 + value2\n",
      "    difference = value1 - value2\n",
      "    product = value1 * value2\n",
      "    \n",
      "    return total, difference, product\n",
      "\n",
      "values = myFunction( 3, 7 )\n",
      "print \"Results as a tuple:\", values\n",
      "x, y, z = myFunction( 3, 7 )\n",
      "print \"x:\", x\n",
      "print \"y:\", y\n",
      "print \"z:\", z"
     ],
     "language": "python",
     "metadata": {},
     "outputs": []
    },
    {
     "cell_type": "heading",
     "level": 3,
     "metadata": {},
     "source": [
      "Exerices"
     ]
    },
    {
     "cell_type": "markdown",
     "metadata": {},
     "source": [
      "2.  \n",
      "2."
     ]
    },
    {
     "cell_type": "heading",
     "level": 2,
     "metadata": {},
     "source": [
      "Function arguments"
     ]
    },
    {
     "cell_type": "markdown",
     "metadata": {},
     "source": [
      "Default arguments"
     ]
    },
    {
     "cell_type": "code",
     "collapsed": false,
     "input": [
      "def runSimulation(nsteps = 1000):\n",
      "    print \"Running simulation for\", nsteps, \"steps\"\n",
      "\n",
      "runSimulation(500)\n",
      "runSimulation()"
     ],
     "language": "python",
     "metadata": {},
     "outputs": []
    },
    {
     "cell_type": "markdown",
     "metadata": {},
     "source": [
      "**CAVEAT**: default arguments are defined once and keep their state between calls. This can be a problem for *mutable* objects:"
     ]
    },
    {
     "cell_type": "code",
     "collapsed": false,
     "input": [
      "def myFunction(parameters = []):\n",
      "    \n",
      "    parameters.append( 100 )\n",
      "    print parameters\n",
      "    \n",
      "myFunction()\n",
      "myFunction()\n",
      "myFunction()"
     ],
     "language": "python",
     "metadata": {},
     "outputs": []
    },
    {
     "cell_type": "markdown",
     "metadata": {},
     "source": [
      "One can either create a \"new\" default every time a function is run:"
     ]
    },
    {
     "cell_type": "code",
     "collapsed": false,
     "input": [
      "def myFunction(parameters=None):\n",
      "    \n",
      "    if parameters is None:\n",
      "        parameters = []\n",
      "        \n",
      "    parameters.append( 100 )\n",
      "    print parameters\n",
      "    \n",
      "myFunction()\n",
      "myFunction()"
     ],
     "language": "python",
     "metadata": {},
     "outputs": []
    },
    {
     "cell_type": "markdown",
     "metadata": {},
     "source": [
      "... or avoid modifying *mutable)* default arguments:"
     ]
    },
    {
     "cell_type": "code",
     "collapsed": false,
     "input": [
      "def myFunction(parameters= []):\n",
      "    print parameters + [ 100 ]\n",
      "    \n",
      "myFunction()\n",
      "myFunction()"
     ],
     "language": "python",
     "metadata": {},
     "outputs": []
    },
    {
     "cell_type": "markdown",
     "metadata": {},
     "source": [
      "Arrange function arguments so that *mandatory* arguments come first:"
     ]
    },
    {
     "cell_type": "code",
     "collapsed": false,
     "input": [
      "def runSimulation(initialTemperature, nsteps = 1000):\n",
      "    print \"Running simulation starting at %s K and doing %s steps\" % ( initialTemperature, nsteps )\n",
      "    \n",
      "runSimulation(300, 500)\n",
      "runSimulation(300)"
     ],
     "language": "python",
     "metadata": {},
     "outputs": []
    },
    {
     "cell_type": "code",
     "collapsed": false,
     "input": [
      "def badFunction(nsteps = 1000, initialTemperature):\n",
      "    pass\n"
     ],
     "language": "python",
     "metadata": {},
     "outputs": []
    },
    {
     "cell_type": "markdown",
     "metadata": {},
     "source": [
      "Keyword arguments (identify argument by name vs by order):"
     ]
    },
    {
     "cell_type": "code",
     "collapsed": false,
     "input": [
      "runSimulation( nsteps = 100, initialTemperature = 300)"
     ],
     "language": "python",
     "metadata": {},
     "outputs": []
    },
    {
     "cell_type": "markdown",
     "metadata": {},
     "source": [
      "No positional argument can appear after a keyword argument, and all required arguments must still be provided."
     ]
    },
    {
     "cell_type": "code",
     "collapsed": false,
     "input": [
      "runSimulation( nsteps = 100, 300 )"
     ],
     "language": "python",
     "metadata": {},
     "outputs": []
    },
    {
     "cell_type": "code",
     "collapsed": false,
     "input": [
      "runSimulation( nsteps = 100 )"
     ],
     "language": "python",
     "metadata": {},
     "outputs": []
    },
    {
     "cell_type": "markdown",
     "metadata": {},
     "source": [
      "Keyword names must match to those declared:"
     ]
    },
    {
     "cell_type": "code",
     "collapsed": false,
     "input": [
      "runSimulation( numSteps = 100 )"
     ],
     "language": "python",
     "metadata": {},
     "outputs": []
    },
    {
     "cell_type": "heading",
     "level": 3,
     "metadata": {},
     "source": [
      "Anonymous arguments"
     ]
    },
    {
     "cell_type": "markdown",
     "metadata": {},
     "source": [
      "This technique is used to \"pass thorugh\" arguments to a function called within the function."
     ]
    },
    {
     "cell_type": "code",
     "collapsed": false,
     "input": [
      "def setStyle(low = 0, high = 255, color = \"blue\", speed = 1.0):\n",
      "    print \"low: %s\" % low\n",
      "    print \"high: %s\" % high\n",
      "    print \"color: %s\" % color\n",
      "    print \"speed: %s\" % speed\n",
      "\n",
      "def draw(obj, *args, **kwargs):\n",
      "    print args\n",
      "    print kwargs\n",
      "    setStyle( *args, **kwargs )"
     ],
     "language": "python",
     "metadata": {},
     "outputs": []
    },
    {
     "cell_type": "code",
     "collapsed": false,
     "input": [
      "draw( object() )"
     ],
     "language": "python",
     "metadata": {},
     "outputs": []
    },
    {
     "cell_type": "code",
     "collapsed": false,
     "input": [
      "draw( object(), 1, 100, color = \"red\", speed = 1.0 )"
     ],
     "language": "python",
     "metadata": {},
     "outputs": []
    },
    {
     "cell_type": "markdown",
     "metadata": {},
     "source": [
      "For anonymous arguments, the same rules apply: no positional argument can come after a keyword argument, and all required arguments must be provided. Extra arguments are collected in the respective *list* or *dict*."
     ]
    },
    {
     "cell_type": "code",
     "collapsed": false,
     "input": [
      "draw( color = \"red\" )"
     ],
     "language": "python",
     "metadata": {},
     "outputs": []
    },
    {
     "cell_type": "heading",
     "level": 2,
     "metadata": {},
     "source": [
      "Recursion"
     ]
    },
    {
     "cell_type": "markdown",
     "metadata": {},
     "source": [
      "A control structure that is similar to a loop, and is typically used when a value in a series can be calculated from values that come before in the same series. It works by sequentially simplifying the problem until the known starting value, which terminates the recursion."
     ]
    },
    {
     "cell_type": "code",
     "collapsed": false,
     "input": [
      "def factorial(number):\n",
      "    \n",
      "    if number == 1: # termination\n",
      "        return 1\n",
      "    \n",
      "    else:\n",
      "        return number * factorial( number - 1 ) # simplification\n",
      "    \n",
      "print \"4! = %s\" % factorial( 4 )\n",
      "print \"10! = %s\" % factorial( 10 )"
     ],
     "language": "python",
     "metadata": {},
     "outputs": []
    },
    {
     "cell_type": "code",
     "collapsed": false,
     "input": [
      "def fibonacci(number):\n",
      "    \n",
      "    if number == 1:\n",
      "        return 0\n",
      "    \n",
      "    elif number == 2:\n",
      "        return 1\n",
      "    \n",
      "    else:\n",
      "        return fibonacci( number - 1 ) + fibonacci( number - 2 )\n",
      "    \n",
      "print \"fibonacci series: %s\" % [ fibonacci( v ) for v in range( 1, 10 ) ]\n",
      "        "
     ],
     "language": "python",
     "metadata": {},
     "outputs": []
    },
    {
     "cell_type": "markdown",
     "metadata": {},
     "source": [
      "Recursion is an important technique, and can help writing succint solutions to difficult problems. It is often used with tree-like data structures. However, it is important to clarify that recursion terminates, otherwise the program will never stop!"
     ]
    },
    {
     "cell_type": "heading",
     "level": 2,
     "metadata": {},
     "source": [
      "Exercises"
     ]
    },
    {
     "cell_type": "markdown",
     "metadata": {},
     "source": [
      "1. Write a function that pretty-prints the previous DNA-sequence, by inserting hyphens after every third base, e.g.: \"ATG-GTG-\", etc (make sure there is no trailing hyphen at the end). Make the separator assignable by the user and make it default to the hyphen.\n",
      "2. Write a function that flattens an array, e.g. for [ ( 1, 2, 3 ), ( 4, ( 5, 6 ) ) ] it returns [ 1, 2, 3, 4, 5, 6 ]."
     ]
    },
    {
     "cell_type": "heading",
     "level": 2,
     "metadata": {},
     "source": [
      "Variable scope"
     ]
    },
    {
     "cell_type": "markdown",
     "metadata": {},
     "source": [
      "Each variable has its scope. Variables defined at the outermost level are globals (although typically only for the current module). In contrast, variables defined within functions are local to the function, and cannot be accessed from the outside."
     ]
    },
    {
     "cell_type": "code",
     "collapsed": false,
     "input": [
      "def mathFunction(x, y):\n",
      "    result = ( x + y ) * ( x - y )\n",
      "    return result"
     ],
     "language": "python",
     "metadata": {},
     "outputs": []
    },
    {
     "cell_type": "code",
     "collapsed": false,
     "input": [
      "answer = mathFunction( 4, 7 )\n",
      "print answer"
     ],
     "language": "python",
     "metadata": {},
     "outputs": []
    },
    {
     "cell_type": "code",
     "collapsed": false,
     "input": [
      "answer = mathFunction( 4, 7 )\n",
      "print result"
     ],
     "language": "python",
     "metadata": {},
     "outputs": []
    },
    {
     "cell_type": "markdown",
     "metadata": {},
     "source": [
      "Functions can still access global variables. However, if a local variable with the same name as a global is defined, it hides the global:"
     ]
    },
    {
     "cell_type": "code",
     "collapsed": false,
     "input": [
      "counter = 0 # global variable\n",
      "\n",
      "def show_counter():\n",
      "    print counter\n",
      "    \n",
      "def set_counter(value):\n",
      "    counter = value # creates a new variable with the same name\n",
      "    print \"Counter value: from set_counter: %s\" % counter\n",
      "    print \"Counter value via show_counter from set_counter:\"\n",
      "    show_counter()\n",
      "    \n",
      "show_counter()\n",
      "set_counter( 10 )\n",
      "print \"Counter value via show_counter from global scope\"\n",
      "show_counter()"
     ],
     "language": "python",
     "metadata": {},
     "outputs": []
    },
    {
     "cell_type": "markdown",
     "metadata": {},
     "source": [
      "Python detects whether an assignment is made by the code to a given name, and decides whether a name refers to a local or a global variable. This can create surprising results:"
     ]
    },
    {
     "cell_type": "code",
     "collapsed": false,
     "input": [
      "def set_counter2(value):\n",
      "    print \"Counter before setting: %s\" % counter # counter refers to the local variable that will be created in the next line\n",
      "    counter = value\n",
      "    print \"Counter after setting: %s\" % counter\n",
      "\n",
      "show_counter()\n",
      "set_counter2( 10 )"
     ],
     "language": "python",
     "metadata": {},
     "outputs": []
    },
    {
     "cell_type": "markdown",
     "metadata": {},
     "source": [
      "The solution is to use the ``global`` keyword to tell Python to bind the name with the global:"
     ]
    },
    {
     "cell_type": "code",
     "collapsed": false,
     "input": [
      "def set_counter3(value):\n",
      "    global counter\n",
      "    print \"Counter before setting: %s\" % counter\n",
      "    counter = value\n",
      "    print \"Counter after setting: %s\" % counter\n",
      "    \n",
      "show_counter()\n",
      "set_counter3( 10 )\n",
      "print \"Counter value via show_counter\"\n",
      "show_counter()"
     ],
     "language": "python",
     "metadata": {},
     "outputs": []
    },
    {
     "cell_type": "markdown",
     "metadata": {},
     "source": [
      "However, it is normally safer to avoid global variables and passing through arguments instead."
     ]
    },
    {
     "cell_type": "code",
     "collapsed": false,
     "input": [
      "def increment(counter):\n",
      "    return counter + 1\n",
      "\n",
      "counter = 0\n",
      "counter = increment( counter )\n",
      "print counter"
     ],
     "language": "python",
     "metadata": {},
     "outputs": []
    },
    {
     "cell_type": "heading",
     "level": 2,
     "metadata": {},
     "source": [
      "Bio examples"
     ]
    },
    {
     "cell_type": "heading",
     "level": 3,
     "metadata": {},
     "source": [
      "Translate RNA sequence to protein sequence"
     ]
    },
    {
     "cell_type": "code",
     "collapsed": false,
     "input": [
      "standardGeneticCode = { \n",
      "          'UUU':'Phe', 'UUC':'Phe', 'UCU':'Ser', 'UCC':'Ser',\n",
      "          'UAU':'Tyr', 'UAC':'Tyr', 'UGU':'Cys', 'UGC':'Cys',\n",
      "          'UUA':'Leu', 'UCA':'Ser', 'UAA':None,  'UGA':None,\n",
      "          'UUG':'Leu', 'UCG':'Ser', 'UAG':None,  'UGG':'Trp',\n",
      "          'CUU':'Leu', 'CUC':'Leu', 'CCU':'Pro', 'CCC':'Pro',\n",
      "          'CAU':'His', 'CAC':'His', 'CGU':'Arg', 'CGC':'Arg',\n",
      "          'CUA':'Leu', 'CUG':'Leu', 'CCA':'Pro', 'CCG':'Pro',\n",
      "          'CAA':'Gln', 'CAG':'Gln', 'CGA':'Arg', 'CGG':'Arg',\n",
      "          'AUU':'Ile', 'AUC':'Ile', 'ACU':'Thr', 'ACC':'Thr',\n",
      "          'AAU':'Asn', 'AAC':'Asn', 'AGU':'Ser', 'AGC':'Ser',\n",
      "          'AUA':'Ile', 'ACA':'Thr', 'AAA':'Lys', 'AGA':'Arg',\n",
      "          'AUG':'Met', 'ACG':'Thr', 'AAG':'Lys', 'AGG':'Arg',\n",
      "          'GUU':'Val', 'GUC':'Val', 'GCU':'Ala', 'GCC':'Ala',\n",
      "          'GAU':'Asp', 'GAC':'Asp', 'GGU':'Gly', 'GGC':'Gly',\n",
      "          'GUA':'Val', 'GUG':'Val', 'GCA':'Ala', 'GCG':'Ala', \n",
      "          'GAA':'Glu', 'GAG':'Glu', 'GGA':'Gly', 'GGG':'Gly'}\n",
      "\n",
      "\n",
      "def proteinTranslation(seq, geneticCode):\n",
      "  \"\"\" This function translates a nucleic acid sequence into a\n",
      "      protein sequence, until the end or until it comes across\n",
      "      a stop codon \"\"\"\n",
      "   \n",
      "  seq = seq.replace('T','U') # Make sure we have RNA sequence\n",
      "  proteinSeq = []\n",
      "\n",
      "  i = 0\n",
      "  while i+2 < len(seq):\n",
      "    codon = seq[i:i+3]\n",
      "    aminoAcid = geneticCode[codon]\n",
      "\n",
      "    if aminoAcid is None: # Found stop codon\n",
      "      break\n",
      "\n",
      "    proteinSeq.append(aminoAcid)\n",
      "    i += 3\n",
      "\n",
      "  return proteinSeq\n",
      "\n",
      "dnaSeq = 'ATGGTGCATCTGACTCCTGAGGAGAAGTCTGCCGTTACTGCCCTGTGGGGCAAGGTG'\n",
      "protein3LetterSeq = proteinTranslation(dnaSeq, standardGeneticCode)\n",
      "print protein3LetterSeq"
     ],
     "language": "python",
     "metadata": {},
     "outputs": []
    },
    {
     "cell_type": "heading",
     "level": 3,
     "metadata": {},
     "source": [
      "Biopolymer mass"
     ]
    },
    {
     "cell_type": "code",
     "collapsed": false,
     "input": [
      "def estimateMolMass(seq, molType='protein'):\n",
      "  \"\"\"Calculate the molecular weight of a biological sequence assuming\n",
      "     normal isotopic ratios and protonation/modification states\n",
      "  \"\"\"\n",
      "\n",
      "  residueMasses = {\"DNA\":\n",
      "                   {\"G\":329.21,\"C\":289.18,\"A\":323.21,\"T\":304.19,},\n",
      "                   \"RNA\":\n",
      "                   {\"G\":345.21,\"C\":305.18,\"A\":329.21,\"U\":302.16,},\n",
      "                   \"protein\":\n",
      "                   {\"A\": 71.07,\"R\":156.18,\"N\":114.08, \"D\":115.08,\n",
      "                    \"C\":103.10,\"Q\":128.13, \"E\":129.11,\"G\": 57.05,\n",
      "                    \"H\":137.14, \"I\":113.15,\"L\":113.15,\"K\":128.17,\n",
      "                    \"M\":131.19,\"F\":147.17,\"P\": 97.11, \"S\": 87.07,\n",
      "                    \"T\":101.10,\"W\":186.20, \"Y\":163.17,\"V\": 99.13}}\n",
      "  \n",
      "  massDict = residueMasses[molType]\n",
      "\n",
      "  # Begin with mass of extra end atoms H + OH\n",
      "  molMass = 18.02\n",
      "\n",
      "  for letter in seq:\n",
      "    molMass += massDict.get(letter, 0.0)\n",
      "\n",
      "  return molMass\n",
      "  \n",
      "\n",
      "proteinSeq = 'IRTNGTHMQPLLKLMKFQKFLLELFTLQKRKPEKGYNLPIISLNQ'\n",
      "print \"Protein mass: %.3f\" % estimateMolMass(proteinSeq)\n",
      "print \"DNA mass: %.2f\" % estimateMolMass(dnaSeq, molType='DNA')"
     ],
     "language": "python",
     "metadata": {},
     "outputs": []
    },
    {
     "cell_type": "heading",
     "level": 3,
     "metadata": {},
     "source": [
      "G+C content along chain"
     ]
    },
    {
     "cell_type": "code",
     "collapsed": false,
     "input": [
      "def calcGcContent(seq, winSize=10):\n",
      "  \n",
      "  gcValues = []\n",
      "  \n",
      "  for i in range(len(seq)-winSize):\n",
      "\n",
      "    subSeq = seq[i:i+winSize]\n",
      "\n",
      "    numGc = subSeq.count('G') + subSeq.count('C')\n",
      "\n",
      "    value = numGc/float(winSize)  # at least in Python 2.4, 2.5\n",
      "\n",
      "    gcValues.append(value)\n",
      "\n",
      "  return gcValues\n",
      "\n",
      "gcResults = calcGcContent( dnaSeq )\n",
      "print gcResults"
     ],
     "language": "python",
     "metadata": {},
     "outputs": []
    },
    {
     "cell_type": "code",
     "collapsed": false,
     "input": [
      "from matplotlib import pyplot\n",
      "pyplot.plot( gcResults )\n",
      "pyplot.show()"
     ],
     "language": "python",
     "metadata": {},
     "outputs": []
    },
    {
     "cell_type": "heading",
     "level": 3,
     "metadata": {},
     "source": [
      "Protein hydrophobicity plot"
     ]
    },
    {
     "cell_type": "code",
     "collapsed": false,
     "input": [
      "gesScale = {'F':-3.7,'M':-3.4,'I':-3.1,'L':-2.8,'V':-2.6,\n",
      "            'C':-2.0,'W':-1.9,'A':-1.6,'T':-1.2,'G':-1.0,\n",
      "            'S':-0.6,'P': 0.2,'Y': 0.7,'H': 3.0,'Q': 4.1,\n",
      "            'N': 4.8,'E': 8.2,'K': 8.8,'D': 9.2,'R':12.3}\n",
      "\n",
      "def hydrophobicitySearch(seq, scale, winSize=15):\n",
      "  \"\"\"Scan a protein sequence for hydrophobic regions using the GES\n",
      "     hydrophobicity scale.\n",
      "  \"\"\"\n",
      "\n",
      "  score = None\n",
      "  scoreList  = []\n",
      "\n",
      "  for i in range(len(seq)- winSize):\n",
      "    j = i + winSize\n",
      "    \n",
      "    if score is None:\n",
      "      score = 0\n",
      "      for k in range(i,j):\n",
      "        score += scale[seq[k]]\n",
      "\n",
      "    else:\n",
      "      score += scale[seq[j-1]]\n",
      "      score -= scale[seq[i-1]]\n",
      "\n",
      "    scoreList.append(score)\n",
      "\n",
      "  return scoreList\n",
      "\n",
      "\n",
      "scores = hydrophobicitySearch(proteinSeq, gesScale)\n",
      "print scores"
     ],
     "language": "python",
     "metadata": {},
     "outputs": []
    },
    {
     "cell_type": "code",
     "collapsed": false,
     "input": [
      "from matplotlib import pyplot\n",
      "pyplot.plot(scores)\n",
      "pyplot.show()"
     ],
     "language": "python",
     "metadata": {},
     "outputs": []
    }
   ],
   "metadata": {}
  }
 ]
}