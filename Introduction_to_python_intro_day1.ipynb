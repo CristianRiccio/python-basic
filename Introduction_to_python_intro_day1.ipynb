{
 "cells": [
  {
   "cell_type": "markdown",
   "metadata": {
    "slideshow": {
     "slide_type": "slide"
    }
   },
   "source": [
    "# An introduction to solving biological problems with Python\n",
    "\n",
    "## Presenters for 5-6 December 2016\n",
    "- Anne Pajon, CRUK Cambridge Institute"
   ]
  },
  {
   "cell_type": "markdown",
   "metadata": {
    "slideshow": {
     "slide_type": "slide"
    }
   },
   "source": [
    "## Learning objectives"
   ]
  },
  {
   "cell_type": "markdown",
   "metadata": {
    "slideshow": {
     "slide_type": "slide"
    }
   },
   "source": [
    "## Course schedule - day one\n",
    "\n",
    "- 09:45-11:00: Session 1.1 - Print, Variables, Simple data types, Arithmetic and Saving code in files\n",
    "- 11:00-11:15: *break*\n",
    "- 11:15-12:30: Session 1.2 - Collections: Lists, String and Dictionnaries\n",
    "- 12:30-13:30: *lunch break*\n",
    "- 13:30-14:45: Session 1.3 - Conditional execution\n",
    "- 14:45-15:00: *break*\n",
    "- 15:00-16:15: Session 1.4 - Loops"
   ]
  },
  {
   "cell_type": "markdown",
   "metadata": {
    "slideshow": {
     "slide_type": "slide"
    }
   },
   "source": [
    "## Course schedule - day two\n",
    "\n",
    "- 09:45-11:00: Session 2.1 - Functions\n",
    "- 11:00-11:15: *break*\n",
    "- 11:15-12:30: Session 2.2 - Exercices\n",
    "- 12:30-13:30: *lunch break*\n",
    "- 13:30-14:45: Session 2.3 - Files\n",
    "- 14:45-15:00: *break*\n",
    "- 15:00-16:15: Session 2.4 - BioPython"
   ]
  },
  {
   "cell_type": "markdown",
   "metadata": {
    "slideshow": {
     "slide_type": "slide"
    }
   },
   "source": [
    "- We’d like you to follow along with the example code as we go through the material, and attempt the exercises to practice what you’ve learned\n",
    "- Questions are welcome at any point!\n",
    "- If you have specific projects/problems you like to use Python for we are happy to (try to) help during the exercises"
   ]
  },
  {
   "cell_type": "markdown",
   "metadata": {
    "slideshow": {
     "slide_type": "slide"
    }
   },
   "source": [
    "## Course materials\n",
    "\n",
    "- There is a course webpage with links to the materials, example solutions to the exercises etc.:\n",
    "    - http://pycam.github.io\n",
    "- You are encouraged to follow along with the materials\n"
   ]
  },
  {
   "cell_type": "markdown",
   "metadata": {
    "slideshow": {
     "slide_type": "slide"
    }
   },
   "source": [
    "## What is *Python*?\n",
    "\n",
    "- Python is a *dynamic, interpreted* general purpose programming language initially created by Guido van Rossum in 1991\n",
    "- It is a powerful language that supports several popular programming paradigms:\n",
    "    - procedural\n",
    "    - object-oriented\n",
    "    - functional\n",
    "- Python is widely used in bioinformatics and scientific computing, as well as many other fields and in industry\n",
    "- Python is available on all popular operating systems\n",
    "    - Macs\n",
    "    - Windows\n",
    "    - Linux"
   ]
  },
  {
   "cell_type": "markdown",
   "metadata": {
    "slideshow": {
     "slide_type": "slide"
    }
   },
   "source": [
    "## The Python programming language\n",
    "\n",
    "- Python is considered to come with \"batteries included\" and the <a href=\"https://docs.python.org/3.5/library/\">standard library</a> (some of which we will see in this course) provides built-in support for lots of common tasks:\n",
    "    - interacting with files and the operating system\n",
    "    - working on networks and the internet\n",
    "    - numerical & mathematical functions \n",
    "    - graphical user interfaces\n",
    "    - ...\n",
    "\n",
    "- There is also a wide range of external libraries for areas not covered in the standard library, such as the BioPython project which provides tools for bioinformatics - we look at this briefly tomorrow"
   ]
  },
  {
   "cell_type": "markdown",
   "metadata": {
    "slideshow": {
     "slide_type": "slide"
    }
   },
   "source": [
    "## Getting started\n",
    "\n",
    "- Python is an *interpreted* language, this means that your computer does not run Python code natively, but instead we run our code using the Python interpreter\n",
    "\n",
    "- There are three ways in which you can run Python code:\n",
    "    1. Directly typing commands into the interpreter\n",
    "        - Good for experimenting with the language, and for some interactive work\n",
    "    2. Typing code into a file and then telling the interpreter to run the code from this file\n",
    "        - Good for larger programs, and when you want to run the same code repeatedly\n",
    "    3. Using a Jupyter notebook\n",
    "        - Good for experimenting with the language, and for sharing and learning\n"
   ]
  },
  {
   "cell_type": "markdown",
   "metadata": {
    "slideshow": {
     "slide_type": "slide"
    }
   },
   "source": [
    "## How to start the Python interpreter?\n",
    "\n",
    "- How you start the interpreter will depend on which operating system you are using, but on a Mac or Linux machine you should start a terminal and then just type the command `python`\n",
    "- This will print out some information about your installation of python and then leave you with a command prompt which looks like `>>>` \n",
    "- You can then type commands and press `Enter` when you're done. Python will run the code you typed, and might display some output on the line below, before leaving you with another prompt.\n",
    "- If you want to exit the interactive interpreter you can type the command `quit()` or type `Ctrl-D`"
   ]
  },
  {
   "cell_type": "markdown",
   "metadata": {
    "slideshow": {
     "slide_type": "slide"
    }
   },
   "source": [
    "## The terminal\n",
    "\n",
    "<center><img src=\"files/img/python_shell.png\"></center>\n",
    "We will see later how to save code in a file and run it."
   ]
  },
  {
   "cell_type": "markdown",
   "metadata": {
    "slideshow": {
     "slide_type": "slide"
    }
   },
   "source": [
    "## The shell command lines you may need\n",
    "\n",
    "- `ls`: to list directory contents\n",
    "- `pwd`: to return working directory name\n",
    "- `cd to/this/directory/`: to change directory\n"
   ]
  },
  {
   "cell_type": "markdown",
   "metadata": {
    "slideshow": {
     "slide_type": "slide"
    }
   },
   "source": [
    "## What is a Jupyter notebook?\n",
    "\n",
    "<img src=\"http://jupyter.org/assets/nav_logo.svg\">\n",
    "\n",
    "- The [Jupyter Notebook](http://jupyter.org/) is a web application that allows you to create and share documents that contain live code, equations, visualizations and explanatory text. \n",
    "\n",
    "- Jupyter provides a rich architecture for interactive computing with:    \n",
    "    - A browser-based notebook with support for code, rich text, mathematical expressions, inline plots and other rich media.\n",
    "    - Powerful interactive shells (terminal and Qt-based).\n",
    "    - Support for interactive data visualization and use of GUI toolkits.\n",
    "    - Flexible, embeddable interpreters to load into your own projects.\n",
    "    - Easy to use, high performance tools for parallel computing."
   ]
  },
  {
   "cell_type": "markdown",
   "metadata": {
    "slideshow": {
     "slide_type": "slide"
    }
   },
   "source": [
    "## How to install Jupyter on your own computer?\n",
    "\n",
    "<img src=\"http://jupyter.org/assets/nav_logo.svg\">\n",
    "\n",
    "- [See Installing Jupyter Notebook](https://jupyter.readthedocs.io/en/latest/install.html)\n",
    "\n",
    "- For new users, we highly recommend [installing Anaconda](https://www.continuum.io/downloads). Anaconda conveniently installs Python, the Jupyter Notebook, and other commonly used packages for scientific computing and data science.\n",
    "\n",
    "- Use the following installation steps:\n",
    "    - Download Anaconda. We recommend downloading Anaconda’s latest Python 3 version (currently Python 3.5).\n",
    "    - Install the version of Anaconda which you downloaded, following the instructions on the download page.\n",
    "    - Congratulations, you have installed Jupyter Notebook. Start the notebook server from the command line:\n",
    "    ```\n",
    "    jupyter notebook\n",
    "    ```\n",
    "    - You should see the notebook open in your web browser\n"
   ]
  },
  {
   "cell_type": "markdown",
   "metadata": {
    "slideshow": {
     "slide_type": "slide"
    }
   },
   "source": [
    "## How to run python in a Jupyter notebook?\n",
    "\n",
    "<img src=\"http://jupyter.org/assets/nav_logo.svg\">\n",
    "\n",
    "- See [Jupyter Notebook Basics](http://nbviewer.jupyter.org/github/jupyter/notebook/blob/master/docs/source/examples/Notebook/Notebook%20Basics.ipynb)\n",
    "\n",
    "TODO. Add picture of our first page notebook."
   ]
  }
 ],
 "metadata": {
  "celltoolbar": "Slideshow",
  "kernelspec": {
   "display_name": "Python 2",
   "language": "python",
   "name": "python2"
  },
  "language_info": {
   "codemirror_mode": {
    "name": "ipython",
    "version": 2
   },
   "file_extension": ".py",
   "mimetype": "text/x-python",
   "name": "python",
   "nbconvert_exporter": "python",
   "pygments_lexer": "ipython2",
   "version": "2.7.12"
  }
 },
 "nbformat": 4,
 "nbformat_minor": 0
}
