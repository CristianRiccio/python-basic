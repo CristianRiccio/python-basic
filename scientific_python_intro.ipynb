{
 "metadata": {
  "name": ""
 },
 "nbformat": 3,
 "nbformat_minor": 0,
 "worksheets": [
  {
   "cells": [
    {
     "cell_type": "heading",
     "level": 1,
     "metadata": {},
     "source": [
      "A quick introduction to some scientific computing libraries for Python"
     ]
    },
    {
     "cell_type": "markdown",
     "metadata": {},
     "source": [
      "Things I'll (very briefly) cover:\n",
      "\n",
      "- __`ipython`__: a souped up interactive interpreter (also provides the interactive notebook this is written in!)\n",
      "- __`numpy`__: fast, statically typed matrix library for python, supports vectorized operations & lots more\n",
      "- __`scipy`__: stats, probability distributions, linear algebra etc.\n",
      "- __`matplotlib`__: plotting\n",
      "- __`pandas`__: a `data.frame` for python (and more...)\n",
      "- __`scikit-learn`__: machine learning in python"
     ]
    },
    {
     "cell_type": "heading",
     "level": 2,
     "metadata": {},
     "source": [
      "`ipython`"
     ]
    },
    {
     "cell_type": "markdown",
     "metadata": {},
     "source": [
      "- Powerful interactive shell\n",
      "- Supports tab completion of just about everything\n",
      "- Inline help system for modules, classes etc. with `?`, source code with `??`\n",
      "- Browser based notebook with support for (runnable) code, text, mathematical expressions using $\\LaTeX$, inline plots etc.\n",
      "    - could be used as a computational lab notebook?\n",
      "- _Magic_ functions to access the shell, run `R` code etc.\n",
      "- Parallel computing"
     ]
    },
    {
     "cell_type": "code",
     "collapsed": false,
     "input": [
      "x = 3"
     ],
     "language": "python",
     "metadata": {},
     "outputs": []
    },
    {
     "cell_type": "code",
     "collapsed": false,
     "input": [
      "x"
     ],
     "language": "python",
     "metadata": {},
     "outputs": []
    },
    {
     "cell_type": "code",
     "collapsed": false,
     "input": [
      "%%bash\n",
      "ls -l "
     ],
     "language": "python",
     "metadata": {},
     "outputs": []
    },
    {
     "cell_type": "code",
     "collapsed": false,
     "input": [
      "%load_ext rmagic"
     ],
     "language": "python",
     "metadata": {},
     "outputs": []
    },
    {
     "cell_type": "code",
     "collapsed": false,
     "input": [
      "%%R \n",
      "data <- rnorm(1000, mean=10, sd=3)\n",
      "hist(data)"
     ],
     "language": "python",
     "metadata": {},
     "outputs": []
    },
    {
     "cell_type": "code",
     "collapsed": false,
     "input": [
      "%%R\n",
      "print(data[2])"
     ],
     "language": "python",
     "metadata": {},
     "outputs": []
    },
    {
     "cell_type": "heading",
     "level": 2,
     "metadata": {},
     "source": [
      "`numpy`"
     ]
    },
    {
     "cell_type": "markdown",
     "metadata": {},
     "source": [
      "- a powerful, high performance N-dimensional array object\n",
      "- sophisticated (broadcasting) functions\n",
      "- tools for integrating C/C++ and Fortran code"
     ]
    },
    {
     "cell_type": "code",
     "collapsed": false,
     "input": [
      "a = arange(15).reshape(3, 5)\n",
      "a"
     ],
     "language": "python",
     "metadata": {},
     "outputs": []
    },
    {
     "cell_type": "code",
     "collapsed": false,
     "input": [
      "a.shape"
     ],
     "language": "python",
     "metadata": {},
     "outputs": []
    },
    {
     "cell_type": "markdown",
     "metadata": {},
     "source": [
      "Indexing"
     ]
    },
    {
     "cell_type": "code",
     "collapsed": false,
     "input": [
      "a[:,0]"
     ],
     "language": "python",
     "metadata": {},
     "outputs": []
    },
    {
     "cell_type": "markdown",
     "metadata": {},
     "source": [
      "Assigning to indices"
     ]
    },
    {
     "cell_type": "code",
     "collapsed": false,
     "input": [
      "a[0:2,1:3] = [[8,8], [9,9]]\n",
      "a"
     ],
     "language": "python",
     "metadata": {},
     "outputs": []
    },
    {
     "cell_type": "markdown",
     "metadata": {},
     "source": [
      "Vectorized operations"
     ]
    },
    {
     "cell_type": "code",
     "collapsed": false,
     "input": [
      "a ** 3"
     ],
     "language": "python",
     "metadata": {},
     "outputs": []
    },
    {
     "cell_type": "markdown",
     "metadata": {},
     "source": [
      "Fancy slicing"
     ]
    },
    {
     "cell_type": "code",
     "collapsed": false,
     "input": [
      "a[(a<9) & (a > 1)]"
     ],
     "language": "python",
     "metadata": {},
     "outputs": []
    },
    {
     "cell_type": "heading",
     "level": 2,
     "metadata": {},
     "source": [
      "`scipy`"
     ]
    },
    {
     "cell_type": "markdown",
     "metadata": {},
     "source": [
      "- `scipy` is a collection of mathematical algorithms and convenience functions built on top of `numpy`\n",
      "- includes modules for:\n",
      "    - statistics\n",
      "    - integration & ODE solvers\n",
      "    - linear algebra\n",
      "    - optimization\n",
      "    - FFT\n",
      "    - etc..."
     ]
    },
    {
     "cell_type": "markdown",
     "metadata": {},
     "source": [
      "Modelling $y = x^2$ with noise"
     ]
    },
    {
     "cell_type": "code",
     "collapsed": false,
     "input": [
      "x = np.linspace(1,10,10)\n",
      "y = x * 2\n",
      "y"
     ],
     "language": "python",
     "metadata": {},
     "outputs": []
    },
    {
     "cell_type": "code",
     "collapsed": false,
     "input": [
      "noisy_y = y + random.normal(0,2,10)\n",
      "noisy_y"
     ],
     "language": "python",
     "metadata": {},
     "outputs": []
    },
    {
     "cell_type": "markdown",
     "metadata": {},
     "source": [
      "Linear regression"
     ]
    },
    {
     "cell_type": "code",
     "collapsed": false,
     "input": [
      "from scipy.stats import linregress\n",
      "(slope, intercept, r, p, se) = linregress(x, noisy_y)\n",
      "slope"
     ],
     "language": "python",
     "metadata": {},
     "outputs": []
    },
    {
     "cell_type": "markdown",
     "metadata": {},
     "source": [
      "Statistics, correlation etc."
     ]
    },
    {
     "cell_type": "code",
     "collapsed": false,
     "input": [
      "from scipy.stats import spearmanr, pearsonr\n",
      "\n",
      "x_cubed = x ** 3\n",
      "x_cubed += np.random.normal(0,3,10)\n",
      "\n",
      "pearsonr(x, x_cubed)"
     ],
     "language": "python",
     "metadata": {},
     "outputs": []
    },
    {
     "cell_type": "heading",
     "level": 2,
     "metadata": {},
     "source": [
      "`matplotlib`"
     ]
    },
    {
     "cell_type": "markdown",
     "metadata": {},
     "source": [
      "Plotting in python \n",
      "\n",
      "- `ipython notebook --pylab inline` gives you inline plots in the notebook\n",
      "- lots of plot types available (though not as pretty as R to my eyes!)"
     ]
    },
    {
     "cell_type": "code",
     "collapsed": false,
     "input": [
      "import matplotlib.pyplot as plt\n",
      "\n",
      "plt.plot(x, y, 'k-', x, noisy_y, 'ro', x, x * slope, 'b--')"
     ],
     "language": "python",
     "metadata": {},
     "outputs": []
    },
    {
     "cell_type": "code",
     "collapsed": false,
     "input": [
      "x = linspace(0, 2 * pi, 100)\n",
      "y = np.sin(x)\n",
      "plot(x, y)"
     ],
     "language": "python",
     "metadata": {},
     "outputs": []
    },
    {
     "cell_type": "heading",
     "level": 2,
     "metadata": {},
     "source": [
      "`pandas`"
     ]
    },
    {
     "cell_type": "markdown",
     "metadata": {},
     "source": [
      "- `pandas` provides the `DataFrame` class, which is very similar to a `data.frame` in R\n",
      "- Built on top of `numpy` arrays, and allows mixed column types\n",
      "- Copes well with missing values (unlike numpy)\n",
      "- Intelligently matches on columns/indices (supports `SQL`-like joins etc.)\n",
      "- Read and write `.csv`, `.xls`, HTML tables etc.\n",
      "- Lots of useful data analysis tools built in"
     ]
    },
    {
     "cell_type": "markdown",
     "metadata": {},
     "source": [
      "Exploring the iris data"
     ]
    },
    {
     "cell_type": "code",
     "collapsed": false,
     "input": [
      "%%bash\n",
      "head data/iris.csv"
     ],
     "language": "python",
     "metadata": {},
     "outputs": []
    },
    {
     "cell_type": "code",
     "collapsed": false,
     "input": [
      "from pandas import *\n",
      "iris = read_csv('data/iris.csv')\n",
      "iris.head()"
     ],
     "language": "python",
     "metadata": {},
     "outputs": []
    },
    {
     "cell_type": "code",
     "collapsed": false,
     "input": [
      "iris['sepal_length'].head()"
     ],
     "language": "python",
     "metadata": {},
     "outputs": []
    },
    {
     "cell_type": "code",
     "collapsed": false,
     "input": [
      "iris.species.value_counts()"
     ],
     "language": "python",
     "metadata": {},
     "outputs": []
    },
    {
     "cell_type": "code",
     "collapsed": false,
     "input": [
      "iris.petal_width.head()"
     ],
     "language": "python",
     "metadata": {},
     "outputs": []
    },
    {
     "cell_type": "code",
     "collapsed": false,
     "input": [
      "iris[iris.species == 'Iris-setosa'].petal_width.mean()"
     ],
     "language": "python",
     "metadata": {},
     "outputs": []
    },
    {
     "cell_type": "code",
     "collapsed": false,
     "input": [
      "iris[iris.species == 'Iris-virginica'].petal_width.mean()"
     ],
     "language": "python",
     "metadata": {},
     "outputs": []
    },
    {
     "cell_type": "code",
     "collapsed": false,
     "input": [
      "iris.boxplot(['sepal_width', 'sepal_length'], by='species')"
     ],
     "language": "python",
     "metadata": {},
     "outputs": []
    },
    {
     "cell_type": "code",
     "collapsed": false,
     "input": [
      "from pandas.tools.plotting import parallel_coordinates\n",
      "parallel_coordinates(iris, 'species')"
     ],
     "language": "python",
     "metadata": {},
     "outputs": []
    },
    {
     "cell_type": "markdown",
     "metadata": {},
     "source": [
      "Merging dataframes, and dealing with missing values"
     ]
    },
    {
     "cell_type": "code",
     "collapsed": false,
     "input": [
      "eur = DataFrame({'ID': ['rs123', 'rs234'], 'eur_maf': [0.4, 0.03]})\n",
      "amr = DataFrame({'ID': ['rs123', 'rs345', 'rs234'], 'amr_maf': [0.2, 0.3, 0.5]})\n",
      "\n",
      "amr"
     ],
     "language": "python",
     "metadata": {},
     "outputs": []
    },
    {
     "cell_type": "code",
     "collapsed": false,
     "input": [
      "comb = amr.merge(eur, on='ID', how='left')\n",
      "comb"
     ],
     "language": "python",
     "metadata": {},
     "outputs": []
    },
    {
     "cell_type": "code",
     "collapsed": false,
     "input": [
      "comb.eur_maf.mean()"
     ],
     "language": "python",
     "metadata": {},
     "outputs": []
    },
    {
     "cell_type": "code",
     "collapsed": false,
     "input": [
      "comb['eur_maf'] = comb.eur_maf.fillna(comb.eur_maf.mean())\n",
      "comb"
     ],
     "language": "python",
     "metadata": {},
     "outputs": []
    },
    {
     "cell_type": "heading",
     "level": 2,
     "metadata": {},
     "source": [
      "`scikit-learn`"
     ]
    },
    {
     "cell_type": "markdown",
     "metadata": {},
     "source": [
      "- Machine learning algorithms implemented in Python on top of `numpy` & `scipy`\n",
      "- Conveniently maintains the same interface to a wide range of algorithms\n",
      "- Includes algorithms for:\n",
      "    - Classification\n",
      "    - Regression\n",
      "    - Clustering\n",
      "    - Dimensionality reduction\n",
      "- As well as lots of useful utilities (cross-validation, preprocessing etc.)"
     ]
    },
    {
     "cell_type": "code",
     "collapsed": false,
     "input": [
      "# convert species labels to factors\n",
      "iris['cls'] = Categorical.from_array(iris.species).labels\n",
      "\n",
      "# we're going to experiment with classification, let's keep things simple with 2 classes\n",
      "iris2 = iris[(iris.cls == 1) | (iris.cls == 2)]\n",
      "\n",
      "# to make things harder let's just try a subset of features\n",
      "\n",
      "X = iris2[['sepal_width', 'sepal_length', 'petal_length']]\n",
      "X[0:5]"
     ],
     "language": "python",
     "metadata": {},
     "outputs": []
    },
    {
     "cell_type": "code",
     "collapsed": false,
     "input": [
      "y = iris2.cls\n",
      "y[0:5]"
     ],
     "language": "python",
     "metadata": {},
     "outputs": []
    },
    {
     "cell_type": "code",
     "collapsed": false,
     "input": [
      "from sklearn.cross_validation import train_test_split\n",
      "\n",
      "X_train, X_test, y_train, y_test = train_test_split(X, y, random_state=0)"
     ],
     "language": "python",
     "metadata": {},
     "outputs": []
    },
    {
     "cell_type": "code",
     "collapsed": false,
     "input": [
      "from sklearn.neighbors import KNeighborsClassifier\n",
      "from sklearn.linear_model import LogisticRegression\n",
      "from sklearn.metrics import confusion_matrix\n",
      "\n",
      "clf = KNeighborsClassifier(5)\n",
      "#clf = LogisticRegression()\n",
      "\n",
      "model = clf.fit(X_train, y_train)\n",
      "\n",
      "y_pred = model.predict(X_test)\n",
      "\n",
      "confusion_matrix(y_test, y_pred)"
     ],
     "language": "python",
     "metadata": {},
     "outputs": []
    }
   ],
   "metadata": {}
  }
 ]
}