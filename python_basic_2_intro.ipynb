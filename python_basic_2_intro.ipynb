{
 "cells": [
  {
   "cell_type": "markdown",
   "metadata": {
    "slideshow": {
     "slide_type": "slide"
    }
   },
   "source": [
    "# An introduction to solving biological problems with Python\n",
    "\n",
    "- Our course webpage: http://pycam.github.io\n",
    "- Python website: https://www.python.org/ \n",
    "- [Python 3 Standard Library](https://docs.python.org/3/library/index.html])"
   ]
  },
  {
   "cell_type": "markdown",
   "metadata": {
    "slideshow": {
     "slide_type": "slide"
    }
   },
   "source": [
    "## Learning objectives\n",
    "\n",
    "- **Recall** what we've learned so far on variables, common data types and collections\n",
    "- **Propose and create** solutions using these concepts in an exercise\n",
    "- **Use** conditions to execute specific code block\n",
    "- **Employ** loops to repeat code block\n",
    "- **Practice** reading and writing files with Python\n",
    "- **Solve** more complex exercises"
   ]
  },
  {
   "cell_type": "markdown",
   "metadata": {
    "slideshow": {
     "slide_type": "slide"
    }
   },
   "source": [
    "## Course schedule - day two\n",
    "\n",
    "- 09:30-09:45: [0h15] **Introduction**\n",
    "- 09:45-10:45: [1h00] **Session 2.1** - Conditional execution\n",
    "- 10:45-11:00: *break*\n",
    "- 11:00-12:30: [1h30] **Session 2.2** - Loops\n",
    "- 12:30-13:45: *lunch break*\n",
    "- 13:45-14:45: [1h00] **Session 2.3** - Files\n",
    "- 14:45-15:00: *break*\n",
    "- 15:00-16:00: [1h00] **Session 2.4 ** - Conclusion: What we've learned so far..."
   ]
  },
  {
   "cell_type": "markdown",
   "metadata": {
    "slideshow": {
     "slide_type": "slide"
    }
   },
   "source": [
    "## What we've learned so far\n",
    "\n",
    "- Simple data types, Collections\n",
    "- Functions used so far..."
   ]
  },
  {
   "cell_type": "markdown",
   "metadata": {
    "slideshow": {
     "slide_type": "slide"
    }
   },
   "source": [
    "## Simple data types"
   ]
  },
  {
   "cell_type": "markdown",
   "metadata": {
    "slideshow": {
     "slide_type": "slide"
    }
   },
   "source": [
    "## Collections"
   ]
  },
  {
   "cell_type": "code",
   "execution_count": 43,
   "metadata": {
    "collapsed": false,
    "slideshow": {
     "slide_type": "subslide"
    }
   },
   "outputs": [
    {
     "name": "stdout",
     "output_type": "stream",
     "text": [
      "A tuple: (2, 3, 4, 5)\n",
      "First element of tuple: 2\n"
     ]
    }
   ],
   "source": [
    "## Tuple - immutable\n",
    "example_tuple = (2, 3, 4, 5)\n",
    "print('A tuple:', example_tuple)\n",
    "print('First element of tuple:', example_tuple[0])"
   ]
  },
  {
   "cell_type": "code",
   "execution_count": 44,
   "metadata": {
    "collapsed": false,
    "slideshow": {
     "slide_type": "subslide"
    }
   },
   "outputs": [
    {
     "name": "stdout",
     "output_type": "stream",
     "text": [
      "A list: [2, 3, 4, 5]\n",
      "First element of list: 2\n",
      "Appended list: [2, 3, 4, 5, 12]\n",
      "Modified list: [45, 3, 4, 5, 12]\n"
     ]
    }
   ],
   "source": [
    "## List\n",
    "example_list = [2, 3, 4, 5]\n",
    "print('A list:', example_list)\n",
    "print('First element of list:', example_list[0])\n",
    "example_list.append(12)\n",
    "print('Appended list:', example_list)\n",
    "example_list[0] = 45\n",
    "print('Modified list:', example_list)"
   ]
  },
  {
   "cell_type": "code",
   "execution_count": 45,
   "metadata": {
    "collapsed": false,
    "slideshow": {
     "slide_type": "subslide"
    }
   },
   "outputs": [
    {
     "name": "stdout",
     "output_type": "stream",
     "text": [
      "Here is a string: ATGTCATTT\n",
      "First character: A\n",
      "Number of characters in text 9\n"
     ]
    }
   ],
   "source": [
    "## String - immutable, tuple of characters\n",
    "text = \"ATGTCATTT\"\n",
    "print('Here is a string:', text)\n",
    "print('First character:', text[0])\n",
    "print('Number of characters in text', len(text))"
   ]
  },
  {
   "cell_type": "code",
   "execution_count": 46,
   "metadata": {
    "collapsed": false,
    "slideshow": {
     "slide_type": "subslide"
    }
   },
   "outputs": [
    {
     "name": "stdout",
     "output_type": "stream",
     "text": [
      "A set: {1, 2, 4, 5, 6}\n"
     ]
    }
   ],
   "source": [
    "## Set - unique unordered elements\n",
    "example_set = set([1,2,2,2,2,4,5,6,6,6])\n",
    "print('A set:', example_set)"
   ]
  },
  {
   "cell_type": "code",
   "execution_count": 47,
   "metadata": {
    "collapsed": false,
    "slideshow": {
     "slide_type": "subslide"
    }
   },
   "outputs": [
    {
     "name": "stdout",
     "output_type": "stream",
     "text": [
      "A dictionary: {'G': 'Guanine', 'T': 'Thymine', 'A': 'Adenine', 'C': 'Cytosine'}\n",
      "Value associated to key C: Cytosine\n"
     ]
    }
   ],
   "source": [
    "## Dictionary\n",
    "example_dictionary = {\"A\": \"Adenine\", \n",
    "                      \"C\": \"Cytosine\", \n",
    "                      \"G\": \"Guanine\", \n",
    "                      \"T\": \"Thymine\"}\n",
    "print('A dictionary:', example_dictionary)\n",
    "print('Value associated to key C:', example_dictionary['C'])"
   ]
  },
  {
   "cell_type": "markdown",
   "metadata": {
    "slideshow": {
     "slide_type": "slide"
    }
   },
   "source": [
    "## Functions used so far..."
   ]
  },
  {
   "cell_type": "code",
   "execution_count": 52,
   "metadata": {
    "collapsed": false
   },
   "outputs": [
    {
     "name": "stdout",
     "output_type": "stream",
     "text": [
      "There are 5 elements in the list ['A', 'C', 'A', 'T', 'G']\n",
      "['ATG', 'TCA', 'CCG', 'GGC']\n"
     ]
    }
   ],
   "source": [
    "example_list = ['A', 'C', 'A', 'T', 'G']\n",
    "print('There are', len(example_list), 'elements in the list', example_list)\n",
    "print(\"ATG TCA CCG GGC\".split())"
   ]
  },
  {
   "cell_type": "markdown",
   "metadata": {
    "slideshow": {
     "slide_type": "slide"
    }
   },
   "source": [
    "## Next session\n",
    "\n",
    "Go to our next notebook: [python_basic_2_1](python_basic_2_1.ipynb)"
   ]
  }
 ],
 "metadata": {
  "celltoolbar": "Slideshow",
  "kernelspec": {
   "display_name": "Python 3",
   "language": "python",
   "name": "python3"
  },
  "language_info": {
   "codemirror_mode": {
    "name": "ipython",
    "version": 3
   },
   "file_extension": ".py",
   "mimetype": "text/x-python",
   "name": "python",
   "nbconvert_exporter": "python",
   "pygments_lexer": "ipython3",
   "version": "3.5.2"
  }
 },
 "nbformat": 4,
 "nbformat_minor": 0
}
