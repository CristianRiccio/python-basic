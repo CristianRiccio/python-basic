{
 "metadata": {
  "name": "Introduction_to_python_session_2"
 },
 "nbformat": 3,
 "nbformat_minor": 0,
 "worksheets": [
  {
   "cells": [
    {
     "cell_type": "heading",
     "level": 2,
     "metadata": {},
     "source": "Program control and logic"
    },
    {
     "cell_type": "markdown",
     "metadata": {},
     "source": "Python uses indentation to show which statements are in a block of code, other languages use begin...end or curly braces.\n\nIt doesn't matter how much indentation you use, but the whole block must be consistent, i.e., if the first statement is indented by four spaces, the rest of the block must be indented by the same amount.\n\nThe Python style guide recommends using 4-space indentation. Use spaces, rather than tabs, since different editors display tab characters with different widths.\n\nBlock scope diagram\n\nStatement 1:\n\n    Command A \u2013 in the block of statement 1\n    Command B \u2013 in the block of statement 1\n  \n    Statement 2:\n        Command C \u2013 in the block of statement 2\n        Command D \u2013 in the block of statement 2\n  \n    Command E \u2013 back in the block of statement 1\n\nCommand F \u2013 outside all statement blocks\n"
    },
    {
     "cell_type": "heading",
     "level": 2,
     "metadata": {},
     "source": "Loops"
    },
    {
     "cell_type": "markdown",
     "metadata": {},
     "source": "When we have to type, or copy and paste, the same thing multiple times or we need to look at each element in a list we should use a loop.\n\nThere are two ways of creating loops in Python, the first we will look at is called a for loop.\n\nThe for loop in Python iterates over each item in sequence in the order that they appear in the sequence."
    },
    {
     "cell_type": "code",
     "collapsed": false,
     "input": "IDs = ['NA06984', 'NA06985', 'NA06986', 'NA06989', 'NA06991']\n\nfor id in ids:\n    print id",
     "language": "python",
     "metadata": {},
     "outputs": []
    },
    {
     "cell_type": "markdown",
     "metadata": {},
     "source": "You can refer to variables outside loop."
    },
    {
     "cell_type": "code",
     "collapsed": false,
     "input": "total = 0\n\nfor ID in IDs:\n    total = total+1\n\nprint total",
     "language": "python",
     "metadata": {},
     "outputs": []
    },
    {
     "cell_type": "markdown",
     "metadata": {},
     "source": "Copy lists before modifying in loops\n\nAn internal counter is used to keep track of which item is used next, and this is incremented on each iteration. When this counter has reached the length of the sequence the loop terminates. This means that if you delete the current an item from the sequence, the next item will be skipped (since it gets the index of the current item which has already been treated). Likewise, if you insert an item in a sequence before the current item, the current item will be treated again the next time through the loop. This can lead to nasty bugs that can be avoided by making a temporary copy using a slice of the whole sequence."
    },
    {
     "cell_type": "code",
     "collapsed": false,
     "input": "for ID in IDs:\n    if ID == 'NA06989':\n        IDs.remove(ID)\n    print ID\n",
     "language": "python",
     "metadata": {},
     "outputs": []
    },
    {
     "cell_type": "code",
     "collapsed": false,
     "input": "IDsCopy = IDs[:]\nfor ID in IDs:\n    if ID == 'NA06989':\n        IDs.remove(ID)\nIDs = IDsCopy",
     "language": "python",
     "metadata": {},
     "outputs": []
    },
    {
     "cell_type": "markdown",
     "metadata": {},
     "source": "You can also looping through dictionary keys using a for loop"
    },
    {
     "cell_type": "code",
     "collapsed": false,
     "input": "IDPopulation = {'NA06984': 'CEU', 'NA06985': 'CEU', 'NA19224': 'YRI', 'NA19226': 'YRI', 'NA19545': 'JPT', 'NA18527': 'CHB'}\n\nfor ID in idPopulation:\n    print ID, idPopulation[ID]",
     "language": "python",
     "metadata": {},
     "outputs": []
    },
    {
     "cell_type": "markdown",
     "metadata": {},
     "source": "Cannot modify dictionary (keys) while looping through:"
    },
    {
     "cell_type": "code",
     "collapsed": false,
     "input": "for ID in IDPopulation:\n  pop = IDPopulation[ID]\n\n  if pop == 'JPT':\n    del IDpopulation[ID] # raises RuntimeError",
     "language": "python",
     "metadata": {},
     "outputs": []
    },
    {
     "cell_type": "markdown",
     "metadata": {},
     "source": "The other type of loop in Python is the while loop which executes a block of code for as long as a condition remains true."
    },
    {
     "cell_type": "code",
     "collapsed": false,
     "input": "i = 0\nwhile (i < 5):\n    print IDs[i]\n    i = i + 1;",
     "language": "python",
     "metadata": {},
     "outputs": []
    },
    {
     "cell_type": "markdown",
     "metadata": {},
     "source": "#### Exercises\n\n1. Create an list where each element is an individual base of DNA. Make the array 15 bases long.\n2. Create a for loop to output every base of the sequence on a new line.\n3. Create a while loop similar to the one above that starts at the third base in the sequence and outputs every third base until the 12th."
    },
    {
     "cell_type": "heading",
     "level": 2,
     "metadata": {},
     "source": "If statements and loop control"
    },
    {
     "cell_type": "markdown",
     "metadata": {},
     "source": "In the while loop above, we saw an example of a logical test: `(i<5)`. While this statement was true, the while loop continued; when it became false, the while loop ended. \n\nAnother powerful control structure in programming that uses logical tests is `if..elsif..else`."
    },
    {
     "cell_type": "markdown",
     "metadata": {},
     "source": "if conditionalExpression1:\n\n    # codeBlock1\n\nelif conditionalExpression2:\n\n    # codeBlock2\n \n    +any number of additional elif statements, then finally:\n\nelif conditionalExpressionN:\n\n    # codeBlockN\n\nelse:\n\n    # codeBlockE\n"
    },
    {
     "cell_type": "markdown",
     "metadata": {},
     "source": "The elsif block is optional, and we can use as many as we like. The else block is also optional, but it is good practice to include it in most cases, so that you always catch cases that do not pass, as where a case does not pass the condition, it would do so silently, which might not be the desired behaviour."
    },
    {
     "cell_type": "code",
     "collapsed": false,
     "input": "\ngeneExpression = {'Beta-Catenin': 2.5, 'Beta-Actin': 1.7, 'Pax6': 0, 'HoxA2': -3.2}\n\nfor gene in geneExpression:\n    if geneExpression.get(gene) < 0:\n        print gene, \" is downregulated\"\n        \n    elif geneExpression.get(gene) > 0:\n        print gene, \" is upregulated\"\n        \n    else:\n        print \"No change in expression of \", gene",
     "language": "python",
     "metadata": {},
     "outputs": []
    },
    {
     "cell_type": "markdown",
     "metadata": {},
     "source": "Comparison operators\n\n<table>\n    <tr><th>Operator</th><th>Description</th><th>Example</th></tr>\n    <tr><td><tt>==</tt></td><td>equality</td><td><tt>1 == 2 # False</tt></td></tr>    \n    <tr><td><tt>!=</tt></td><td>non equality</td><td><tt>1 != 2 # True</tt></td></tr>   \n    <tr><td><tt><</tt></td><td>less than</td><td><tt>1 < 2 # True</tt></td></tr>\n    <tr><td><tt><=</tt></td><td>equal or less than</td><td><tt>2 <= 2 # True</tt></td></tr>    \n    <tr><td><tt>></tt></td><td>greater then</td><td><tt>1 > 2 # False</tt></td></tr>    \n    <tr><td><tt>>=</tt></td><td>equal or greater than</td><td><tt>1 >= 1 # True</tt></td></tr>    \n</table>"
    },
    {
     "cell_type": "markdown",
     "metadata": {},
     "source": "When constructing tests it is useful to know what Python considers as false:\n\n<table>\n    <tr><th>False value</th><th>Description</th></tr>\n    <tr><td><tt>None</tt></td><td>numeric equality</td></tr>\n    <tr><td><tt>False</tt></td><td>False boolean</td></tr>\n    <tr><td><tt>0</tt></td><td>0 integer</td></tr>\n    <tr><td><tt>0.0</tt></td><td>0.0 floating point</td></tr>\n    <tr><td><tt>\"\"</tt></td><td>empty string</td></tr>\n    <tr><td><tt>()</tt></td><td>empty tuple</td></tr>\n    <tr><td><tt>[]</tt></td><td>empty list</td></tr>\n    <tr><td><tt>{}</tt></td><td>empty dictonary</td></tr>\n    <tr><td><tt>set(())</tt></td><td>empty set</td></tr>\n    <tr><td><tt>frozenset(())</tt></td><td>empty frozen set</td></tr>\n</table>"
    },
    {
     "cell_type": "markdown",
     "metadata": {},
     "source": "For example, we might want to output only the nonsynonymous bases of a codon (the first and second bases) and ignore the third, synonymous base (because most amino acids are determined by the first and second bases alone)."
    },
    {
     "cell_type": "code",
     "collapsed": false,
     "input": "sequence = ['T','A','C','G','G','C','A','T','C','T','A','G'];\n\ni = 0\nfor base in sequence:\n    i = i + 1\n    if i == 3:\n      i = 0\n    else:\n      print base",
     "language": "python",
     "metadata": {},
     "outputs": []
    },
    {
     "cell_type": "markdown",
     "metadata": {},
     "source": "A loop will always contine until all the elements in a sequence have been processed in the case of a for loop or until the logical test becomes false in a while loop. \n\nIf you would like to terminate a loop early you can using the `break` keyword"
    },
    {
     "cell_type": "code",
     "collapsed": false,
     "input": "geneticCode = {'TAT': 'Tyrosine', 'TAC': 'Tyrosine', 'CAA': 'Glutamine', 'CAG': 'Glutamine', 'TAG': 'STOP'}\n\nsequence = ['CAG','TAC','CAA','TAG','TAC','CAG','CAA']\n\nfor codon in sequence:\n   if ($geneticCode{$codon} == 'STOP':\n       break\n   else:\n       print \"$geneticCode{$codon}\\n\"\n   }\n}",
     "language": "python",
     "metadata": {},
     "outputs": []
    },
    {
     "cell_type": "markdown",
     "metadata": {},
     "source": "You can also skip the current iteration of a loop using the `continue` keyword, which will continue with the next iteration of the loop"
    },
    {
     "cell_type": "code",
     "collapsed": false,
     "input": "sequence = ['T','A','C','G','G','C','A','T','C','T','A','G'];\n\ni = 0\nfor base in sequence:\n    i = i + 1\n    if i == 3:\n        i = 0\n        continue\n    print base",
     "language": "python",
     "metadata": {},
     "outputs": []
    },
    {
     "cell_type": "markdown",
     "metadata": {},
     "source": "#### Exercises\n1. Let's calculate GC content of a DNA sequence. Use the 15-base array you created for the exercises in the lesson on loops. Create a variable, `$gc`, which we will use to count the number of Gs or Cs in our sequence.\n2. Create a loop to iterate over the bases in your sequence. If the base is a G or the base is a C, add one to your `gc` variable.\n3. When the loop is done, divide the number of GC bases by the length of the sequence and multiply by 100 to get the GC percentage. "
    },
    {
     "cell_type": "heading",
     "level": 2,
     "metadata": {},
     "source": "More looping"
    },
    {
     "cell_type": "markdown",
     "metadata": {},
     "source": "If you would like to iterate over a numeric sequence then this is possible by combining the `range()` function and a for loop."
    },
    {
     "cell_type": "code",
     "collapsed": false,
     "input": "print range(10)\n\nprint range(5, 10)\n\nprint range(0, 10, 3)\n\nprint range(7, 2, -2)",
     "language": "python",
     "metadata": {},
     "outputs": []
    },
    {
     "cell_type": "markdown",
     "metadata": {},
     "source": "Looping thorugh ranges"
    },
    {
     "cell_type": "code",
     "collapsed": false,
     "input": "squares = []\nfor x in range(8):\n\n    print x*x",
     "language": "python",
     "metadata": {},
     "outputs": []
    },
    {
     "cell_type": "markdown",
     "metadata": {},
     "source": "List comprehension alternative"
    },
    {
     "cell_type": "code",
     "collapsed": false,
     "input": "squares = [x*x for x in range(1,8)]\n\nprint squares",
     "language": "python",
     "metadata": {},
     "outputs": []
    },
    {
     "cell_type": "markdown",
     "metadata": {},
     "source": "Looping through list indices"
    },
    {
     "cell_type": "code",
     "collapsed": false,
     "input": "IDs = ['NA06984', 'NA06985', 'NA06986', 'NA06989', 'NA06991']\n\nfor ID in range(len(IDs)):\n    print ID, IDs[ID]",
     "language": "python",
     "metadata": {},
     "outputs": []
    },
    {
     "cell_type": "markdown",
     "metadata": {},
     "source": "Looping through indices for two lists"
    },
    {
     "cell_type": "code",
     "collapsed": false,
     "input": "more_IDs = ['NA06993', 'NA06994', 'NA06995', 'NA06997', 'NA07000']\nfor ID in range(len(IDs)):\n\n    print ID, IDs[ID], more_IDs[ID]",
     "language": "python",
     "metadata": {},
     "outputs": []
    },
    {
     "cell_type": "markdown",
     "metadata": {},
     "source": "Using enumerate:\n\nGiven a sequence enumerate() will return an enumerate object. Using the next() method on the enumerate object returns a tuple containing a count value which starts from 0 and the value in the sequence."
    },
    {
     "cell_type": "code",
     "collapsed": false,
     "input": "for n, ID in enumerate(IDs):\n    \n    print n, ID, more_IDs[n]",
     "language": "python",
     "metadata": {},
     "outputs": []
    },
    {
     "cell_type": "markdown",
     "metadata": {},
     "source": "Using zip:\n\nzip() returns a list of tuples, where the i-th tuple contains the i-th element from each of the argument sequences or iterables. The returned list is truncated in length to the length of the shortest argument sequence."
    },
    {
     "cell_type": "code",
     "collapsed": false,
     "input": "for (id_a, id_b) in zip(IDs, more_IDs):\n    print id_a, id_b",
     "language": "python",
     "metadata": {},
     "outputs": []
    },
    {
     "cell_type": "markdown",
     "metadata": {},
     "source": "Filtered lists in loops"
    },
    {
     "cell_type": "code",
     "collapsed": false,
     "input": "  citiesOk = []\n  for city in cities:\n    if getPopulation(city) >= 10000:\n      citiesOk.append(city)\n  cities = citiesOk",
     "language": "python",
     "metadata": {},
     "outputs": []
    },
    {
     "cell_type": "markdown",
     "metadata": {},
     "source": "Filtering in a list comprehension loop"
    },
    {
     "cell_type": "code",
     "collapsed": false,
     "input": "cities = [city for city in cities if getPopulation(city) >= 10000]",
     "language": "python",
     "metadata": {},
     "outputs": []
    },
    {
     "cell_type": "code",
     "collapsed": false,
     "input": "total = 0\n  for city in populationDict:\n    total += populationDict[city]",
     "language": "python",
     "metadata": {},
     "outputs": []
    },
    {
     "cell_type": "markdown",
     "metadata": {},
     "source": "Object identity operators\n\n*  x is y               # rather than x == y\n*  x is not y           # rather than x != y"
    },
    {
     "cell_type": "code",
     "collapsed": false,
     "input": "x = [123, 54, 92, 87, 33]\ny = x[:]                 # y is a copy of x\ny == x                   # True\ny is x                   # False\n",
     "language": "python",
     "metadata": {},
     "outputs": []
    },
    {
     "cell_type": "markdown",
     "metadata": {},
     "source": "Alternative tests "
    },
    {
     "cell_type": "code",
     "collapsed": false,
     "input": "x = [123, 54, 92, 87, 33]\n\nif len(x) > 10:\n    x.append(999)\nelif len(x) > 3:\n    x.append(888)\nelse:\n    x.append(777)\n    \nprint x",
     "language": "python",
     "metadata": {},
     "outputs": []
    },
    {
     "cell_type": "markdown",
     "metadata": {},
     "source": "One line if-else\n\nexpression1 if conditionalExpression else expression2\n\n"
    },
    {
     "cell_type": "code",
     "collapsed": false,
     "input": "s = x and \"Yes\" or \"No\"\n\ns = \"Yes\" if x else \"No\"",
     "language": "python",
     "metadata": {},
     "outputs": []
    },
    {
     "cell_type": "heading",
     "level": 2,
     "metadata": {},
     "source": "Exceptions"
    },
    {
     "cell_type": "markdown",
     "metadata": {},
     "source": "Even if a statement or expression is syntactically correct, it may cause an error when an attempt is made to execute it. Errors detected during execution are called exceptions and unless handled by programs result in error messages.\n\nFor example:"
    },
    {
     "cell_type": "code",
     "collapsed": false,
     "input": "x = 1/0",
     "language": "python",
     "metadata": {},
     "outputs": []
    },
    {
     "cell_type": "markdown",
     "metadata": {},
     "source": "It is possible to write programs that handle selected exceptions using a try statement.\n\n* Code that might throw an exception is entered into the try block and is executed.\n* If no exception occurs, the except clause is skipped and execution of the try statement is finished.\n* If an exception occurs during execution of the try clause, the rest of the clause is skipped. Then if its type matches the exception named after the except keyword, the except clause is executed, and then execution continues after the try statement.\n* If an exception occurs which does not match the exception named in the except clause, it is passed on to outer try statements; if no handler is found, it is an unhandled exception and execution stops with a message as shown above.\n"
    },
    {
     "cell_type": "code",
     "collapsed": false,
     "input": "x = 1 \ny = 0 \n\ntry:\n    z = x + y \n    w = x / y \n    t = x * y \n\nexcept ZeroDivisionError:\n    \n    print \"divided by zero\"\n\nprint \"program did not stop\"",
     "language": "python",
     "metadata": {},
     "outputs": []
    },
    {
     "cell_type": "markdown",
     "metadata": {},
     "source": "The error object"
    },
    {
     "cell_type": "code",
     "collapsed": false,
     "input": "x = 1 \ny = 0 \n\ntry: \n    w = x / y \n\nexcept ZeroDivisionError, errorObj: \n    print errorObj\n    \nprint \"program did not stop\"",
     "language": "python",
     "metadata": {},
     "outputs": []
    },
    {
     "cell_type": "markdown",
     "metadata": {},
     "source": "Common programming actions that throw exceptions:\n\n* opening a file\n* reading from a file"
    },
    {
     "cell_type": "markdown",
     "metadata": {},
     "source": "Multiple detection\n\n* A try statement may have more than one except clause, to specify handlers for different exceptions. At most one handler will be executed. Handlers only handle exceptions that occur in the corresponding try clause, not in other handlers of the same try statement. An except clause may name multiple exceptions as a parenthesized tuple, for example:"
    },
    {
     "cell_type": "code",
     "collapsed": false,
     "input": "try:\n    w = x / y\nexcept ZeroDivisionError, errorObj:\n    print \"divided by zero\", errorObj\nexcept TypeError, errorObj:\n    print \"divided by something silly\", errorObj",
     "language": "python",
     "metadata": {},
     "outputs": []
    },
    {
     "cell_type": "markdown",
     "metadata": {},
     "source": "Putting it all together"
    },
    {
     "cell_type": "code",
     "collapsed": false,
     "input": "try:\n    w = x / y\nexcept ZeroDivisionError, e:\n    print \"divided by zero\"\nfinally:\n    print \"finished with division\"",
     "language": "python",
     "metadata": {},
     "outputs": []
    },
    {
     "cell_type": "markdown",
     "metadata": {},
     "source": "Raising you own exceptions"
    },
    {
     "cell_type": "code",
     "collapsed": false,
     "input": "if y <= 0: \n    raise Exception(\"y must be > 0\")",
     "language": "python",
     "metadata": {},
     "outputs": []
    },
    {
     "cell_type": "markdown",
     "metadata": {},
     "source": "Handling exceptions before raise"
    },
    {
     "cell_type": "code",
     "collapsed": false,
     "input": "try:\n    w = x / y\nexcept ZeroDivisionError, errorObj:\n    print \"Program quitting due to zero division\"\n    # do some last moment clean-up\n    raise errorObj",
     "language": "python",
     "metadata": {},
     "outputs": []
    },
    {
     "cell_type": "markdown",
     "metadata": {},
     "source": "Finally: always execute regardless of exceptions (typically cleanup code)"
    },
    {
     "cell_type": "code",
     "collapsed": false,
     "input": "try: \n    w = x / y \n    \nfinally: \n    print \"finished with division\"",
     "language": "python",
     "metadata": {},
     "outputs": []
    },
    {
     "cell_type": "heading",
     "level": 2,
     "metadata": {},
     "source": "Exercises"
    },
    {
     "cell_type": "heading",
     "level": 2,
     "metadata": {},
     "source": "Importing libraries"
    },
    {
     "cell_type": "markdown",
     "metadata": {},
     "source": "Get a standard module"
    },
    {
     "cell_type": "code",
     "collapsed": false,
     "input": "import sys",
     "language": "python",
     "metadata": {},
     "outputs": [],
     "prompt_number": 52
    },
    {
     "cell_type": "markdown",
     "metadata": {},
     "source": "Accessing module with dot notation"
    },
    {
     "cell_type": "code",
     "collapsed": false,
     "input": "arguments = sys.argv\n\nprint arguments",
     "language": "python",
     "metadata": {},
     "outputs": [
      {
       "output_type": "stream",
       "stream": "stdout",
       "text": "['-c', '-f', '/Users/jm20/.ipython/profile_default/security/kernel-edd251ac-a460-415b-b7f1-eb4adacaac06.json', \"--KernelApp.parent_appname='ipython-notebook'\", '--parent=1']\n"
      }
     ],
     "prompt_number": 53
    },
    {
     "cell_type": "markdown",
     "metadata": {},
     "source": "Accessing sub-components directly"
    },
    {
     "cell_type": "code",
     "collapsed": false,
     "input": "from sys import argv\n\narguments = argv\n\nprint arguments",
     "language": "python",
     "metadata": {},
     "outputs": [
      {
       "output_type": "stream",
       "stream": "stdout",
       "text": "['-c', '-f', '/Users/jm20/.ipython/profile_default/security/kernel-edd251ac-a460-415b-b7f1-eb4adacaac06.json', \"--KernelApp.parent_appname='ipython-notebook'\", '--parent=1']\n"
      }
     ],
     "prompt_number": 54
    },
    {
     "cell_type": "markdown",
     "metadata": {},
     "source": "Multiple components"
    },
    {
     "cell_type": "code",
     "collapsed": false,
     "input": "from sys import argv, exit",
     "language": "python",
     "metadata": {},
     "outputs": [],
     "prompt_number": 55
    },
    {
     "cell_type": "code",
     "collapsed": false,
     "input": "from sys import argv \nfrom sys import exit",
     "language": "python",
     "metadata": {},
     "outputs": [],
     "prompt_number": 56
    },
    {
     "cell_type": "markdown",
     "metadata": {},
     "source": "Listing module contents:"
    },
    {
     "cell_type": "code",
     "collapsed": false,
     "input": "dir(sys)",
     "language": "python",
     "metadata": {},
     "outputs": [
      {
       "output_type": "pyout",
       "prompt_number": 57,
       "text": "['__displayhook__',\n '__doc__',\n '__egginsert',\n '__excepthook__',\n '__name__',\n '__package__',\n '__plen',\n '__stderr__',\n '__stdin__',\n '__stdout__',\n '_clear_type_cache',\n '_current_frames',\n '_getframe',\n '_mercurial',\n 'api_version',\n 'argv',\n 'builtin_module_names',\n 'byteorder',\n 'call_tracing',\n 'callstats',\n 'copyright',\n 'displayhook',\n 'dont_write_bytecode',\n 'exc_clear',\n 'exc_info',\n 'exc_type',\n 'excepthook',\n 'exec_prefix',\n 'executable',\n 'exit',\n 'exitfunc',\n 'flags',\n 'float_info',\n 'float_repr_style',\n 'getcheckinterval',\n 'getdefaultencoding',\n 'getdlopenflags',\n 'getfilesystemencoding',\n 'getprofile',\n 'getrecursionlimit',\n 'getrefcount',\n 'getsizeof',\n 'gettrace',\n 'hexversion',\n 'last_traceback',\n 'last_type',\n 'last_value',\n 'long_info',\n 'maxint',\n 'maxsize',\n 'maxunicode',\n 'meta_path',\n 'modules',\n 'path',\n 'path_hooks',\n 'path_importer_cache',\n 'platform',\n 'prefix',\n 'ps1',\n 'ps2',\n 'ps3',\n 'py3kwarning',\n 'setcheckinterval',\n 'setdlopenflags',\n 'setprofile',\n 'setrecursionlimit',\n 'settrace',\n 'stderr',\n 'stdin',\n 'stdout',\n 'subversion',\n 'version',\n 'version_info',\n 'warnoptions']"
      }
     ],
     "prompt_number": 57
    },
    {
     "cell_type": "markdown",
     "metadata": {},
     "source": "String instance"
    },
    {
     "cell_type": "code",
     "collapsed": false,
     "input": "dir(\"mystring\") ",
     "language": "python",
     "metadata": {},
     "outputs": [
      {
       "output_type": "pyout",
       "prompt_number": 58,
       "text": "['__add__',\n '__class__',\n '__contains__',\n '__delattr__',\n '__doc__',\n '__eq__',\n '__format__',\n '__ge__',\n '__getattribute__',\n '__getitem__',\n '__getnewargs__',\n '__getslice__',\n '__gt__',\n '__hash__',\n '__init__',\n '__le__',\n '__len__',\n '__lt__',\n '__mod__',\n '__mul__',\n '__ne__',\n '__new__',\n '__reduce__',\n '__reduce_ex__',\n '__repr__',\n '__rmod__',\n '__rmul__',\n '__setattr__',\n '__sizeof__',\n '__str__',\n '__subclasshook__',\n '_formatter_field_name_split',\n '_formatter_parser',\n 'capitalize',\n 'center',\n 'count',\n 'decode',\n 'encode',\n 'endswith',\n 'expandtabs',\n 'find',\n 'format',\n 'index',\n 'isalnum',\n 'isalpha',\n 'isdigit',\n 'islower',\n 'isspace',\n 'istitle',\n 'isupper',\n 'join',\n 'ljust',\n 'lower',\n 'lstrip',\n 'partition',\n 'replace',\n 'rfind',\n 'rindex',\n 'rjust',\n 'rpartition',\n 'rsplit',\n 'rstrip',\n 'split',\n 'splitlines',\n 'startswith',\n 'strip',\n 'swapcase',\n 'title',\n 'translate',\n 'upper',\n 'zfill']"
      }
     ],
     "prompt_number": 58
    },
    {
     "cell_type": "markdown",
     "metadata": {},
     "source": "String class"
    },
    {
     "cell_type": "code",
     "collapsed": false,
     "input": "dir(str)",
     "language": "python",
     "metadata": {},
     "outputs": [
      {
       "output_type": "pyout",
       "prompt_number": 59,
       "text": "['__add__',\n '__class__',\n '__contains__',\n '__delattr__',\n '__doc__',\n '__eq__',\n '__format__',\n '__ge__',\n '__getattribute__',\n '__getitem__',\n '__getnewargs__',\n '__getslice__',\n '__gt__',\n '__hash__',\n '__init__',\n '__le__',\n '__len__',\n '__lt__',\n '__mod__',\n '__mul__',\n '__ne__',\n '__new__',\n '__reduce__',\n '__reduce_ex__',\n '__repr__',\n '__rmod__',\n '__rmul__',\n '__setattr__',\n '__sizeof__',\n '__str__',\n '__subclasshook__',\n '_formatter_field_name_split',\n '_formatter_parser',\n 'capitalize',\n 'center',\n 'count',\n 'decode',\n 'encode',\n 'endswith',\n 'expandtabs',\n 'find',\n 'format',\n 'index',\n 'isalnum',\n 'isalpha',\n 'isdigit',\n 'islower',\n 'isspace',\n 'istitle',\n 'isupper',\n 'join',\n 'ljust',\n 'lower',\n 'lstrip',\n 'partition',\n 'replace',\n 'rfind',\n 'rindex',\n 'rjust',\n 'rpartition',\n 'rsplit',\n 'rstrip',\n 'split',\n 'splitlines',\n 'startswith',\n 'strip',\n 'swapcase',\n 'title',\n 'translate',\n 'upper',\n 'zfill']"
      }
     ],
     "prompt_number": 59
    },
    {
     "cell_type": "markdown",
     "metadata": {},
     "source": "Quick help on methods:"
    },
    {
     "cell_type": "code",
     "collapsed": false,
     "input": "help(str.title)",
     "language": "python",
     "metadata": {},
     "outputs": [
      {
       "output_type": "stream",
       "stream": "stdout",
       "text": "Help on method_descriptor:\n\ntitle(...)\n    S.title() -> string\n    \n    Return a titlecased version of S, i.e. words start with uppercase\n    characters, all remaining cased characters have lowercase.\n\n"
      }
     ],
     "prompt_number": 60
    },
    {
     "cell_type": "heading",
     "level": 2,
     "metadata": {},
     "source": "Exercises"
    },
    {
     "cell_type": "code",
     "collapsed": false,
     "input": "",
     "language": "python",
     "metadata": {},
     "outputs": []
    }
   ],
   "metadata": {}
  }
 ]
}