{
 "metadata": {
  "name": "Introduction_to_python_session_2"
 },
 "nbformat": 3,
 "nbformat_minor": 0,
 "worksheets": [
  {
   "cells": [
    {
     "cell_type": "heading",
     "level": 2,
     "metadata": {},
     "source": "Program control and logic"
    },
    {
     "cell_type": "markdown",
     "metadata": {},
     "source": "Block scope diagram\n\nStatement 1:\n\n    Command A \u2013 in the block of statement 1\n    Command B \u2013 in the block of statement 1\n  \n    Statement 2:\n        Command C \u2013 in the block of statement 2\n        Command D \u2013 in the block of statement 2\n  \n    Command E \u2013 back in the block of statement 1\n\nCommand F \u2013 outside all statement blocks\n"
    },
    {
     "cell_type": "heading",
     "level": 2,
     "metadata": {},
     "source": "Conditions, comparison and logic"
    },
    {
     "cell_type": "markdown",
     "metadata": {},
     "source": "If, else, else if\n\n  if conditionalExpression1:\n    \n    # codeBlock1\n\n  elif conditionalExpression2:\n   \n    # codeBlock2\n \n     +any number of additional elif statements, then finally:\n\n  elif conditionalExpressionN:\n    \n    # codeBlockN\n\n  else:\n    \n    # codeBlockE\n\nPlaceholders are needed for \u201cempty\u201d code blocks:\n\n  if someExpression:\n    \n    pass                  # fill code in later"
    },
    {
     "cell_type": "markdown",
     "metadata": {},
     "source": "\nThings that are false\n\n*  None                              # nothingness\n*  False             # False Boolean\n*  0                 # 0 integer\n*  0.0               # 0.0 floating point\n*  \u201d\u201d                # empty string\n*  ()                # empty tuple\n*  []                # empty list\n*  {}                # empty dictionary\n*  set(())           # empty set\n*  frozenset(())     # empty frozen set\n"
    },
    {
     "cell_type": "markdown",
     "metadata": {},
     "source": "Comparison operators\n\n*  x > y                   # x greater than y?\n*  x < y                   # x less than y?\n*  x >= y                  # x greater than or equal to y?\n*  x <= y                  # x less than or equal to y?\n*  x == y                  # x equal to y?\n*  x != y                  # x not equal to y?\n"
    },
    {
     "cell_type": "markdown",
     "metadata": {},
     "source": "Object identity operators\n\n*  x is y               # rather than x == y\n*  x is not y           # rather than x != y"
    },
    {
     "cell_type": "code",
     "collapsed": false,
     "input": "x = [123, 54, 92, 87, 33]\ny = x[:]                 # y is a copy of x\ny == x                   # True\ny is x                   # False\n",
     "language": "python",
     "metadata": {},
     "outputs": []
    },
    {
     "cell_type": "markdown",
     "metadata": {},
     "source": "Alternative tests "
    },
    {
     "cell_type": "code",
     "collapsed": false,
     "input": "x = [123, 54, 92, 87, 33]\n\nif len(x) > 10:\n    x.append(999)\nelif len(x) > 3:\n    x.append(888)\nelse:\n    x.append(777)\n    \nprint x",
     "language": "python",
     "metadata": {},
     "outputs": []
    },
    {
     "cell_type": "markdown",
     "metadata": {},
     "source": "One line if-else\n\nexpression1 if conditionalExpression else expression2\n\n"
    },
    {
     "cell_type": "code",
     "collapsed": false,
     "input": "s = x and \"Yes\" or \"No\"\n\ns = \"Yes\" if x else \"No\"",
     "language": "python",
     "metadata": {},
     "outputs": []
    },
    {
     "cell_type": "heading",
     "level": 2,
     "metadata": {},
     "source": "Exercises"
    },
    {
     "cell_type": "heading",
     "level": 2,
     "metadata": {},
     "source": "Loops"
    },
    {
     "cell_type": "markdown",
     "metadata": {},
     "source": "When we have to type, or copy and paste, the same thing multiple times we should use a loop.\n\nThere are two types of loop in Python the first we will look at is called a for loop:"
    },
    {
     "cell_type": "markdown",
     "metadata": {},
     "source": "The for loop in Python iterates over the items of any sequence (a list or a string), in the order that they appear in the sequence."
    },
    {
     "cell_type": "code",
     "collapsed": false,
     "input": "values = [10, -5, 3, -1, 7]\n\nfor v in values:\n    print v",
     "language": "python",
     "metadata": {},
     "outputs": []
    },
    {
     "cell_type": "markdown",
     "metadata": {},
     "source": "Refer to variables outside loop"
    },
    {
     "cell_type": "code",
     "collapsed": false,
     "input": "total = 0\n\nfor v in values:\n    total = total+v\n\nprint total",
     "language": "python",
     "metadata": {},
     "outputs": []
    },
    {
     "cell_type": "markdown",
     "metadata": {},
     "source": "Combine conditions and loops"
    },
    {
     "cell_type": "code",
     "collapsed": false,
     "input": "total = 0\n\nfor v in values:\n    if v >= 0:\n        total += v\n\nprint total",
     "language": "python",
     "metadata": {},
     "outputs": []
    },
    {
     "cell_type": "markdown",
     "metadata": {},
     "source": "Loop control with skipping "
    },
    {
     "cell_type": "code",
     "collapsed": false,
     "input": "total = 0\nfor v in values:\n    if v < 0:\n        continue \t# skip this iteration\n    \n    total += v\n\nprint total",
     "language": "python",
     "metadata": {},
     "outputs": []
    },
    {
     "cell_type": "markdown",
     "metadata": {},
     "source": "Breaking out of loops"
    },
    {
     "cell_type": "code",
     "collapsed": false,
     "input": "total = 0\nfor v in values:\n    if v == 3:\n        break\n\n    total += v\n    \nprint total",
     "language": "python",
     "metadata": {},
     "outputs": []
    },
    {
     "cell_type": "markdown",
     "metadata": {},
     "source": "Using else if no break happens"
    },
    {
     "cell_type": "code",
     "collapsed": false,
     "input": "for v in values:\n    if 5 < v < 10:             # Is x between 5 and 10?\n        foundInRange = True\n        break                    # Do not test any more\n\n    else:\n        foundInRange = False       # Found nothing\n\nprint foundInRange\n",
     "language": "python",
     "metadata": {},
     "outputs": []
    },
    {
     "cell_type": "markdown",
     "metadata": {},
     "source": "If you don't have a list of values the built-in function range() generates lists containing arithmetic progressions which allows you to iterate over a sequence of numbers.\n\nSome example ranges:"
    },
    {
     "cell_type": "code",
     "collapsed": false,
     "input": "print range(10)\n\nprint range(5, 10)\n\nprint range(0, 10, 3)\n\nprint range(7, 2, -2)",
     "language": "python",
     "metadata": {},
     "outputs": []
    },
    {
     "cell_type": "markdown",
     "metadata": {},
     "source": "Looping thorugh ranges"
    },
    {
     "cell_type": "code",
     "collapsed": false,
     "input": "squares = []\nfor x in range(8):\n\n    print x*x",
     "language": "python",
     "metadata": {},
     "outputs": []
    },
    {
     "cell_type": "markdown",
     "metadata": {},
     "source": "List comprehension alternative"
    },
    {
     "cell_type": "code",
     "collapsed": false,
     "input": "squares = [x*x for x in range(1,8)]\n\nprint squares",
     "language": "python",
     "metadata": {},
     "outputs": []
    },
    {
     "cell_type": "markdown",
     "metadata": {},
     "source": "Looping through list indices"
    },
    {
     "cell_type": "code",
     "collapsed": false,
     "input": "ids = ['NA06984', 'NA06985', 'NA06986', 'NA06989', 'NA06991']\n\nfor id in range(len(ids)):\n    print id, ids[id]",
     "language": "python",
     "metadata": {},
     "outputs": []
    },
    {
     "cell_type": "markdown",
     "metadata": {},
     "source": "Looping through indices for two lists"
    },
    {
     "cell_type": "code",
     "collapsed": false,
     "input": "more_ids = ['NA06993', 'NA06994', 'NA06995', 'NA06997', 'NA07000']\nfor id in range(len(ids)):\n\n    print id, ids[id], more_ids[id]",
     "language": "python",
     "metadata": {},
     "outputs": []
    },
    {
     "cell_type": "markdown",
     "metadata": {},
     "source": "Using enumerate:\n\nGiven a sequence enumerate() will return an enumerate object. Using the next() method on the enumerate object returns a tuple containing a count value which starts from 0 and the value in the sequence."
    },
    {
     "cell_type": "code",
     "collapsed": false,
     "input": "for n, id in enumerate(ids):\n    \n    print n, id, more_ids[n]",
     "language": "python",
     "metadata": {},
     "outputs": []
    },
    {
     "cell_type": "markdown",
     "metadata": {},
     "source": "Using zip:\n\nzip() returns a list of tuples, where the i-th tuple contains the i-th element from each of the argument sequences or iterables. The returned list is truncated in length to the length of the shortest argument sequence."
    },
    {
     "cell_type": "code",
     "collapsed": false,
     "input": "for (id_a, id_b) in zip(ids, more_ids):\n    print id_a, id_b",
     "language": "python",
     "metadata": {},
     "outputs": []
    },
    {
     "cell_type": "markdown",
     "metadata": {},
     "source": "Copy lists before modifying in loops"
    },
    {
     "cell_type": "code",
     "collapsed": false,
     "input": "  citiesCopy = cities[:]\n  for city in cities:\n    if getPopulation(city) < 10000:\n      citiesCopy.remove(city)\n  cities = citiesCopy",
     "language": "python",
     "metadata": {},
     "outputs": []
    },
    {
     "cell_type": "markdown",
     "metadata": {},
     "source": "Filtered lists in loops"
    },
    {
     "cell_type": "code",
     "collapsed": false,
     "input": "  citiesOk = []\n  for city in cities:\n    if getPopulation(city) >= 10000:\n      citiesOk.append(city)\n  cities = citiesOk",
     "language": "python",
     "metadata": {},
     "outputs": []
    },
    {
     "cell_type": "markdown",
     "metadata": {},
     "source": "Filtering in a list comprehension loop"
    },
    {
     "cell_type": "code",
     "collapsed": false,
     "input": "cities = [city for city in cities if getPopulation(city) >= 10000]",
     "language": "python",
     "metadata": {},
     "outputs": []
    },
    {
     "cell_type": "markdown",
     "metadata": {},
     "source": "Looping through dictionary keys"
    },
    {
     "cell_type": "code",
     "collapsed": false,
     "input": "total = 0\n  for city in populationDict:\n    total += populationDict[city]",
     "language": "python",
     "metadata": {},
     "outputs": []
    },
    {
     "cell_type": "markdown",
     "metadata": {},
     "source": "Cannot modify dictionary (keys) while looping through:"
    },
    {
     "cell_type": "code",
     "collapsed": false,
     "input": "for city in populationDict:\n  citizens = populationDict[city]\n\n  if citizens < 5000:\n    del populationDict[city] # raises RuntimeError\n",
     "language": "python",
     "metadata": {},
     "outputs": []
    },
    {
     "cell_type": "code",
     "collapsed": false,
     "input": "",
     "language": "python",
     "metadata": {},
     "outputs": []
    },
    {
     "cell_type": "markdown",
     "metadata": {},
     "source": "The while loop executes a block of code for as long as a condition remains true.\n\nThe while loop will only be entered if the logial test is initally true, so it is possible to have a while loop that does not get run.\n\nThe while loop code block must include a method for altering the vaue under test otherwise your code will get stuck in an infinate loop."
    },
    {
     "cell_type": "code",
     "collapsed": false,
     "input": "i = 0\nwhile (i < 5):\n    print i\n    i = i + 1;",
     "language": "python",
     "metadata": {},
     "outputs": []
    },
    {
     "cell_type": "heading",
     "level": 2,
     "metadata": {},
     "source": "Exercises"
    },
    {
     "cell_type": "heading",
     "level": 2,
     "metadata": {},
     "source": "Exceptions"
    },
    {
     "cell_type": "markdown",
     "metadata": {},
     "source": "Even if a statement or expression is syntactically correct, it may cause an error when an attempt is made to execute it. Errors detected during execution are called exceptions and unless handled by programs result in error messages.\n\nFor example:"
    },
    {
     "cell_type": "code",
     "collapsed": false,
     "input": "x = 1/0",
     "language": "python",
     "metadata": {},
     "outputs": []
    },
    {
     "cell_type": "markdown",
     "metadata": {},
     "source": "It is possible to write programs that handle selected exceptions using a try statement.\n\n* Code that might throw an exception is entered into the try block and is executed.\n* If no exception occurs, the except clause is skipped and execution of the try statement is finished.\n* If an exception occurs during execution of the try clause, the rest of the clause is skipped. Then if its type matches the exception named after the except keyword, the except clause is executed, and then execution continues after the try statement.\n* If an exception occurs which does not match the exception named in the except clause, it is passed on to outer try statements; if no handler is found, it is an unhandled exception and execution stops with a message as shown above.\n"
    },
    {
     "cell_type": "code",
     "collapsed": false,
     "input": "x = 1 \ny = 0 \n\ntry:\n    z = x + y \n    w = x / y \n    t = x * y \n\nexcept ZeroDivisionError:\n    \n    print \"divided by zero\"\n\nprint \"program did not stop\"",
     "language": "python",
     "metadata": {},
     "outputs": []
    },
    {
     "cell_type": "markdown",
     "metadata": {},
     "source": "The error object"
    },
    {
     "cell_type": "code",
     "collapsed": false,
     "input": "x = 1 \ny = 0 \n\ntry: \n    w = x / y \n\nexcept ZeroDivisionError, errorObj: \n    print errorObj\n    \nprint \"program did not stop\"",
     "language": "python",
     "metadata": {},
     "outputs": []
    },
    {
     "cell_type": "markdown",
     "metadata": {},
     "source": "Common programming actions that throw exceptions:\n\n* opening a file\n* reading from a file"
    },
    {
     "cell_type": "markdown",
     "metadata": {},
     "source": "Multiple detection\n\n* A try statement may have more than one except clause, to specify handlers for different exceptions. At most one handler will be executed. Handlers only handle exceptions that occur in the corresponding try clause, not in other handlers of the same try statement. An except clause may name multiple exceptions as a parenthesized tuple, for example:"
    },
    {
     "cell_type": "code",
     "collapsed": false,
     "input": "try:\n    w = x / y\nexcept ZeroDivisionError, errorObj:\n    print \"divided by zero\", errorObj\nexcept TypeError, errorObj:\n    print \"divided by something silly\", errorObj",
     "language": "python",
     "metadata": {},
     "outputs": []
    },
    {
     "cell_type": "markdown",
     "metadata": {},
     "source": "Putting it all together"
    },
    {
     "cell_type": "code",
     "collapsed": false,
     "input": "try:\n    w = x / y\nexcept ZeroDivisionError, e:\n    print \"divided by zero\"\nfinally:\n    print \"finished with division\"",
     "language": "python",
     "metadata": {},
     "outputs": []
    },
    {
     "cell_type": "markdown",
     "metadata": {},
     "source": "Raising you own exceptions"
    },
    {
     "cell_type": "code",
     "collapsed": false,
     "input": "if y <= 0: \n    raise Exception(\"y must be > 0\")",
     "language": "python",
     "metadata": {},
     "outputs": []
    },
    {
     "cell_type": "markdown",
     "metadata": {},
     "source": "Handling exceptions before raise"
    },
    {
     "cell_type": "code",
     "collapsed": false,
     "input": "try:\n    w = x / y\nexcept ZeroDivisionError, errorObj:\n    print \"Program quitting due to zero division\"\n    # do some last moment clean-up\n    raise errorObj",
     "language": "python",
     "metadata": {},
     "outputs": []
    },
    {
     "cell_type": "code",
     "collapsed": false,
     "input": "Finally: always execute regardless of exceptions (typically cleanup code)",
     "language": "python",
     "metadata": {},
     "outputs": []
    },
    {
     "cell_type": "code",
     "collapsed": false,
     "input": "try: \n    w = x / y \n    \nfinally: \n    print \"finished with division\"",
     "language": "python",
     "metadata": {},
     "outputs": []
    },
    {
     "cell_type": "heading",
     "level": 2,
     "metadata": {},
     "source": "Exercises"
    },
    {
     "cell_type": "heading",
     "level": 2,
     "metadata": {},
     "source": "Importing libraries"
    },
    {
     "cell_type": "markdown",
     "metadata": {},
     "source": "Get a standard module"
    },
    {
     "cell_type": "code",
     "collapsed": false,
     "input": "import sys",
     "language": "python",
     "metadata": {},
     "outputs": []
    },
    {
     "cell_type": "markdown",
     "metadata": {},
     "source": "Accessing module with dot notation"
    },
    {
     "cell_type": "code",
     "collapsed": false,
     "input": "arguments = sys.argv\n\nprint arguments",
     "language": "python",
     "metadata": {},
     "outputs": []
    },
    {
     "cell_type": "markdown",
     "metadata": {},
     "source": "Accessing sub-components directly"
    },
    {
     "cell_type": "code",
     "collapsed": false,
     "input": "from sys import argv\n\narguments = argv\n\nprint arguments",
     "language": "python",
     "metadata": {},
     "outputs": []
    },
    {
     "cell_type": "code",
     "collapsed": false,
     "input": "Multiple components",
     "language": "python",
     "metadata": {},
     "outputs": []
    },
    {
     "cell_type": "code",
     "collapsed": false,
     "input": "from sys import argv, exit",
     "language": "python",
     "metadata": {},
     "outputs": []
    },
    {
     "cell_type": "code",
     "collapsed": false,
     "input": "from sys import argv \nfrom sys import exit",
     "language": "python",
     "metadata": {},
     "outputs": []
    },
    {
     "cell_type": "markdown",
     "metadata": {},
     "source": "Listing module contents:"
    },
    {
     "cell_type": "code",
     "collapsed": false,
     "input": "dir(sys)",
     "language": "python",
     "metadata": {},
     "outputs": []
    },
    {
     "cell_type": "markdown",
     "metadata": {},
     "source": "String instance"
    },
    {
     "cell_type": "code",
     "collapsed": false,
     "input": "dir(\"mystring\") ",
     "language": "python",
     "metadata": {},
     "outputs": []
    },
    {
     "cell_type": "markdown",
     "metadata": {},
     "source": "String class"
    },
    {
     "cell_type": "code",
     "collapsed": false,
     "input": "dir(str)",
     "language": "python",
     "metadata": {},
     "outputs": []
    },
    {
     "cell_type": "markdown",
     "metadata": {},
     "source": "Quick help on methods:"
    },
    {
     "cell_type": "code",
     "collapsed": false,
     "input": "help(str.title)",
     "language": "python",
     "metadata": {},
     "outputs": []
    },
    {
     "cell_type": "heading",
     "level": 2,
     "metadata": {},
     "source": "Exercises"
    },
    {
     "cell_type": "code",
     "collapsed": false,
     "input": "",
     "language": "python",
     "metadata": {},
     "outputs": []
    }
   ],
   "metadata": {}
  }
 ]
}