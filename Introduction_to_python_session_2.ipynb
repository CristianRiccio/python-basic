{
 "metadata": {
  "name": "Untitled0"
 },
 "nbformat": 3,
 "nbformat_minor": 0,
 "worksheets": [
  {
   "cells": [
    {
     "cell_type": "heading",
     "level": 2,
     "metadata": {},
     "source": "Program control and logic"
    },
    {
     "cell_type": "markdown",
     "metadata": {},
     "source": "Block scope diagram\n\nStatement 1:\n\n    Command A \u2013 in the block of statement 1\n    Command B \u2013 in the block of statement 1\n  \n    Statement 2:\n        Command C \u2013 in the block of statement 2\n        Command D \u2013 in the block of statement 2\n  \n    Command E \u2013 back in the block of statement 1\n\nCommand F \u2013 outside all statement blocks\n"
    },
    {
     "cell_type": "heading",
     "level": 2,
     "metadata": {},
     "source": "Conditions, comparison and logic"
    },
    {
     "cell_type": "markdown",
     "metadata": {},
     "source": "If, else, else if\n\n  if conditionalExpression1:\n    \n    # codeBlock1\n\n  elif conditionalExpression2:\n   \n    # codeBlock2\n \n     +any number of additional elif statements, then finally:\n\n  elif conditionalExpressionN:\n    \n    # codeBlockN\n\n  else:\n    \n    # codeBlockE\n\nPlaceholders are needed for \u201cempty\u201d code blocks:\n\n  if someExpression:\n    \n    pass                  # fill code in later"
    },
    {
     "cell_type": "markdown",
     "metadata": {},
     "source": "\nThings that are false\n\n*  None                              # nothingness\n*  False             # False Boolean\n*  0                 # 0 integer\n*  0.0               # 0.0 floating point\n*  \u201d\u201d                # empty string\n*  ()                # empty tuple\n*  []                # empty list\n*  {}                # empty dictionary\n*  set(())           # empty set\n*  frozenset(())     # empty frozen set\n"
    },
    {
     "cell_type": "markdown",
     "metadata": {},
     "source": "Comparison operators\n\n*  x > y                   # x greater than y?\n*  x < y                   # x less than y?\n*  x >= y                  # x greater than or equal to y?\n*  x <= y                  # x less than or equal to y?\n*  x == y                  # x equal to y?\n*  x != y                  # x not equal to y?\n"
    },
    {
     "cell_type": "markdown",
     "metadata": {},
     "source": "Object identity operators\n\n*  x is y               # rather than x == y\n*  x is not y           # rather than x != y"
    },
    {
     "cell_type": "code",
     "collapsed": false,
     "input": "x = [123, 54, 92, 87, 33]\ny = x[:]                 # y is a copy of x\ny == x                   # True\ny is x                   # False\n",
     "language": "python",
     "metadata": {},
     "outputs": []
    },
    {
     "cell_type": "markdown",
     "metadata": {},
     "source": "Alternative tests "
    },
    {
     "cell_type": "code",
     "collapsed": false,
     "input": "x = [123, 54, 92, 87, 33]\n\nif len(x) > 10:\n    x.append(999)\nelif len(x) > 3:\n    x.append(888)\nelse:\n    x.append(777)\n    \nprint x",
     "language": "python",
     "metadata": {},
     "outputs": []
    },
    {
     "cell_type": "markdown",
     "metadata": {},
     "source": "One line if-else\n\nexpression1 if conditionalExpression else expression2\n\n"
    },
    {
     "cell_type": "code",
     "collapsed": false,
     "input": "s = x and \"Yes\" or \"No\"\n\ns = \"Yes\" if x else \"No\"",
     "language": "python",
     "metadata": {},
     "outputs": []
    },
    {
     "cell_type": "heading",
     "level": 2,
     "metadata": {},
     "source": "Exercises"
    },
    {
     "cell_type": "heading",
     "level": 2,
     "metadata": {},
     "source": "Loops"
    },
    {
     "cell_type": "markdown",
     "metadata": {},
     "source": "When we have to type, or copy and paste, the same thing multiple times we should use a loop.\n\nThere are two types of loop in Python the first we will look at is called a for loop:"
    },
    {
     "cell_type": "markdown",
     "metadata": {},
     "source": "The for loop in Python iterates over the items of any sequence (a list or a string), in the order that they appear in the sequence."
    },
    {
     "cell_type": "code",
     "collapsed": false,
     "input": "values = [10, -5, 3, -1, 7]\n\nfor v in values:\n    print v",
     "language": "python",
     "metadata": {},
     "outputs": []
    },
    {
     "cell_type": "markdown",
     "metadata": {},
     "source": "Refer to variables outside loop"
    },
    {
     "cell_type": "code",
     "collapsed": false,
     "input": "total = 0\n\nfor v in values:\n    total = total+v\n\nprint total",
     "language": "python",
     "metadata": {},
     "outputs": []
    },
    {
     "cell_type": "markdown",
     "metadata": {},
     "source": "Combine conditions and loops"
    },
    {
     "cell_type": "code",
     "collapsed": false,
     "input": "total = 0\n\nfor v in values:\n    if v >= 0:\n        total += v\n\nprint total",
     "language": "python",
     "metadata": {},
     "outputs": []
    },
    {
     "cell_type": "markdown",
     "metadata": {},
     "source": "Loop control with skipping "
    },
    {
     "cell_type": "code",
     "collapsed": false,
     "input": "total = 0\nfor v in values:\n    if v < 0:\n        continue \t# skip this iteration\n    \n    total += v\n\nprint total",
     "language": "python",
     "metadata": {},
     "outputs": []
    },
    {
     "cell_type": "markdown",
     "metadata": {},
     "source": "Breaking out of loops"
    },
    {
     "cell_type": "code",
     "collapsed": false,
     "input": "total = 0\nfor v in values:\n    if v == 3:\n        break\n\n    total += v\n    \nprint total",
     "language": "python",
     "metadata": {},
     "outputs": []
    },
    {
     "cell_type": "markdown",
     "metadata": {},
     "source": "Using else if no break happens"
    },
    {
     "cell_type": "code",
     "collapsed": false,
     "input": "for v in values:\n    if 5 < v < 10:             # Is x between 5 and 10?\n        foundInRange = True\n        break                    # Do not test any more\n\n    else:\n        foundInRange = False       # Found nothing\n\nprint foundInRange\n",
     "language": "python",
     "metadata": {},
     "outputs": []
    },
    {
     "cell_type": "markdown",
     "metadata": {},
     "source": "If you don't have a list of values the built-in function range() generates lists containing arithmetic progressions which allows you to iterate over a sequence of numbers.\n\nSome example ranges:"
    },
    {
     "cell_type": "code",
     "collapsed": false,
     "input": "print range(10)\n\nprint range(5, 10)\n\nprint range(0, 10, 3)\n\nprint range(7, 2, -2)",
     "language": "python",
     "metadata": {},
     "outputs": []
    },
    {
     "cell_type": "markdown",
     "metadata": {},
     "source": "Looping thorugh ranges"
    },
    {
     "cell_type": "code",
     "collapsed": false,
     "input": "squares = []\nfor x in range(8):\n\n    print x*x",
     "language": "python",
     "metadata": {},
     "outputs": []
    },
    {
     "cell_type": "markdown",
     "metadata": {},
     "source": "List comprehension alternative"
    },
    {
     "cell_type": "code",
     "collapsed": false,
     "input": "squares = [x*x for x in range(1,8)]\n\nprint squares",
     "language": "python",
     "metadata": {},
     "outputs": []
    },
    {
     "cell_type": "markdown",
     "metadata": {},
     "source": "Looping through list indices"
    },
    {
     "cell_type": "code",
     "collapsed": false,
     "input": "ids = ['NA06984', 'NA06985', 'NA06986', 'NA06989', 'NA06991']\n\nfor id in range(len(ids)):\n    print id, ids[id]",
     "language": "python",
     "metadata": {},
     "outputs": []
    },
    {
     "cell_type": "markdown",
     "metadata": {},
     "source": "Looping through indices for two lists"
    },
    {
     "cell_type": "code",
     "collapsed": false,
     "input": "more_ids = ['NA06993', 'NA06994', 'NA06995', 'NA06997', 'NA07000']\nfor id in range(len(ids)):\n\n    print id, ids[id], more_ids[id]",
     "language": "python",
     "metadata": {},
     "outputs": []
    },
    {
     "cell_type": "markdown",
     "metadata": {},
     "source": "Using enumerate:\n\nGiven a sequence enumerate() will return an enumerate object. Using the next() method on the enumerate object returns a tuple containing a count value which starts from 0 and the value in the sequence."
    },
    {
     "cell_type": "code",
     "collapsed": false,
     "input": "for n, id in enumerate(ids):\n    \n    print n, id, more_ids[n]",
     "language": "python",
     "metadata": {},
     "outputs": []
    },
    {
     "cell_type": "markdown",
     "metadata": {},
     "source": "Using zip:\n\nzip() returns a list of tuples, where the i-th tuple contains the i-th element from each of the argument sequences or iterables. The returned list is truncated in length to the length of the shortest argument sequence."
    },
    {
     "cell_type": "code",
     "collapsed": false,
     "input": "for (id_a, id_b) in zip(ids, more_ids):\n    print id_a, id_b",
     "language": "python",
     "metadata": {},
     "outputs": []
    },
    {
     "cell_type": "markdown",
     "metadata": {},
     "source": "Copy lists before modifying in loops"
    },
    {
     "cell_type": "code",
     "collapsed": false,
     "input": "  citiesCopy = cities[:]\n  for city in cities:\n    if getPopulation(city) < 10000:\n      citiesCopy.remove(city)\n  cities = citiesCopy",
     "language": "python",
     "metadata": {},
     "outputs": []
    },
    {
     "cell_type": "markdown",
     "metadata": {},
     "source": "Filtered lists in loops"
    },
    {
     "cell_type": "code",
     "collapsed": false,
     "input": "  citiesOk = []\n  for city in cities:\n    if getPopulation(city) >= 10000:\n      citiesOk.append(city)\n  cities = citiesOk",
     "language": "python",
     "metadata": {},
     "outputs": []
    },
    {
     "cell_type": "markdown",
     "metadata": {},
     "source": "Filtering in a list comprehension loop"
    },
    {
     "cell_type": "code",
     "collapsed": false,
     "input": "cities = [city for city in cities if getPopulation(city) >= 10000]",
     "language": "python",
     "metadata": {},
     "outputs": []
    },
    {
     "cell_type": "markdown",
     "metadata": {},
     "source": "Looping through dictionary keys"
    },
    {
     "cell_type": "code",
     "collapsed": false,
     "input": "total = 0\n  for city in populationDict:\n    total += populationDict[city]",
     "language": "python",
     "metadata": {},
     "outputs": []
    },
    {
     "cell_type": "markdown",
     "metadata": {},
     "source": "Cannot modify dictionary (keys) while looping through:"
    },
    {
     "cell_type": "code",
     "collapsed": false,
     "input": "for city in populationDict:\n  citizens = populationDict[city]\n\n  if citizens < 5000:\n    del populationDict[city] # raises RuntimeError\n",
     "language": "python",
     "metadata": {},
     "outputs": []
    },
    {
     "cell_type": "code",
     "collapsed": false,
     "input": "",
     "language": "python",
     "metadata": {},
     "outputs": []
    },
    {
     "cell_type": "markdown",
     "metadata": {},
     "source": "The while loop executes a block of code for as long as a condition remains true.\n\nThe while loop will only be entered if the logial test is initally true, so it is possible to have a while loop that does not get run.\n\nThe while loop code block must include a method for altering the vaue under test otherwise your code will get stuck in an infinate loop."
    },
    {
     "cell_type": "code",
     "collapsed": false,
     "input": "i = 0\nwhile (i < 5):\n    print i\n    i = i + 1;",
     "language": "python",
     "metadata": {},
     "outputs": []
    },
    {
     "cell_type": "heading",
     "level": 2,
     "metadata": {},
     "source": "Exercises"
    },
    {
     "cell_type": "heading",
     "level": 2,
     "metadata": {},
     "source": "Exceptions"
    },
    {
     "cell_type": "markdown",
     "metadata": {},
     "source": "x = 1/0   # Throws a ZeroDivisionError\n\nTry, except\n\n  try:\n    # code block that might throw an exception\n  except:\n    # exception handling code\n\n  # maybe let the program continue  \n\nCatching a particular exception\n\n  x = 1\n  y = 0\n  try:\n    z = x + y\n    w = x / y\n    t = x * y\n  except ZeroDivisionError:\n    print \u2018divided by zero\u2019\n\n  print \u2018program did not stop\u2019\n\nThe error object\n\n  x = 1\n  y = 0\n  try:\n    w = x / y\n  except ZeroDivisionError, errorObj:\n    print errorObj   # prints \u2018integer division or modulo by zero\u2019\n\n  print \u2018program did not stop\u2019\n\nHandling exceptions nicely\n\n  try:\n    # code block that might throw an exception\n  except Exception, errorObj:\n    # exception handling code\n\nMultiple detection\n\n  try:\n    w = x / y\n  except ZeroDivisionError, errorObj:\n    print \u2018divided by zero\u2019, errorObj\n  except TypeError, errorObj:\n    print \u2018divided by something silly\u2019, errorObj\n\nRaising you own exceptions\n\n  if x <= 0:\n    raise Exception(\u2018x must be > 0\u2019)\n\nHandling exceptions before raide\n  \n  try:\n    w = x / y\n  except ZeroDivisionError, errorObj:\n    print \u2018Program quitting due to zero division\u2019\n    # do some last moment clean-up\n    raise errorObj\n\nFinally: always execute regardless of exceptions (typically cleanup code)\n\n  try:\n    w = x / y\n  finally:\n    print \u2018finished with division\u2019\n\nPutting it all together\n\n  try:\n    w = x / y\n  except ZeroDivisionError, e:\n    print \u2018divided by zero\u2019\n  finally:\n    print \u2018finished with division\u2019\n\nNew syntax for Python 3\n\n  try:\n    w = x / y\n  except ZeroDivisionError as e:\n    print \u2018divided by zero\u2019, e\n"
    },
    {
     "cell_type": "heading",
     "level": 2,
     "metadata": {},
     "source": "Exercises"
    },
    {
     "cell_type": "heading",
     "level": 2,
     "metadata": {},
     "source": "Importing libraries"
    },
    {
     "cell_type": "markdown",
     "metadata": {},
     "source": "Get a standard module\n\n  import sys\n\nAccessing module with dot notation\n\n  arguments = sys.argv\n\nAccessing sub-components directly\n\n  from sys import argv\n\n  arguments = argv\n\nMultiple components\n\n  from sys import argv, exit\n\n  or\n\n  from sys import argv\n  from sys import exit\n\nModule test code\n\nThus you often see the following in Python modules:\n\n  # implementation code\n\n  if __name__ == \"__main__\":\n    # test code for implementation code\n\nModule example, leading on to functions\n\n  def wordCount(fileName):\n    # implementation\n    # returns word count in fileName\n\n  if __name__ == \"__main__\":\n\n    import sys\n\n    if len(sys.argv) < 2:\n      print \u2018Error: no file name specified\u2019\n      sys.exit()\n\n    fileNames = sys.argv[1:]\n    for fileName in fileNames:\n      print fileName, \u2018word count =\u2019, wordCount(fileName)\n  \nListing module contents:\n\ndir(sys)\n\nWorks with every object, e.g.:\n\ndir(\u201cmystring\u201d) # string instance\ndir(str) # string class\n\n['__add__', '__class__', '__contains__', '__delattr__', '__doc__', '__eq__', '__format__', '__ge__', '__getattribute__', '__getitem__', '__getnewargs__', '__getslice__', '__gt__', '__hash__', '__init__', '__le__', '__len__', '__lt__', '__mod__', '__mul__', '__ne__', '__new__', '__reduce__', '__reduce_ex__', '__repr__', '__rmod__', '__rmul__', '__setattr__', '__sizeof__', '__str__', '__subclasshook__', '_formatter_field_name_split', '_formatter_parser', 'capitalize', 'center', 'count', 'decode', 'encode', 'endswith', 'expandtabs', 'find', 'format', 'index', 'isalnum', 'isalpha', 'isdigit', 'islower', 'isspace', 'istitle', 'isupper', 'join', 'ljust', 'lower', 'lstrip', 'partition', 'replace', 'rfind', 'rindex', 'rjust', 'rpartition', 'rsplit', 'rstrip', 'split', 'splitlines', 'startswith', 'strip', 'swapcase', 'title', 'translate', 'upper', 'zfill']\n\nQuick help on methods:\n\nhelp(str.title)\n\nHelp on method_descriptor: \n \ntitle(...) \n    S.title() -> string "
    },
    {
     "cell_type": "heading",
     "level": 2,
     "metadata": {},
     "source": "Exercises"
    },
    {
     "cell_type": "code",
     "collapsed": false,
     "input": "",
     "language": "python",
     "metadata": {},
     "outputs": []
    }
   ],
   "metadata": {}
  }
 ]
}