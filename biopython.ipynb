{
 "metadata": {
  "name": ""
 },
 "nbformat": 3,
 "nbformat_minor": 0,
 "worksheets": [
  {
   "cells": [
    {
     "cell_type": "code",
     "collapsed": false,
     "input": [
      "from Bio.Seq import Seq\n",
      "my_seq = Seq(\"AGTACACTGGT\")\n",
      "print my_seq\n",
      "print my_seq[10]\n",
      "print my_seq[1:5]\n",
      "print len(my_seq)\n",
      "print my_seq.count( \"A\" )"
     ],
     "language": "python",
     "metadata": {},
     "outputs": [
      {
       "output_type": "stream",
       "stream": "stdout",
       "text": [
        "AGTACACTGGT\n",
        "T\n",
        "GTAC\n",
        "11\n",
        "3\n"
       ]
      }
     ],
     "prompt_number": 35
    },
    {
     "cell_type": "code",
     "collapsed": false,
     "input": [
      "from Bio.SeqUtils import GC, molecular_weight\n",
      "print GC( my_seq )\n",
      "print molecular_weight( my_seq )"
     ],
     "language": "python",
     "metadata": {},
     "outputs": [
      {
       "output_type": "stream",
       "stream": "stdout",
       "text": [
        "45.4545454545\n",
        "3742.0\n"
       ]
      }
     ],
     "prompt_number": 52
    },
    {
     "cell_type": "code",
     "collapsed": false,
     "input": [
      "from Bio.SeqUtils import seq3\n",
      "print seq3( my_seq )\n"
     ],
     "language": "python",
     "metadata": {},
     "outputs": [
      {
       "output_type": "stream",
       "stream": "stdout",
       "text": [
        "AlaGlyThrAlaCysAlaCysThrGlyGlyThr\n"
       ]
      }
     ],
     "prompt_number": 49
    },
    {
     "cell_type": "code",
     "collapsed": false,
     "input": [
      "from Bio.Alphabet import IUPAC\n",
      "my_dna = Seq(\"AGTACATGACTGGTTTAG\", IUPAC.unambiguous_dna)\n",
      "print my_dna\n",
      "print my_dna.alphabet"
     ],
     "language": "python",
     "metadata": {},
     "outputs": [
      {
       "output_type": "stream",
       "stream": "stdout",
       "text": [
        "AGTACATGACTGGTTTAG\n",
        "IUPACUnambiguousDNA()\n"
       ]
      }
     ],
     "prompt_number": 77
    },
    {
     "cell_type": "code",
     "collapsed": false,
     "input": [
      "my_prot = Seq(\"AGTACACTGGT\", IUPAC.protein)\n",
      "print my_prot\n",
      "print my_prot.alphabet"
     ],
     "language": "python",
     "metadata": {},
     "outputs": [
      {
       "output_type": "stream",
       "stream": "stdout",
       "text": [
        "AGTACACTGGT\n",
        "IUPACProtein()\n"
       ]
      }
     ],
     "prompt_number": 55
    },
    {
     "cell_type": "code",
     "collapsed": false,
     "input": [
      "print my_dna + my_seq"
     ],
     "language": "python",
     "metadata": {},
     "outputs": [
      {
       "output_type": "stream",
       "stream": "stdout",
       "text": [
        "AGTACTGAACTGGTTGAAGTACACTGGT\n"
       ]
      }
     ],
     "prompt_number": 70
    },
    {
     "cell_type": "code",
     "collapsed": false,
     "input": [
      "print my_prot + my_seq"
     ],
     "language": "python",
     "metadata": {},
     "outputs": [
      {
       "output_type": "stream",
       "stream": "stdout",
       "text": [
        "AGTACACTGGTAGTACACTGGT\n"
       ]
      }
     ],
     "prompt_number": 71
    },
    {
     "cell_type": "code",
     "collapsed": false,
     "input": [
      "print my_dna + my_prot"
     ],
     "language": "python",
     "metadata": {},
     "outputs": [
      {
       "ename": "TypeError",
       "evalue": "Incompatible alphabets IUPACUnambiguousDNA() and IUPACProtein()",
       "output_type": "pyerr",
       "traceback": [
        "\u001b[0;31m---------------------------------------------------------------------------\u001b[0m\n\u001b[0;31mTypeError\u001b[0m                                 Traceback (most recent call last)",
        "\u001b[0;32m<ipython-input-72-b2e50408c8c6>\u001b[0m in \u001b[0;36m<module>\u001b[0;34m()\u001b[0m\n\u001b[0;32m----> 1\u001b[0;31m \u001b[0;32mprint\u001b[0m \u001b[0mmy_dna\u001b[0m \u001b[0;34m+\u001b[0m \u001b[0mmy_prot\u001b[0m\u001b[0;34m\u001b[0m\u001b[0m\n\u001b[0m",
        "\u001b[0;32m/usr/lib/python2.7/dist-packages/Bio/Seq.pyc\u001b[0m in \u001b[0;36m__add__\u001b[0;34m(self, other)\u001b[0m\n\u001b[1;32m    251\u001b[0m                                                     other.alphabet]):\n\u001b[1;32m    252\u001b[0m                 raise TypeError(\"Incompatible alphabets %s and %s\"\n\u001b[0;32m--> 253\u001b[0;31m                                 % (repr(self.alphabet), repr(other.alphabet)))\n\u001b[0m\u001b[1;32m    254\u001b[0m             \u001b[0;31m#They should be the same sequence type (or one of them is generic)\u001b[0m\u001b[0;34m\u001b[0m\u001b[0;34m\u001b[0m\u001b[0m\n\u001b[1;32m    255\u001b[0m             \u001b[0ma\u001b[0m \u001b[0;34m=\u001b[0m \u001b[0mAlphabet\u001b[0m\u001b[0;34m.\u001b[0m\u001b[0m_consensus_alphabet\u001b[0m\u001b[0;34m(\u001b[0m\u001b[0;34m[\u001b[0m\u001b[0mself\u001b[0m\u001b[0;34m.\u001b[0m\u001b[0malphabet\u001b[0m\u001b[0;34m,\u001b[0m \u001b[0mother\u001b[0m\u001b[0;34m.\u001b[0m\u001b[0malphabet\u001b[0m\u001b[0;34m]\u001b[0m\u001b[0;34m)\u001b[0m\u001b[0;34m\u001b[0m\u001b[0m\n",
        "\u001b[0;31mTypeError\u001b[0m: Incompatible alphabets IUPACUnambiguousDNA() and IUPACProtein()"
       ]
      }
     ],
     "prompt_number": 72
    },
    {
     "cell_type": "code",
     "collapsed": false,
     "input": [
      "my_dna.complement()"
     ],
     "language": "python",
     "metadata": {},
     "outputs": [
      {
       "metadata": {},
       "output_type": "pyout",
       "prompt_number": 78,
       "text": [
        "Seq('TCATGTACTGACCAAATC', IUPACUnambiguousDNA())"
       ]
      }
     ],
     "prompt_number": 78
    },
    {
     "cell_type": "code",
     "collapsed": false,
     "input": [
      "my_dna.reverse_complement()"
     ],
     "language": "python",
     "metadata": {},
     "outputs": [
      {
       "metadata": {},
       "output_type": "pyout",
       "prompt_number": 79,
       "text": [
        "Seq('CTAAACCAGTCATGTACT', IUPACUnambiguousDNA())"
       ]
      }
     ],
     "prompt_number": 79
    },
    {
     "cell_type": "code",
     "collapsed": false,
     "input": [
      "my_dna.transcribe()"
     ],
     "language": "python",
     "metadata": {},
     "outputs": [
      {
       "metadata": {},
       "output_type": "pyout",
       "prompt_number": 80,
       "text": [
        "Seq('AGUACAUGACUGGUUUAG', IUPACUnambiguousRNA())"
       ]
      }
     ],
     "prompt_number": 80
    },
    {
     "cell_type": "code",
     "collapsed": false,
     "input": [
      "my_dna.translate()"
     ],
     "language": "python",
     "metadata": {},
     "outputs": [
      {
       "metadata": {},
       "output_type": "pyout",
       "prompt_number": 81,
       "text": [
        "Seq('ST*LV*', HasStopCodon(IUPACProtein(), '*'))"
       ]
      }
     ],
     "prompt_number": 81
    },
    {
     "cell_type": "code",
     "collapsed": false,
     "input": [
      "my_dna.translate( table = \"Vertebrate Mitochondrial\" )"
     ],
     "language": "python",
     "metadata": {},
     "outputs": [
      {
       "metadata": {},
       "output_type": "pyout",
       "prompt_number": 82,
       "text": [
        "Seq('STWLV*', HasStopCodon(IUPACProtein(), '*'))"
       ]
      }
     ],
     "prompt_number": 82
    },
    {
     "cell_type": "code",
     "collapsed": false,
     "input": [
      "from Bio import SeqIO\n",
      "\n",
      "fileObj = open( \"data/glpa.fa\", \"rU\" )\n",
      "\n",
      "protein = SeqIO.read(fileObj, 'fasta', alphabet = IUPAC.protein)\n",
      "print protein.id\n",
      "print protein.seq\n",
      "print protein.seq.alphabet"
     ],
     "language": "python",
     "metadata": {},
     "outputs": [
      {
       "output_type": "stream",
       "stream": "stdout",
       "text": [
        "swissprot|P02724|GLPA_HUMAN\n",
        "MYGKIIFVLLLSEIVSISASSTTGVAMHTSTSSSVTKSYISSQTNDTHKRDTYAATPRAHEVSEISVRTVYPPEEETGERVQLAHHFSEPEITLIIFGVMAGVIGTILLISYGIRRLIKKSPSDVKPLPSPDTDVPLSSVEIENPETSDQ\n",
        "IUPACProtein()\n"
       ]
      }
     ],
     "prompt_number": 87
    },
    {
     "cell_type": "code",
     "collapsed": false,
     "input": [
      "fileObj = open( \"data/glpa.fa\", \"rU\" )\n",
      "\n",
      "for seq in SeqIO.parse(fileObj, 'fasta', alphabet = IUPAC.protein):\n",
      "    print protein.id\n",
      "    print protein.seq\n",
      "    print protein.seq.alphabet"
     ],
     "language": "python",
     "metadata": {},
     "outputs": [
      {
       "output_type": "stream",
       "stream": "stdout",
       "text": [
        "swissprot|P02724|GLPA_HUMAN\n",
        "MYGKIIFVLLLSEIVSISASSTTGVAMHTSTSSSVTKSYISSQTNDTHKRDTYAATPRAHEVSEISVRTVYPPEEETGERVQLAHHFSEPEITLIIFGVMAGVIGTILLISYGIRRLIKKSPSDVKPLPSPDTDVPLSSVEIENPETSDQ\n",
        "IUPACProtein()\n"
       ]
      }
     ],
     "prompt_number": 99
    },
    {
     "cell_type": "code",
     "collapsed": false,
     "input": [
      "from Bio import Entrez\n",
      "\n",
      "socketObj = Entrez.efetch(db=\"protein\", rettype=\"fasta\",\n",
      "                         id=\"71066805\")\n",
      "dnaObj = SeqIO.read(socketObj, \"fasta\")\n",
      "socketObj.close()\n",
      "\n",
      "print dnaObj.description\n",
      "#print dnaObj.seq\n",
      "print dnaObj.seq.alphabet"
     ],
     "language": "python",
     "metadata": {},
     "outputs": [
      {
       "output_type": "stream",
       "stream": "stdout",
       "text": [
        "gi|71066805|gb|DQ091202.1| Elephas maximus HBB/D gene, complete cds\n",
        "SingleLetterAlphabet()\n"
       ]
      }
     ],
     "prompt_number": 94
    },
    {
     "cell_type": "code",
     "collapsed": false,
     "input": [
      "from Bio import Entrez\n",
      "\n",
      "socketObj = Entrez.efetch(db=\"protein\", rettype=\"gb\",\n",
      "                         id=\"71066805\")\n",
      "dnaObj = SeqIO.read(socketObj, \"gb\")\n",
      "socketObj.close()\n",
      "\n",
      "print dnaObj.description\n",
      "#print dnaObj.seq\n",
      "print dnaObj.seq.alphabet"
     ],
     "language": "python",
     "metadata": {},
     "outputs": [
      {
       "output_type": "stream",
       "stream": "stdout",
       "text": [
        "Elephas maximus HBB/D gene, complete cds.\n",
        "IUPACAmbiguousDNA()\n"
       ]
      }
     ],
     "prompt_number": 95
    },
    {
     "cell_type": "code",
     "collapsed": false,
     "input": [
      "count = SeqIO.convert(\"data/glpa.fa\", \"fasta\", \"data/glpa.cl\", \"clustal\")\n",
      "print count"
     ],
     "language": "python",
     "metadata": {},
     "outputs": [
      {
       "output_type": "stream",
       "stream": "stdout",
       "text": [
        "1\n"
       ]
      }
     ],
     "prompt_number": 96
    },
    {
     "cell_type": "code",
     "collapsed": false,
     "input": [
      "print open( \"data/glpa.cl\" ).read()"
     ],
     "language": "python",
     "metadata": {},
     "outputs": [
      {
       "output_type": "stream",
       "stream": "stdout",
       "text": [
        "CLUSTAL X (1.81) multiple sequence alignment\n",
        "\n",
        "\n",
        "swissprot|P02724|GLPA_HUMAN         MYGKIIFVLLLSEIVSISASSTTGVAMHTSTSSSVTKSYISSQTNDTHKR\n",
        "\n",
        "swissprot|P02724|GLPA_HUMAN         DTYAATPRAHEVSEISVRTVYPPEEETGERVQLAHHFSEPEITLIIFGVM\n",
        "\n",
        "swissprot|P02724|GLPA_HUMAN         AGVIGTILLISYGIRRLIKKSPSDVKPLPSPDTDVPLSSVEIENPETSDQ\n",
        "\n",
        "\n",
        "\n"
       ]
      }
     ],
     "prompt_number": 97
    }
   ],
   "metadata": {}
  }
 ]
}