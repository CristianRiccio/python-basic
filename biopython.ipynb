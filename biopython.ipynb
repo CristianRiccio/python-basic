{
 "metadata": {
  "name": "biopython"
 },
 "nbformat": 3,
 "nbformat_minor": 0,
 "worksheets": [
  {
   "cells": [
    {
     "cell_type": "code",
     "collapsed": false,
     "input": [
      "from Bio.Seq import Seq\n",
      "my_seq = Seq(\"AGTACACTGGT\")\n",
      "print my_seq\n",
      "print my_seq[10]\n",
      "print my_seq[1:5]\n",
      "print len(my_seq)\n",
      "print my_seq.count( \"A\" )"
     ],
     "language": "python",
     "metadata": {},
     "outputs": []
    },
    {
     "cell_type": "code",
     "collapsed": false,
     "input": [
      "from Bio.SeqUtils import GC, molecular_weight\n",
      "print GC( my_seq )\n",
      "print molecular_weight( my_seq )"
     ],
     "language": "python",
     "metadata": {},
     "outputs": []
    },
    {
     "cell_type": "code",
     "collapsed": false,
     "input": [
      "from Bio.SeqUtils import seq3\n",
      "print seq3( my_seq )\n"
     ],
     "language": "python",
     "metadata": {},
     "outputs": []
    },
    {
     "cell_type": "code",
     "collapsed": false,
     "input": [
      "from Bio.Alphabet import IUPAC\n",
      "my_dna = Seq(\"AGTACATGACTGGTTTAG\", IUPAC.unambiguous_dna)\n",
      "print my_dna\n",
      "print my_dna.alphabet"
     ],
     "language": "python",
     "metadata": {},
     "outputs": []
    },
    {
     "cell_type": "code",
     "collapsed": false,
     "input": [
      "my_prot = Seq(\"AGTACACTGGT\", IUPAC.protein)\n",
      "print my_prot\n",
      "print my_prot.alphabet"
     ],
     "language": "python",
     "metadata": {},
     "outputs": []
    },
    {
     "cell_type": "code",
     "collapsed": false,
     "input": [
      "print my_dna + my_seq"
     ],
     "language": "python",
     "metadata": {},
     "outputs": []
    },
    {
     "cell_type": "code",
     "collapsed": false,
     "input": [
      "print my_prot + my_seq"
     ],
     "language": "python",
     "metadata": {},
     "outputs": []
    },
    {
     "cell_type": "code",
     "collapsed": false,
     "input": [
      "print my_dna + my_prot"
     ],
     "language": "python",
     "metadata": {},
     "outputs": []
    },
    {
     "cell_type": "code",
     "collapsed": false,
     "input": [
      "my_dna.complement()"
     ],
     "language": "python",
     "metadata": {},
     "outputs": []
    },
    {
     "cell_type": "code",
     "collapsed": false,
     "input": [
      "my_dna.reverse_complement()"
     ],
     "language": "python",
     "metadata": {},
     "outputs": []
    },
    {
     "cell_type": "code",
     "collapsed": false,
     "input": [
      "my_dna.transcribe()"
     ],
     "language": "python",
     "metadata": {},
     "outputs": []
    },
    {
     "cell_type": "code",
     "collapsed": false,
     "input": [
      "my_dna.translate()"
     ],
     "language": "python",
     "metadata": {},
     "outputs": []
    },
    {
     "cell_type": "code",
     "collapsed": false,
     "input": [
      "my_dna.translate( table = \"Vertebrate Mitochondrial\" )"
     ],
     "language": "python",
     "metadata": {},
     "outputs": []
    },
    {
     "cell_type": "code",
     "collapsed": false,
     "input": [
      "from Bio import SeqIO\n",
      "\n",
      "fileObj = open( \"data/glpa.fa\", \"rU\" )\n",
      "\n",
      "protein = SeqIO.read(fileObj, 'fasta', alphabet = IUPAC.protein)\n",
      "print protein.id\n",
      "print protein.seq\n",
      "print protein.seq.alphabet"
     ],
     "language": "python",
     "metadata": {},
     "outputs": []
    },
    {
     "cell_type": "code",
     "collapsed": false,
     "input": [
      "fileObj = open( \"data/glpa.fa\", \"rU\" )\n",
      "\n",
      "for seq in SeqIO.parse(fileObj, 'fasta', alphabet = IUPAC.protein):\n",
      "    print protein.id\n",
      "    print protein.seq\n",
      "    print protein.seq.alphabet"
     ],
     "language": "python",
     "metadata": {},
     "outputs": []
    },
    {
     "cell_type": "code",
     "collapsed": false,
     "input": [
      "from Bio import Entrez\n",
      "\n",
      "socketObj = Entrez.efetch(db=\"protein\", rettype=\"fasta\",\n",
      "                         id=\"71066805\")\n",
      "dnaObj = SeqIO.read(socketObj, \"fasta\")\n",
      "socketObj.close()\n",
      "\n",
      "print dnaObj.description\n",
      "#print dnaObj.seq\n",
      "print dnaObj.seq.alphabet"
     ],
     "language": "python",
     "metadata": {},
     "outputs": []
    },
    {
     "cell_type": "code",
     "collapsed": false,
     "input": [
      "from Bio import Entrez\n",
      "\n",
      "socketObj = Entrez.efetch(db=\"protein\", rettype=\"gb\",\n",
      "                         id=\"71066805\")\n",
      "dnaObj = SeqIO.read(socketObj, \"gb\")\n",
      "socketObj.close()\n",
      "\n",
      "print dnaObj.description\n",
      "#print dnaObj.seq\n",
      "print dnaObj.seq.alphabet"
     ],
     "language": "python",
     "metadata": {},
     "outputs": []
    },
    {
     "cell_type": "code",
     "collapsed": false,
     "input": [
      "# Read SWISSPROT record\n",
      "from Bio import ExPASy\n",
      "\n",
      "socketObj = ExPASy.get_sprot_raw('HBB_HUMAN')\n",
      "proteinObj = SeqIO.read(socketObj, \"swiss\")\n",
      "socketObj.close()\n",
      "\n",
      "print proteinObj.description\n",
      "print proteinObj.seq"
     ],
     "language": "python",
     "metadata": {},
     "outputs": []
    },
    {
     "cell_type": "code",
     "collapsed": false,
     "input": [
      "count = SeqIO.convert(\"data/glpa.fa\", \"fasta\", \"data/glpa.cl\", \"clustal\")\n",
      "print count"
     ],
     "language": "python",
     "metadata": {},
     "outputs": []
    },
    {
     "cell_type": "code",
     "collapsed": false,
     "input": [
      "print open( \"data/glpa.cl\" ).read()"
     ],
     "language": "python",
     "metadata": {},
     "outputs": []
    }
   ],
   "metadata": {}
  }
 ]
}